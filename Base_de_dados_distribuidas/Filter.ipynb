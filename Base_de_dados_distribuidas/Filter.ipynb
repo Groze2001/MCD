{
 "cells": [
  {
   "cell_type": "code",
   "execution_count": 54,
   "metadata": {},
   "outputs": [],
   "source": [
    "import pandas as pd\n",
    "\n",
    "# Read your datasets\n",
    "movies = pd.read_csv(\"NetFlix.csv\")\n",
    "shares = pd.read_csv(\"nflx_2014_2023.csv\")\n",
    "\n",
    "# Convert \"date_added\" to datetime and reformat to \"yyyy-mm-dd\"\n",
    "movies[\"date_added\"] = pd.to_datetime(movies[\"date_added\"], format=\"%d-%b-%y\", errors=\"coerce\")\n",
    "movies[\"date_added\"] = movies[\"date_added\"].dt.strftime(\"%Y-%m-%d\")\n",
    "movies = movies.drop(columns=['show_id', 'director', \"cast\",\"description\",\"rating\"])\n",
    "\n"
   ]
  },
  {
   "cell_type": "code",
   "execution_count": 55,
   "metadata": {},
   "outputs": [],
   "source": [
    "genres=[]\n",
    "for x in movies[\"genres\"]:\n",
    "    for genre in x.split(\",\"):\n",
    "        genre = genre.strip()\n",
    "        if genre not in genres:\n",
    "            genres.append(genre)\n",
    "\n",
    "genres = pd.DataFrame(genres)"
   ]
  },
  {
   "cell_type": "code",
   "execution_count": 56,
   "metadata": {},
   "outputs": [],
   "source": [
    "def calculate_sum(row):\n",
    "    return ((row['next_day_close'] - row['close'])/row['close']) *100\n",
    "\n",
    "\n",
    "shares['GrowthFromPreviousDay'] = shares.apply(calculate_sum, axis=1)\n",
    "shares= shares.drop(columns=['high', 'low',\"rsi_7\",\"rsi_14\",\"cci_7\",\"cci_14\",\"macd\",\"bollinger\",\"TrueRange\",\"atr_7\",\"atr_14\"])"
   ]
  },
  {
   "cell_type": "code",
   "execution_count": 57,
   "metadata": {},
   "outputs": [],
   "source": [
    "movies.to_csv(\"MoviesAltered.csv\")\n",
    "genres.to_csv(\"genres.csv\")\n",
    "shares.to_csv(\"sharesAltered.csv\")"
   ]
  },
  {
   "cell_type": "code",
   "execution_count": null,
   "metadata": {},
   "outputs": [],
   "source": []
  }
 ],
 "metadata": {
  "kernelspec": {
   "display_name": "Python 3",
   "language": "python",
   "name": "python3"
  },
  "language_info": {
   "codemirror_mode": {
    "name": "ipython",
    "version": 3
   },
   "file_extension": ".py",
   "mimetype": "text/x-python",
   "name": "python",
   "nbconvert_exporter": "python",
   "pygments_lexer": "ipython3",
   "version": "3.12.6"
  }
 },
 "nbformat": 4,
 "nbformat_minor": 2
}
