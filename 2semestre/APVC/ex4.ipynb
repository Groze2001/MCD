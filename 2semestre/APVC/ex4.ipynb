{
 "cells": [
  {
   "cell_type": "code",
   "execution_count": 9,
   "metadata": {},
   "outputs": [],
   "source": [
    "import cv2\n",
    "from ultralytics import YOLO\n",
    "import glob"
   ]
  },
  {
   "cell_type": "code",
   "execution_count": 10,
   "metadata": {},
   "outputs": [],
   "source": [
    "model = YOLO(\"yolo11n.pt\")\n",
    "\n",
    "# caminho para o video a analisar (mudar a gosto)\n",
    "path = \"firehydrants\"\n",
    "\n",
    "\n"
   ]
  },
  {
   "cell_type": "code",
   "execution_count": 11,
   "metadata": {},
   "outputs": [
    {
     "name": "stdout",
     "output_type": "stream",
     "text": [
      "\n",
      "image 1/7 c:\\Users\\User01\\OneDrive\\Desktop\\MCD\\2semestre\\APVC\\firehydrants\\img1.jpeg: 256x640 6 fire hydrants, 62.8ms\n",
      "image 2/7 c:\\Users\\User01\\OneDrive\\Desktop\\MCD\\2semestre\\APVC\\firehydrants\\img2.jpeg: 384x640 1 person, 2 trucks, 1 fire hydrant, 82.4ms\n",
      "image 3/7 c:\\Users\\User01\\OneDrive\\Desktop\\MCD\\2semestre\\APVC\\firehydrants\\img3.jpeg: 640x416 1 person, 1 fire hydrant, 93.2ms\n",
      "image 4/7 c:\\Users\\User01\\OneDrive\\Desktop\\MCD\\2semestre\\APVC\\firehydrants\\img4.jpeg: 448x640 1 person, 1 truck, 1 fire hydrant, 134.8ms\n",
      "image 5/7 c:\\Users\\User01\\OneDrive\\Desktop\\MCD\\2semestre\\APVC\\firehydrants\\img5.jpeg: 480x640 1 car, 2 trucks, 1 fire hydrant, 91.8ms\n",
      "image 6/7 c:\\Users\\User01\\OneDrive\\Desktop\\MCD\\2semestre\\APVC\\firehydrants\\img6.jpeg: 448x640 2 persons, 4 cars, 1 fire hydrant, 1 surfboard, 78.5ms\n",
      "image 7/7 c:\\Users\\User01\\OneDrive\\Desktop\\MCD\\2semestre\\APVC\\firehydrants\\img7.jpeg: 416x640 1 person, 2 buss, 2 trucks, 1 fire hydrant, 104.4ms\n",
      "Speed: 2.5ms preprocess, 92.6ms inference, 1.1ms postprocess per image at shape (1, 3, 416, 640)\n"
     ]
    }
   ],
   "source": [
    "FRAME_SKIP = 1\n",
    "\n",
    "frame_count = 0\n",
    "\n",
    "result = model(\"firehydrants/*.jpeg\")"
   ]
  },
  {
   "cell_type": "code",
   "execution_count": 12,
   "metadata": {},
   "outputs": [
    {
     "name": "stdout",
     "output_type": "stream",
     "text": [
      "{0: 'person', 1: 'bicycle', 2: 'car', 3: 'motorcycle', 4: 'airplane', 5: 'bus', 6: 'train', 7: 'truck', 8: 'boat', 9: 'traffic light', 10: 'fire hydrant', 11: 'stop sign', 12: 'parking meter', 13: 'bench', 14: 'bird', 15: 'cat', 16: 'dog', 17: 'horse', 18: 'sheep', 19: 'cow', 20: 'elephant', 21: 'bear', 22: 'zebra', 23: 'giraffe', 24: 'backpack', 25: 'umbrella', 26: 'handbag', 27: 'tie', 28: 'suitcase', 29: 'frisbee', 30: 'skis', 31: 'snowboard', 32: 'sports ball', 33: 'kite', 34: 'baseball bat', 35: 'baseball glove', 36: 'skateboard', 37: 'surfboard', 38: 'tennis racket', 39: 'bottle', 40: 'wine glass', 41: 'cup', 42: 'fork', 43: 'knife', 44: 'spoon', 45: 'bowl', 46: 'banana', 47: 'apple', 48: 'sandwich', 49: 'orange', 50: 'broccoli', 51: 'carrot', 52: 'hot dog', 53: 'pizza', 54: 'donut', 55: 'cake', 56: 'chair', 57: 'couch', 58: 'potted plant', 59: 'bed', 60: 'dining table', 61: 'toilet', 62: 'tv', 63: 'laptop', 64: 'mouse', 65: 'remote', 66: 'keyboard', 67: 'cell phone', 68: 'microwave', 69: 'oven', 70: 'toaster', 71: 'sink', 72: 'refrigerator', 73: 'book', 74: 'clock', 75: 'vase', 76: 'scissors', 77: 'teddy bear', 78: 'hair drier', 79: 'toothbrush'}\n"
     ]
    }
   ],
   "source": [
    "print(model.names) "
   ]
  },
  {
   "cell_type": "code",
   "execution_count": 13,
   "metadata": {},
   "outputs": [
    {
     "name": "stdout",
     "output_type": "stream",
     "text": [
      "\n",
      "image 1/7 c:\\Users\\User01\\OneDrive\\Desktop\\MCD\\2semestre\\APVC\\firehydrants\\img1.jpeg: 256x640 6 fire hydrants, 61.7ms\n",
      "image 2/7 c:\\Users\\User01\\OneDrive\\Desktop\\MCD\\2semestre\\APVC\\firehydrants\\img2.jpeg: 384x640 1 fire hydrant, 90.8ms\n",
      "image 3/7 c:\\Users\\User01\\OneDrive\\Desktop\\MCD\\2semestre\\APVC\\firehydrants\\img3.jpeg: 640x416 1 fire hydrant, 87.1ms\n",
      "image 4/7 c:\\Users\\User01\\OneDrive\\Desktop\\MCD\\2semestre\\APVC\\firehydrants\\img4.jpeg: 448x640 1 fire hydrant, 75.5ms\n",
      "image 5/7 c:\\Users\\User01\\OneDrive\\Desktop\\MCD\\2semestre\\APVC\\firehydrants\\img5.jpeg: 480x640 1 fire hydrant, 90.2ms\n",
      "image 6/7 c:\\Users\\User01\\OneDrive\\Desktop\\MCD\\2semestre\\APVC\\firehydrants\\img6.jpeg: 448x640 1 fire hydrant, 90.3ms\n",
      "image 7/7 c:\\Users\\User01\\OneDrive\\Desktop\\MCD\\2semestre\\APVC\\firehydrants\\img7.jpeg: 416x640 1 fire hydrant, 65.3ms\n",
      "Speed: 1.9ms preprocess, 80.1ms inference, 1.5ms postprocess per image at shape (1, 3, 416, 640)\n"
     ]
    }
   ],
   "source": [
    "result = model(\"firehydrants/*.jpeg\",classes=[10])"
   ]
  },
  {
   "cell_type": "code",
   "execution_count": null,
   "metadata": {},
   "outputs": [
    {
     "ename": "AttributeError",
     "evalue": "'Results' object has no attribute 'render'. See valid attributes below.\n\n    A class for storing and manipulating inference results.\n\n    This class provides methods for accessing, manipulating, and visualizing inference results from various\n    Ultralytics models, including detection, segmentation, classification, and pose estimation.\n\n    Attributes:\n        orig_img (numpy.ndarray): The original image as a numpy array.\n        orig_shape (Tuple[int, int]): Original image shape in (height, width) format.\n        boxes (Boxes | None): Detected bounding boxes.\n        masks (Masks | None): Segmentation masks.\n        probs (Probs | None): Classification probabilities.\n        keypoints (Keypoints | None): Detected keypoints.\n        obb (OBB | None): Oriented bounding boxes.\n        speed (dict): Dictionary containing inference speed information.\n        names (dict): Dictionary mapping class indices to class names.\n        path (str): Path to the input image file.\n        save_dir (str | None): Directory to save results.\n\n    Methods:\n        update: Updates the Results object with new detection data.\n        cpu: Returns a copy of the Results object with all tensors moved to CPU memory.\n        numpy: Converts all tensors in the Results object to numpy arrays.\n        cuda: Moves all tensors in the Results object to GPU memory.\n        to: Moves all tensors to the specified device and dtype.\n        new: Creates a new Results object with the same image, path, names, and speed attributes.\n        plot: Plots detection results on an input RGB image.\n        show: Displays the image with annotated inference results.\n        save: Saves annotated inference results image to file.\n        verbose: Returns a log string for each task in the results.\n        save_txt: Saves detection results to a text file.\n        save_crop: Saves cropped detection images to specified directory.\n        summary: Converts inference results to a summarized dictionary.\n        to_df: Converts detection results to a Pandas Dataframe.\n        to_json: Converts detection results to JSON format.\n        to_csv: Converts detection results to a CSV format.\n        to_xml: Converts detection results to XML format.\n        to_html: Converts detection results to HTML format.\n        to_sql: Converts detection results to an SQL-compatible format.\n\n    Examples:\n        >>> results = model(\"path/to/image.jpg\")\n        >>> result = results[0]  # Get the first result\n        >>> boxes = result.boxes  # Get the boxes for the first result\n        >>> masks = result.masks  # Get the masks for the first result\n        >>> for result in results:\n        >>>     result.plot()  # Plot detection results\n    ",
     "output_type": "error",
     "traceback": [
      "\u001b[1;31m---------------------------------------------------------------------------\u001b[0m",
      "\u001b[1;31mAttributeError\u001b[0m                            Traceback (most recent call last)",
      "Cell \u001b[1;32mIn[16], line 2\u001b[0m\n\u001b[0;32m      1\u001b[0m \u001b[38;5;28;01mfor\u001b[39;00m res \u001b[38;5;129;01min\u001b[39;00m result:\n\u001b[1;32m----> 2\u001b[0m     cv2\u001b[38;5;241m.\u001b[39mimshow(\u001b[38;5;124m\"\u001b[39m\u001b[38;5;124mresultado\u001b[39m\u001b[38;5;124m\"\u001b[39m, \u001b[43mres\u001b[49m\u001b[38;5;241;43m.\u001b[39;49m\u001b[43mrender\u001b[49m())\n\u001b[0;32m      3\u001b[0m     cv2\u001b[38;5;241m.\u001b[39mwaitKey(\u001b[38;5;241m0\u001b[39m)\n",
      "File \u001b[1;32mc:\\Users\\User01\\AppData\\Local\\Programs\\Python\\Python312\\Lib\\site-packages\\ultralytics\\utils\\__init__.py:240\u001b[0m, in \u001b[0;36mSimpleClass.__getattr__\u001b[1;34m(self, attr)\u001b[0m\n\u001b[0;32m    238\u001b[0m \u001b[38;5;250m\u001b[39m\u001b[38;5;124;03m\"\"\"Custom attribute access error message with helpful information.\"\"\"\u001b[39;00m\n\u001b[0;32m    239\u001b[0m name \u001b[38;5;241m=\u001b[39m \u001b[38;5;28mself\u001b[39m\u001b[38;5;241m.\u001b[39m\u001b[38;5;18m__class__\u001b[39m\u001b[38;5;241m.\u001b[39m\u001b[38;5;18m__name__\u001b[39m\n\u001b[1;32m--> 240\u001b[0m \u001b[38;5;28;01mraise\u001b[39;00m \u001b[38;5;167;01mAttributeError\u001b[39;00m(\u001b[38;5;124mf\u001b[39m\u001b[38;5;124m\"\u001b[39m\u001b[38;5;124m'\u001b[39m\u001b[38;5;132;01m{\u001b[39;00mname\u001b[38;5;132;01m}\u001b[39;00m\u001b[38;5;124m'\u001b[39m\u001b[38;5;124m object has no attribute \u001b[39m\u001b[38;5;124m'\u001b[39m\u001b[38;5;132;01m{\u001b[39;00mattr\u001b[38;5;132;01m}\u001b[39;00m\u001b[38;5;124m'\u001b[39m\u001b[38;5;124m. See valid attributes below.\u001b[39m\u001b[38;5;130;01m\\n\u001b[39;00m\u001b[38;5;132;01m{\u001b[39;00m\u001b[38;5;28mself\u001b[39m\u001b[38;5;241m.\u001b[39m\u001b[38;5;18m__doc__\u001b[39m\u001b[38;5;132;01m}\u001b[39;00m\u001b[38;5;124m\"\u001b[39m)\n",
      "\u001b[1;31mAttributeError\u001b[0m: 'Results' object has no attribute 'render'. See valid attributes below.\n\n    A class for storing and manipulating inference results.\n\n    This class provides methods for accessing, manipulating, and visualizing inference results from various\n    Ultralytics models, including detection, segmentation, classification, and pose estimation.\n\n    Attributes:\n        orig_img (numpy.ndarray): The original image as a numpy array.\n        orig_shape (Tuple[int, int]): Original image shape in (height, width) format.\n        boxes (Boxes | None): Detected bounding boxes.\n        masks (Masks | None): Segmentation masks.\n        probs (Probs | None): Classification probabilities.\n        keypoints (Keypoints | None): Detected keypoints.\n        obb (OBB | None): Oriented bounding boxes.\n        speed (dict): Dictionary containing inference speed information.\n        names (dict): Dictionary mapping class indices to class names.\n        path (str): Path to the input image file.\n        save_dir (str | None): Directory to save results.\n\n    Methods:\n        update: Updates the Results object with new detection data.\n        cpu: Returns a copy of the Results object with all tensors moved to CPU memory.\n        numpy: Converts all tensors in the Results object to numpy arrays.\n        cuda: Moves all tensors in the Results object to GPU memory.\n        to: Moves all tensors to the specified device and dtype.\n        new: Creates a new Results object with the same image, path, names, and speed attributes.\n        plot: Plots detection results on an input RGB image.\n        show: Displays the image with annotated inference results.\n        save: Saves annotated inference results image to file.\n        verbose: Returns a log string for each task in the results.\n        save_txt: Saves detection results to a text file.\n        save_crop: Saves cropped detection images to specified directory.\n        summary: Converts inference results to a summarized dictionary.\n        to_df: Converts detection results to a Pandas Dataframe.\n        to_json: Converts detection results to JSON format.\n        to_csv: Converts detection results to a CSV format.\n        to_xml: Converts detection results to XML format.\n        to_html: Converts detection results to HTML format.\n        to_sql: Converts detection results to an SQL-compatible format.\n\n    Examples:\n        >>> results = model(\"path/to/image.jpg\")\n        >>> result = results[0]  # Get the first result\n        >>> boxes = result.boxes  # Get the boxes for the first result\n        >>> masks = result.masks  # Get the masks for the first result\n        >>> for result in results:\n        >>>     result.plot()  # Plot detection results\n    "
     ]
    }
   ],
   "source": [
    "for res in result:\n",
    "    cv2.imshow(\"resultado\", res)\n",
    "    cv2.waitKey(0)\n"
   ]
  }
 ],
 "metadata": {
  "kernelspec": {
   "display_name": "Python 3",
   "language": "python",
   "name": "python3"
  },
  "language_info": {
   "codemirror_mode": {
    "name": "ipython",
    "version": 3
   },
   "file_extension": ".py",
   "mimetype": "text/x-python",
   "name": "python",
   "nbconvert_exporter": "python",
   "pygments_lexer": "ipython3",
   "version": "3.12.6"
  }
 },
 "nbformat": 4,
 "nbformat_minor": 2
}
