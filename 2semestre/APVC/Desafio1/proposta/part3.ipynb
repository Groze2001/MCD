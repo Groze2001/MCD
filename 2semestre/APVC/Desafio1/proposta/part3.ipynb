{
 "cells": [
  {
   "cell_type": "markdown",
   "metadata": {},
   "source": [
    "### Imports"
   ]
  },
  {
   "cell_type": "code",
   "execution_count": 1,
   "metadata": {},
   "outputs": [],
   "source": [
    "import json\n",
    "import tensorflow as tf\n",
    "import keras as kr\n",
    "import numpy as np\n",
    "import pandas as pd\n",
    "import matplotlib.pyplot as plt\n",
    "import matplotlib.gridspec as gridspec\n",
    "\n",
    "from sklearn.metrics import ConfusionMatrixDisplay\n",
    "from sklearn.metrics import confusion_matrix\n",
    "from sklearn.metrics import accuracy_score\n",
    "\n",
    "from sklearn.model_selection import GridSearchCV\n",
    "from scikeras.wrappers import KerasClassifier"
   ]
  },
  {
   "cell_type": "markdown",
   "metadata": {},
   "source": [
    "### Constants"
   ]
  },
  {
   "cell_type": "code",
   "execution_count": 2,
   "metadata": {},
   "outputs": [],
   "source": [
    "IMG_HEIGHT = 28\n",
    "IMG_WIDTH = 28\n",
    "\n",
    "LABELS = [\n",
    "    \"T-Shirt/Top\",\n",
    "    \"Trouser\",\n",
    "    \"Pullover\",\n",
    "    \"Dress\",\n",
    "    \"Coat\",\n",
    "    \"Sandal\",\n",
    "    \"Shirt\",\n",
    "    \"Sneaker\",\n",
    "    \"Bag\",\n",
    "    \"Boot\"\n",
    "]\n",
    "\n",
    "BIN_LABELS = [\n",
    "    \"Clothing\",\n",
    "    \"Footwear & Bags\"\n",
    "]\n",
    "\n",
    "N_CLASSES = len(LABELS)\n",
    "N_BIN_CLASSES = len(BIN_LABELS) - 1\n",
    "\n",
    "MULTICLASS_WEIGHTS_FILENAME = \"models/best_multiclass_model.weights.h5\"\n",
    "BIN_WEIGHTS_FILENAME = \"models/best_binary_model.weights.h5\"\n",
    "\n",
    "MULTICLASS_HYPERPARAMS_FILENAME = \"models/best_multiclass_model.hyperparams.json\"\n",
    "BIN_HYPERPARAMS_FILENAME = \"models/best_binary_model.hyperparams.json\"\n",
    "\n",
    "SEED = 12345"
   ]
  },
  {
   "cell_type": "markdown",
   "metadata": {},
   "source": [
    "## Test Samples Loading"
   ]
  },
  {
   "cell_type": "code",
   "execution_count": 3,
   "metadata": {},
   "outputs": [],
   "source": [
    "# Load dataset FASHION_MNIST\n",
    "dataset = kr.datasets.fashion_mnist\n",
    "(x_train_full, y_train_full), (x_test, y_test) = dataset.load_data()\n",
    "x_test = x_test / 255.\n",
    "\n",
    "# Binarize and split labels into training and validation\n",
    "y_test_bin = np.where(np.isin(y_test, [0, 1, 2, 3, 4, 6]), 0, 1)\n",
    "\n",
    "# One-hot encode labels\n",
    "y_test_mx = kr.utils.to_categorical(y_test, N_CLASSES)"
   ]
  },
  {
   "cell_type": "markdown",
   "metadata": {},
   "source": [
    "## Load ANN Models"
   ]
  },
  {
   "cell_type": "code",
   "execution_count": 4,
   "metadata": {},
   "outputs": [
    {
     "name": "stderr",
     "output_type": "stream",
     "text": [
      "2025-03-04 20:20:50.434025: I metal_plugin/src/device/metal_device.cc:1154] Metal device set to: Apple M3 Pro\n",
      "2025-03-04 20:20:50.434053: I metal_plugin/src/device/metal_device.cc:296] systemMemory: 18.00 GB\n",
      "2025-03-04 20:20:50.434057: I metal_plugin/src/device/metal_device.cc:313] maxCacheSize: 6.00 GB\n",
      "WARNING: All log messages before absl::InitializeLog() is called are written to STDERR\n",
      "I0000 00:00:1741119650.434516 2285670 pluggable_device_factory.cc:305] Could not identify NUMA node of platform GPU ID 0, defaulting to 0. Your kernel may not have been built with NUMA support.\n",
      "I0000 00:00:1741119650.434851 2285670 pluggable_device_factory.cc:271] Created TensorFlow device (/job:localhost/replica:0/task:0/device:GPU:0 with 0 MB memory) -> physical PluggableDevice (device: 0, name: METAL, pci bus id: <undefined>)\n"
     ]
    }
   ],
   "source": [
    "# Network models initialization\n",
    "initializer = kr.initializers.RandomNormal(mean=0.0, stddev=0.05, seed=SEED)\n",
    "\n",
    "# Declare models\n",
    "multiclass_fashion_model = kr.Sequential([\n",
    "    kr.layers.Input(shape=(IMG_WIDTH, IMG_HEIGHT)),\n",
    "    kr.layers.Flatten(),\n",
    "    kr.layers.Dense((IMG_WIDTH * IMG_HEIGHT + N_CLASSES) * 2 // 3, activation='relu', kernel_initializer=initializer),\n",
    "    kr.layers.Dense(N_CLASSES, activation='softmax', kernel_initializer=initializer)\n",
    "], name=\"Fashion_MNIST_Multiclass_Model\")\n",
    "\n",
    "\n",
    "binary_fashion_model = kr.Sequential([\n",
    "    kr.layers.Input(shape=(IMG_WIDTH, IMG_HEIGHT)),\n",
    "    kr.layers.Flatten(),\n",
    "    kr.layers.Dense((IMG_WIDTH * IMG_HEIGHT + N_BIN_CLASSES) * 2 // 3, activation='relu', kernel_initializer=initializer),\n",
    "    kr.layers.Dense(N_BIN_CLASSES, activation='sigmoid', kernel_initializer=initializer)\n",
    "], name=\"Fashion_MNIST_Binary_Model\")\n",
    "\n",
    "# Load weights\n",
    "multiclass_fashion_model.load_weights(MULTICLASS_WEIGHTS_FILENAME)\n",
    "binary_fashion_model.load_weights(BIN_WEIGHTS_FILENAME)\n",
    "\n",
    "# Load best parameters\n",
    "with open(MULTICLASS_HYPERPARAMS_FILENAME, \"r\") as file:\n",
    "    multiclass_best_params = json.load(file)\n",
    "\n",
    "with open(BIN_HYPERPARAMS_FILENAME, \"r\") as file:\n",
    "    bin_best_params = json.load(file)\n",
    "\n",
    "# Compile models\n",
    "multiclass_fashion_model.compile(\n",
    "    loss=\"categorical_crossentropy\",\n",
    "    optimizer=kr.optimizers.Adam(learning_rate=multiclass_best_params[\"model__learning_rate\"]),\n",
    "    metrics=[\"accuracy\"]\n",
    ")\n",
    "\n",
    "binary_fashion_model.compile(\n",
    "    loss=\"binary_crossentropy\",\n",
    "    optimizer=kr.optimizers.Adam(learning_rate=bin_best_params[\"model__learning_rate\"]),\n",
    "    metrics=[\"accuracy\"]\n",
    ")"
   ]
  },
  {
   "cell_type": "markdown",
   "metadata": {},
   "source": [
    "### Multiclass model prediction binarized"
   ]
  },
  {
   "cell_type": "code",
   "execution_count": 5,
   "metadata": {},
   "outputs": [
    {
     "name": "stderr",
     "output_type": "stream",
     "text": [
      "2025-03-04 20:20:50.655768: I tensorflow/core/grappler/optimizers/custom_graph_optimizer_registry.cc:117] Plugin optimizer for device_type GPU is enabled.\n"
     ]
    }
   ],
   "source": [
    "# Predict the test set\n",
    "y_pred_m_bin = multiclass_fashion_model.predict(x_test, verbose=0)\n",
    "y_pred_m_bin = np.argmax(y_pred_m_bin, axis=1)\n",
    "\n",
    "# Binarize the predictions\n",
    "y_pred_m_bin = np.where(np.isin(y_pred_m_bin, [0, 1, 2, 3, 4, 6]), 0, 1)\n",
    "\n",
    "# Evaluate the model\n",
    "bin_multiclass_test_loss, bin_multiclass_test_acc = multiclass_fashion_model.evaluate(x_test, y_test_mx, verbose=0)\n",
    "\n",
    "# Calculate the confusion matrix\n",
    "bin_multiclass_cm = confusion_matrix(y_test_bin, y_pred_m_bin)\n",
    "\n",
    "# Calculate recall and precision metrics\n",
    "bin_multiclass_recall = np.diag(bin_multiclass_cm) / np.sum(bin_multiclass_cm, axis=1)\n",
    "bin_multiclass_precision = np.diag(bin_multiclass_cm) / np.sum(bin_multiclass_cm, axis=0)"
   ]
  },
  {
   "cell_type": "markdown",
   "metadata": {},
   "source": [
    "### Binary model prediction"
   ]
  },
  {
   "cell_type": "code",
   "execution_count": 6,
   "metadata": {},
   "outputs": [],
   "source": [
    "# Predict the test set\n",
    "y_pred_bin = binary_fashion_model.predict(x_test, verbose=0)\n",
    "\n",
    "# Higher greater or equal to 0.5 the model predicts Footwear & Bags, lower than 0.5, Clothing is predicted\n",
    "y_pred_bin = np.where(y_pred_bin >= 0.5, 1, 0)\n",
    "\n",
    "# Evaluate the model\n",
    "bin_test_loss, bin_test_acc = binary_fashion_model.evaluate(x_test, y_test_bin, verbose=0)\n",
    "\n",
    "# Calculate the confusion matrix\n",
    "bin_cm = confusion_matrix(y_test_bin, y_pred_bin)\n",
    "\n",
    "# Calculate recall and precision metrics\n",
    "bin_recall = np.diag(bin_cm) / np.sum(bin_cm, axis=1)\n",
    "bin_precision = np.diag(bin_cm) / np.sum(bin_cm, axis=0)"
   ]
  },
  {
   "cell_type": "markdown",
   "metadata": {},
   "source": [
    "## Model Evaluation"
   ]
  },
  {
   "cell_type": "code",
   "execution_count": 7,
   "metadata": {},
   "outputs": [
    {
     "data": {
      "application/vnd.microsoft.datawrangler.viewer.v0+json": {
       "columns": [
        {
         "name": "index",
         "rawType": "int64",
         "type": "integer"
        },
        {
         "name": "Model",
         "rawType": "object",
         "type": "string"
        },
        {
         "name": "Test Loss",
         "rawType": "float64",
         "type": "float"
        },
        {
         "name": "Test Accuracy",
         "rawType": "float64",
         "type": "float"
        }
       ],
       "conversionMethod": "pd.DataFrame",
       "ref": "d25d9ed6-8025-432a-b1c4-24470e01b1ae",
       "rows": [
        [
         "0",
         "Multiclass binarized",
         "0.4376",
         "0.8467"
        ],
        [
         "1",
         "Binary",
         "0.0368",
         "0.9902"
        ]
       ],
       "shape": {
        "columns": 3,
        "rows": 2
       }
      },
      "text/html": [
       "<div>\n",
       "<style scoped>\n",
       "    .dataframe tbody tr th:only-of-type {\n",
       "        vertical-align: middle;\n",
       "    }\n",
       "\n",
       "    .dataframe tbody tr th {\n",
       "        vertical-align: top;\n",
       "    }\n",
       "\n",
       "    .dataframe thead th {\n",
       "        text-align: right;\n",
       "    }\n",
       "</style>\n",
       "<table border=\"1\" class=\"dataframe\">\n",
       "  <thead>\n",
       "    <tr style=\"text-align: right;\">\n",
       "      <th></th>\n",
       "      <th>Model</th>\n",
       "      <th>Test Loss</th>\n",
       "      <th>Test Accuracy</th>\n",
       "    </tr>\n",
       "  </thead>\n",
       "  <tbody>\n",
       "    <tr>\n",
       "      <th>0</th>\n",
       "      <td>Multiclass binarized</td>\n",
       "      <td>0.4376</td>\n",
       "      <td>0.8467</td>\n",
       "    </tr>\n",
       "    <tr>\n",
       "      <th>1</th>\n",
       "      <td>Binary</td>\n",
       "      <td>0.0368</td>\n",
       "      <td>0.9902</td>\n",
       "    </tr>\n",
       "  </tbody>\n",
       "</table>\n",
       "</div>"
      ],
      "text/plain": [
       "                  Model  Test Loss  Test Accuracy\n",
       "0  Multiclass binarized     0.4376         0.8467\n",
       "1                Binary     0.0368         0.9902"
      ]
     },
     "execution_count": 7,
     "metadata": {},
     "output_type": "execute_result"
    }
   ],
   "source": [
    "results_table = pd.DataFrame({\n",
    "    'Model': ['Multiclass binarized', 'Binary'],\n",
    "    'Test Loss': np.round([bin_multiclass_test_loss, bin_test_loss], 4),\n",
    "    'Test Accuracy': np.round([bin_multiclass_test_acc, bin_test_acc], 4)\n",
    "})\n",
    "\n",
    "results_table"
   ]
  },
  {
   "cell_type": "markdown",
   "metadata": {},
   "source": [
    "### Models recall and precision"
   ]
  },
  {
   "cell_type": "code",
   "execution_count": 8,
   "metadata": {},
   "outputs": [
    {
     "data": {
      "application/vnd.microsoft.datawrangler.viewer.v0+json": {
       "columns": [
        {
         "name": "index",
         "rawType": "int64",
         "type": "integer"
        },
        {
         "name": "Model",
         "rawType": "object",
         "type": "string"
        },
        {
         "name": "Label",
         "rawType": "object",
         "type": "string"
        },
        {
         "name": "Recall (%)",
         "rawType": "float64",
         "type": "float"
        },
        {
         "name": "Precision (%)",
         "rawType": "float64",
         "type": "float"
        }
       ],
       "conversionMethod": "pd.DataFrame",
       "ref": "8fe24f0a-f904-44b7-b8de-6a058c37658f",
       "rows": [
        [
         "0",
         "Multiclass binarized",
         "Clothing",
         "99.0",
         "99.0"
        ],
        [
         "1",
         "Binary",
         "Footwear & Bags",
         "99.0",
         "99.0"
        ]
       ],
       "shape": {
        "columns": 4,
        "rows": 2
       }
      },
      "text/html": [
       "<div>\n",
       "<style scoped>\n",
       "    .dataframe tbody tr th:only-of-type {\n",
       "        vertical-align: middle;\n",
       "    }\n",
       "\n",
       "    .dataframe tbody tr th {\n",
       "        vertical-align: top;\n",
       "    }\n",
       "\n",
       "    .dataframe thead th {\n",
       "        text-align: right;\n",
       "    }\n",
       "</style>\n",
       "<table border=\"1\" class=\"dataframe\">\n",
       "  <thead>\n",
       "    <tr style=\"text-align: right;\">\n",
       "      <th></th>\n",
       "      <th>Model</th>\n",
       "      <th>Label</th>\n",
       "      <th>Recall (%)</th>\n",
       "      <th>Precision (%)</th>\n",
       "    </tr>\n",
       "  </thead>\n",
       "  <tbody>\n",
       "    <tr>\n",
       "      <th>0</th>\n",
       "      <td>Multiclass binarized</td>\n",
       "      <td>Clothing</td>\n",
       "      <td>99.0</td>\n",
       "      <td>99.0</td>\n",
       "    </tr>\n",
       "    <tr>\n",
       "      <th>1</th>\n",
       "      <td>Binary</td>\n",
       "      <td>Footwear &amp; Bags</td>\n",
       "      <td>99.0</td>\n",
       "      <td>99.0</td>\n",
       "    </tr>\n",
       "  </tbody>\n",
       "</table>\n",
       "</div>"
      ],
      "text/plain": [
       "                  Model            Label  Recall (%)  Precision (%)\n",
       "0  Multiclass binarized         Clothing        99.0           99.0\n",
       "1                Binary  Footwear & Bags        99.0           99.0"
      ]
     },
     "execution_count": 8,
     "metadata": {},
     "output_type": "execute_result"
    }
   ],
   "source": [
    "# Create a table to show each label's recall and precision\n",
    "recall_precision_table = pd.DataFrame({\n",
    "    'Model': ['Multiclass binarized', 'Binary'],\n",
    "    'Label': BIN_LABELS,\n",
    "    'Recall (%)': np.round(np.multiply([np.mean(bin_multiclass_recall), np.mean(bin_recall)], 100), 1),\n",
    "    'Precision (%)': np.round(np.multiply([np.mean(bin_multiclass_precision), np.mean(bin_precision)], 100), 1)\n",
    "})\n",
    "\n",
    "recall_precision_table"
   ]
  },
  {
   "cell_type": "markdown",
   "metadata": {},
   "source": [
    "### Models confusion matrix"
   ]
  },
  {
   "cell_type": "code",
   "execution_count": 9,
   "metadata": {},
   "outputs": [
    {
     "data": {
      "image/png": "[encoded data removed]",
      "text/plain": [
       "<Figure size 1200x500 with 4 Axes>"
      ]
     },
     "metadata": {},
     "output_type": "display_data"
    }
   ],
   "source": [
    "fig, ax = plt.subplots(1, 2, figsize=(12, 5))\n",
    "\n",
    "ConfusionMatrixDisplay(bin_multiclass_cm, display_labels=[\"Clothing\", \"Footwear & Bags\"]).plot(cmap=plt.colormaps['Oranges'], xticks_rotation=45, ax=ax[0])\n",
    "ax[0].set_title('Multiclass Binarized Model')\n",
    "\n",
    "ConfusionMatrixDisplay(bin_cm, display_labels=[\"Clothing\", \"Footwear & Bags\"]).plot(cmap=plt.colormaps['Oranges'], xticks_rotation=45, ax=ax[1])\n",
    "ax[1].set_title('Binary Model')\n",
    "\n",
    "plt.tight_layout()\n",
    "plt.show()"
   ]
  },
  {
   "cell_type": "markdown",
   "metadata": {},
   "source": [
    "## Analysis\n",
    "\n",
    "Comparing both the multiclass binarized model and the binary model, their performances are very similar. Considering this, there is no conclusive evidence that one model is superior to the other. This result might vary with each training session due to the randomness associated with weight initialization.\n",
    "\n",
    "Therefore, it is safe to assume that binarizing the data and training a binary model, or training a multiclass model and binarizing the output, are equivalent approaches. This is supported by the recall, precision metrics, as well as the confusion matrices."
   ]
  }
 ],
 "metadata": {
  "kernelspec": {
   "display_name": ".venv",
   "language": "python",
   "name": "python3"
  },
  "language_info": {
   "codemirror_mode": {
    "name": "ipython",
    "version": 3
   },
   "file_extension": ".py",
   "mimetype": "text/x-python",
   "name": "python",
   "nbconvert_exporter": "python",
   "pygments_lexer": "ipython3",
   "version": "3.12.4"
  }
 },
 "nbformat": 4,
 "nbformat_minor": 2
}
