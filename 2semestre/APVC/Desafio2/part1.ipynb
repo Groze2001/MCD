{
 "cells": [
  {
   "cell_type": "markdown",
   "metadata": {},
   "source": [
    "## Imports"
   ]
  },
  {
   "cell_type": "code",
   "execution_count": 3,
   "metadata": {},
   "outputs": [],
   "source": [
    "import keras\n",
    "from keras import layers\n",
    "import numpy as np\n",
    "import matplotlib.pyplot as plt\n",
    "from sklearn.metrics import ConfusionMatrixDisplay\n",
    "from sklearn.metrics import confusion_matrix"
   ]
  },
  {
   "cell_type": "code",
   "execution_count": 4,
   "metadata": {},
   "outputs": [
    {
     "name": "stdout",
     "output_type": "stream",
     "text": [
      "Found 2000 files belonging to 2 classes.\n",
      "Found 1000 files belonging to 2 classes.\n",
      "Using 500 files for training.\n",
      "Using 500 files for validation.\n",
      "Encontradas as classes:  ['cats', 'dogs']\n"
     ]
    }
   ],
   "source": [
    "# Constantes\n",
    "BATCH_SIZE = 64\n",
    "IMG_HEIGHT = 160\n",
    "IMG_WIDTH = 160\n",
    "VAL_TEST_RATIO = .5\n",
    "\n",
    "DATASET_PATH = \"./cats_and_dogs\"\n",
    "SEED = 7654321  # semente para o split validação/teste com melhor distribuição\n",
    "\n",
    "\n",
    "train_ds = keras.utils.image_dataset_from_directory(\n",
    "    DATASET_PATH + '/train',\n",
    "    labels='inferred',\n",
    "    label_mode='binary',\n",
    "    seed=SEED,\n",
    "    batch_size=BATCH_SIZE\n",
    ")\n",
    "\n",
    "val_ds, test_ds = keras.utils.image_dataset_from_directory(\n",
    "    DATASET_PATH + '/validation',\n",
    "    labels='inferred',\n",
    "    label_mode='binary',\n",
    "    validation_split=VAL_TEST_RATIO,\n",
    "    subset=\"both\",\n",
    "    seed=SEED,\n",
    "    batch_size=BATCH_SIZE\n",
    ")\n",
    "\n",
    "# as labels foram inferidas a partir dos nomes dos diretórios\n",
    "labels = train_ds.class_names\n",
    "print(\"Encontradas as classes: \", labels)\n",
    "\n",
    "# carregar os datasets em memória - uma vez carregados, a ordem dos batches já não muda\n",
    "train_ds = train_ds.cache()\n",
    "val_ds = val_ds.cache()\n",
    "test_ds = test_ds.cache()"
   ]
  },
  {
   "cell_type": "code",
   "execution_count": 5,
   "metadata": {},
   "outputs": [
    {
     "name": "stderr",
     "output_type": "stream",
     "text": [
      "C:\\Users\\GONCA\\AppData\\Local\\Temp\\ipykernel_2608\\1016292679.py:5: DeprecationWarning: Conversion of an array with ndim > 0 to a scalar is deprecated, and will error in future. Ensure you extract a single element from your array before performing this operation. (Deprecated NumPy 1.25.)\n",
      "  class_counts[labels[int(label)]] += 1\n"
     ]
    },
    {
     "name": "stdout",
     "output_type": "stream",
     "text": [
      "Distribuição das classes no conjunto de validação: {'cats': 251, 'dogs': 249}\n",
      "Distribuição das classes no conjunto de teste: {'cats': 249, 'dogs': 251}\n"
     ]
    }
   ],
   "source": [
    "def class_distribution(dataset):\n",
    "    class_counts = {label: 0 for label in labels}\n",
    "    for _, y in dataset:\n",
    "        for label in y.numpy():\n",
    "            class_counts[labels[int(label)]] += 1\n",
    "    return class_counts\n",
    "\n",
    "val_distribution = class_distribution(val_ds)\n",
    "test_distribution = class_distribution(test_ds)\n",
    "\n",
    "print(\"Distribuição das classes no conjunto de validação:\", val_distribution)\n",
    "print(\"Distribuição das classes no conjunto de teste:\", test_distribution)"
   ]
  },
  {
   "cell_type": "code",
   "execution_count": null,
   "metadata": {},
   "outputs": [],
   "source": []
  }
 ],
 "metadata": {
  "kernelspec": {
   "display_name": "Python 3",
   "language": "python",
   "name": "python3"
  },
  "language_info": {
   "codemirror_mode": {
    "name": "ipython",
    "version": 3
   },
   "file_extension": ".py",
   "mimetype": "text/x-python",
   "name": "python",
   "nbconvert_exporter": "python",
   "pygments_lexer": "ipython3",
   "version": "3.12.9"
  }
 },
 "nbformat": 4,
 "nbformat_minor": 2
}
