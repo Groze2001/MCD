{
 "cells": [
  {
   "cell_type": "markdown",
   "metadata": {},
   "source": [
    "## Imports"
   ]
  },
  {
   "cell_type": "code",
   "execution_count": 1,
   "metadata": {},
   "outputs": [],
   "source": [
    "from keras import utils"
   ]
  },
  {
   "cell_type": "code",
   "execution_count": 2,
   "metadata": {},
   "outputs": [
    {
     "name": "stdout",
     "output_type": "stream",
     "text": [
      "Found 2000 files belonging to 2 classes.\n",
      "Found 1000 files belonging to 2 classes.\n",
      "Using 500 files for training.\n",
      "Using 500 files for validation.\n",
      "Encontradas as classes:  ['cats', 'dogs']\n"
     ]
    },
    {
     "name": "stderr",
     "output_type": "stream",
     "text": [
      "2025-03-28 09:40:54.001305: I metal_plugin/src/device/metal_device.cc:1154] Metal device set to: Apple M3 Pro\n",
      "2025-03-28 09:40:54.001346: I metal_plugin/src/device/metal_device.cc:296] systemMemory: 18.00 GB\n",
      "2025-03-28 09:40:54.001350: I metal_plugin/src/device/metal_device.cc:313] maxCacheSize: 6.00 GB\n",
      "WARNING: All log messages before absl::InitializeLog() is called are written to STDERR\n",
      "I0000 00:00:1743154854.001593   23585 pluggable_device_factory.cc:305] Could not identify NUMA node of platform GPU ID 0, defaulting to 0. Your kernel may not have been built with NUMA support.\n",
      "I0000 00:00:1743154854.001768   23585 pluggable_device_factory.cc:271] Created TensorFlow device (/job:localhost/replica:0/task:0/device:GPU:0 with 0 MB memory) -> physical PluggableDevice (device: 0, name: METAL, pci bus id: <undefined>)\n",
      "2025-03-28 09:40:54.327322: I tensorflow/core/framework/local_rendezvous.cc:405] Local rendezvous is aborting with status: OUT_OF_RANGE: End of sequence\n",
      "2025-03-28 09:40:54.440832: I tensorflow/core/framework/local_rendezvous.cc:405] Local rendezvous is aborting with status: OUT_OF_RANGE: End of sequence\n"
     ]
    }
   ],
   "source": [
    "# Constantes\n",
    "BATCH_SIZE = 64\n",
    "IMG_HEIGHT = 160\n",
    "IMG_WIDTH = 160\n",
    "VAL_TEST_RATIO = 0.5\n",
    "\n",
    "DATASET_PATH = \"../cats_and_dogs\"\n",
    "SEED = 7654321  # semente para o split validação/teste com melhor distribuição\n",
    "\n",
    "\n",
    "train_ds = utils.image_dataset_from_directory(\n",
    "    DATASET_PATH + \"/train\",\n",
    "    labels=\"inferred\",\n",
    "    label_mode=\"binary\",\n",
    "    seed=SEED,\n",
    "    batch_size=BATCH_SIZE,\n",
    ")\n",
    "\n",
    "val_ds, test_ds = utils.image_dataset_from_directory(\n",
    "    DATASET_PATH + \"/validation\",\n",
    "    labels=\"inferred\",\n",
    "    label_mode=\"binary\",\n",
    "    validation_split=VAL_TEST_RATIO,\n",
    "    subset=\"both\",\n",
    "    seed=SEED,\n",
    "    batch_size=BATCH_SIZE,\n",
    ")\n",
    "\n",
    "# as labels foram inferidas a partir dos nomes dos diretórios\n",
    "labels = train_ds.class_names\n",
    "print(\"Encontradas as classes: \", labels)\n",
    "\n",
    "# carregar os datasets em memória - uma vez carregados, a ordem dos batches já não muda\n",
    "train_ds = train_ds.cache()\n",
    "val_ds = val_ds.cache()\n",
    "test_ds = test_ds.cache()\n",
    "\n",
    "num_images_val_ds = sum(1 for _ in val_ds.unbatch())\n",
    "num_images_test_ds = sum(1 for _ in test_ds.unbatch())"
   ]
  },
  {
   "cell_type": "code",
   "execution_count": 3,
   "metadata": {},
   "outputs": [],
   "source": [
    "def class_distribution(dataset):\n",
    "    \"\"\"\n",
    "    Calculate the distribution of classes in a given dataset.\n",
    "\n",
    "    Args:\n",
    "        dataset (tf.data.Dataset): A TensorFlow dataset containing data and labels.\n",
    "\n",
    "    Returns:\n",
    "        dict: A dictionary where keys are class labels (from the `labels` list)\n",
    "              and values are the counts of each class in the dataset.\n",
    "    \"\"\"\n",
    "    class_counts = {label: 0 for label in labels}\n",
    "    for _, dataset_labels in dataset:\n",
    "        for label in dataset_labels.numpy():\n",
    "            class_counts[labels[int(label.item())]] += 1\n",
    "    return class_counts"
   ]
  },
  {
   "cell_type": "code",
   "execution_count": 4,
   "metadata": {},
   "outputs": [
    {
     "name": "stdout",
     "output_type": "stream",
     "text": [
      "Distribuição das classes no conjunto de treino: {'cats': 1000, 'dogs': 1000}\n",
      "Distribuição das classes no conjunto de validação: {'cats': 251, 'dogs': 249}\n",
      "Distribuição das classes no conjunto de teste: {'cats': 249, 'dogs': 251}\n"
     ]
    },
    {
     "name": "stderr",
     "output_type": "stream",
     "text": [
      "2025-03-28 09:40:54.906944: I tensorflow/core/framework/local_rendezvous.cc:405] Local rendezvous is aborting with status: OUT_OF_RANGE: End of sequence\n"
     ]
    }
   ],
   "source": [
    "train_distribution = class_distribution(train_ds)\n",
    "val_distribution = class_distribution(val_ds)\n",
    "test_distribution = class_distribution(test_ds)\n",
    "\n",
    "print(\"Distribuição das classes no conjunto de treino:\", train_distribution)\n",
    "print(\"Distribuição das classes no conjunto de validação:\", val_distribution)\n",
    "print(\"Distribuição das classes no conjunto de teste:\", test_distribution)"
   ]
  }
 ],
 "metadata": {
  "kernelspec": {
   "display_name": ".venv",
   "language": "python",
   "name": "python3"
  },
  "language_info": {
   "codemirror_mode": {
    "name": "ipython",
    "version": 3
   },
   "file_extension": ".py",
   "mimetype": "text/x-python",
   "name": "python",
   "nbconvert_exporter": "python",
   "pygments_lexer": "ipython3",
   "version": "3.12.4"
  }
 },
 "nbformat": 4,
 "nbformat_minor": 2
}
