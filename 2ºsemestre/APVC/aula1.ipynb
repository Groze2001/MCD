{
 "cells": [
  {
   "cell_type": "code",
   "execution_count": 5,
   "metadata": {},
   "outputs": [],
   "source": [
    "import cv2\n",
    "import numpy as np  "
   ]
  },
  {
   "cell_type": "code",
   "execution_count": null,
   "metadata": {},
   "outputs": [],
   "source": [
    "img = cv2.imread(\"images/lenna.png\")\n",
    "\n",
    "(b,g,r)= cv2.split(img)\n",
    "\n",
    "x = img.shape[1]//4\n",
    "crop = img[x:x*3, x:x*3]\n",
    "crop[:,:,:] = 255 - crop[:,:,:] \n",
    "\n",
    "\n",
    "cv2.imshow(\"Negativo\",img)  \n",
    "\n",
    "cv2.waitKey(0)   \n",
    "cv2.destroyAllWindows() "
   ]
  },
  {
   "cell_type": "code",
   "execution_count": null,
   "metadata": {},
   "outputs": [],
   "source": [
    "imgHsv = np.ones((img.shape[0], img.shape[1], 3), np.uint8)*255\n",
    "\n",
    "for i in range(0, img.shape[0]):\n",
    "    hue = ((180*i)//img.shape[0])\n",
    "    imgHsv[:,i,0] = hue\n",
    "print(imgHsv[0:10,0:10,0])\n",
    "rgb = cv2.cvtColor(imgHsv, cv2.COLOR_HSV2BGR)\n",
    "cv2.imshow(\"Ex2\",rgb)  \n",
    "cv2.waitKey(0)   \n",
    "cv2.destroyAllWindows() "
   ]
  },
  {
   "cell_type": "code",
   "execution_count": 36,
   "metadata": {},
   "outputs": [],
   "source": [
    "import cv2\n",
    "import numpy as np\n",
    "from matplotlib import pyplot as plt\n",
    "\n",
    "# Read the image\n",
    "legos = cv2.imread(\"images/legos.jpg\")\n",
    "\n",
    "# Convert the image to HSV color space\n",
    "hsv = cv2.cvtColor(legos, cv2.COLOR_BGR2HSV)\n",
    "\n",
    "# Define the range for the orange color in HSV\n",
    "lower_orange = np.array([10, 100, 100])\n",
    "upper_orange = np.array([25, 255, 255])\n",
    "\n",
    "# Create a mask for the orange color\n",
    "mask = cv2.inRange(hsv, lower_orange, upper_orange)\n",
    "\n",
    "# Bitwise-AND mask and original image\n",
    "orange = cv2.bitwise_not(legos, legos, mask=mask)\n",
    "\n",
    "cv2.imshow(\"Orange\", orange)\n",
    "cv2.imshow(\"Original\", legos)\n",
    "cv2.waitKey(0)\n",
    "cv2.destroyAllWindows()"
   ]
  }
 ],
 "metadata": {
  "kernelspec": {
   "display_name": "Python 3",
   "language": "python",
   "name": "python3"
  },
  "language_info": {
   "codemirror_mode": {
    "name": "ipython",
    "version": 3
   },
   "file_extension": ".py",
   "mimetype": "text/x-python",
   "name": "python",
   "nbconvert_exporter": "python",
   "pygments_lexer": "ipython3",
   "version": "3.12.6"
  }
 },
 "nbformat": 4,
 "nbformat_minor": 2
}
