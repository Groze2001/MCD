{
 "cells": [
  {
   "cell_type": "code",
   "execution_count": 27,
   "metadata": {},
   "outputs": [],
   "source": [
    "# imports mais comuns que poderão ser necessários\n",
    "import tensorflow as tf\n",
    "import keras\n",
    "from keras import layers\n",
    "\n",
    "import numpy as np\n",
    "import matplotlib.pyplot as plt\n",
    "from sklearn.metrics import ConfusionMatrixDisplay\n",
    "from sklearn.metrics import confusion_matrix\n",
    "\n",
    "# constantes - dimensão das imagens\n",
    "IMG_HEIGHT = 28\n",
    "IMG_WIDTH = 28\n",
    "\n",
    "# constantes - labels/classes\n",
    "LABELS = [\"T-Shirt/Top\",\n",
    "          \"Trouser\",\n",
    "          \"Pullover\",\n",
    "          \"Dress\",\n",
    "          \"Coat\",\n",
    "          \"Sandal\",\n",
    "          \"Shirt\",\n",
    "          \"Sneaker\",\n",
    "          \"Bag\",\n",
    "          \"Boot\"]\n",
    "N_CLASSES = 10\n",
    "\n",
    "\n",
    "# callbacks\n",
    "BEST_MODEL_CHECKPOINT = keras.callbacks.ModelCheckpoint(\n",
    "    filepath=\"tmp/best_modeltpart2.weights.h5\",      # ficheiro para os pesos do \"melhor modelo\"\n",
    "    save_weights_only=True,\n",
    "    monitor='val_loss',\n",
    "    mode='min',\n",
    "    save_best_only=True)\n",
    "\n",
    "EARLY_STOPPING = keras.callbacks.EarlyStopping(\n",
    "    monitor='val_loss',\n",
    "    patience=5)"
   ]
  },
  {
   "cell_type": "markdown",
   "metadata": {},
   "source": [
    "### Parte 2"
   ]
  },
  {
   "cell_type": "code",
   "execution_count": 28,
   "metadata": {},
   "outputs": [],
   "source": [
    "\n",
    "# carregar o dataset FASHION_MNIST\n",
    "dataset = keras.datasets.fashion_mnist\n",
    "(x_train, y_train), (x_test, y_test) = dataset.load_data()\n",
    "\n",
    "# normalização\n",
    "x_train = x_train / 255.0\n",
    "x_test = x_test / 255.0\n",
    "\n",
    "split = int(0.80*x_train.shape[0])\n",
    "\n",
    "x_val = x_train[split:]\n",
    "y_val = y_train[split:]\n",
    "\n",
    "x_train = x_train[:split]\n",
    "y_train = y_train[:split]\n"
   ]
  },
  {
   "cell_type": "code",
   "execution_count": 29,
   "metadata": {},
   "outputs": [],
   "source": [
    "y_train = np.where(y_train < 5, 1,0)\n",
    "y_test = np.where(y_test < 5, 1,0)\n",
    "y_val = np.where(y_val < 5, 1,0)    "
   ]
  },
  {
   "cell_type": "code",
   "execution_count": 30,
   "metadata": {},
   "outputs": [],
   "source": [
    "initializer = keras.initializers.RandomNormal(mean=0.0, stddev=0.05, seed=12345)\n",
    "\n",
    "my_model_binary = keras.Sequential([ \n",
    "    layers.Input(shape=(28, 28)), \n",
    "    layers.Flatten(),\n",
    "    layers.Dense(520, activation='relu',kernel_initializer=initializer),\n",
    "    layers.Dense(1, activation='sigmoid', kernel_initializer=initializer)])\n",
    "\n",
    "my_model_binary.compile(loss=\"binary_crossentropy\",\n",
    "                  optimizer=keras.optimizers.Adam(learning_rate=0.001),\n",
    "                  metrics=[\"accuracy\"])\n",
    "#adam <=> ao gradiente descendente para otimizar os pessos das ligações entre as camadas\n",
    "#loss = função de erro para categorição multiclasse \n",
    "#metrics = métrica para avaliar a performance do modelo"
   ]
  },
  {
   "cell_type": "code",
   "execution_count": null,
   "metadata": {},
   "outputs": [],
   "source": [
    "my_model_binary.summary()   "
   ]
  },
  {
   "cell_type": "code",
   "execution_count": null,
   "metadata": {},
   "outputs": [],
   "source": [
    "h = my_model_binary.fit(x_train, y_train, batch_size=64, epochs=50,validation_data=(x_val, y_val),callbacks=[BEST_MODEL_CHECKPOINT])"
   ]
  },
  {
   "cell_type": "code",
   "execution_count": 33,
   "metadata": {},
   "outputs": [
    {
     "name": "stdout",
     "output_type": "stream",
     "text": [
      "\u001b[1m313/313\u001b[0m \u001b[32m━━━━━━━━━━━━━━━━━━━━\u001b[0m\u001b[37m\u001b[0m \u001b[1m1s\u001b[0m 1ms/step\n"
     ]
    }
   ],
   "source": [
    "# Obter e mostrar resultados\n",
    "\n",
    "# obter os id's das classes verdadeiras\n",
    "y_true = y_test\n",
    "\n",
    "# realizar as predições e obter os id's das classes preditas\n",
    "output_pred = my_model_binary.predict(x_test)    # ou então, output_pred = wineModel(x_val)"
   ]
  },
  {
   "cell_type": "code",
   "execution_count": null,
   "metadata": {},
   "outputs": [],
   "source": [
    "print(output_pred)\n",
    "y_pred = np.where(output_pred > 0.5, 1, 0)\n",
    "print(y_pred)\n",
    "y_pred = y_pred.reshape(y_pred.shape[0])\n",
    "print(y_pred)\n"
   ]
  },
  {
   "cell_type": "code",
   "execution_count": null,
   "metadata": {},
   "outputs": [],
   "source": [
    "\n",
    "\n",
    "LABELS = ['Vestuario', 'Calçado e malas']\n",
    "# gerar uma matriz de confusão\n",
    "cm = confusion_matrix(y_true, y_pred)\n",
    "\n",
    "# mostrar figuras - accuracy, loss e matriz de confusão\n",
    "plt.figure(num=1)\n",
    "plt.plot(h.history['accuracy'])\n",
    "plt.plot(h.history['val_accuracy'])\n",
    "plt.title('model accuracy')\n",
    "plt.ylabel('accuracy')\n",
    "plt.xlabel('epoch')\n",
    "plt.legend(['train', 'val'], loc=\"upper left\")\n",
    "plt.grid(True, ls='--')\n",
    "\n",
    "plt.figure(num=2)\n",
    "plt.plot(h.history['loss'])\n",
    "plt.plot(h.history['val_loss'])\n",
    "plt.title('model loss')\n",
    "plt.ylim(0, 2.0)\n",
    "plt.ylabel('loss')\n",
    "plt.xlabel('epoch')\n",
    "plt.legend(['train', 'val'], loc=\"upper right\")\n",
    "plt.grid(True, ls='--')\n",
    "\n",
    "disp = ConfusionMatrixDisplay(confusion_matrix=cm, display_labels=LABELS)\n",
    "disp.plot(cmap=plt.colormaps['Oranges'])\n",
    "plt.show()"
   ]
  }
 ],
 "metadata": {
  "kernelspec": {
   "display_name": "Python 3",
   "language": "python",
   "name": "python3"
  },
  "language_info": {
   "codemirror_mode": {
    "name": "ipython",
    "version": 3
   },
   "file_extension": ".py",
   "mimetype": "text/x-python",
   "name": "python",
   "nbconvert_exporter": "python",
   "pygments_lexer": "ipython3",
   "version": "3.12.6"
  }
 },
 "nbformat": 4,
 "nbformat_minor": 2
}
