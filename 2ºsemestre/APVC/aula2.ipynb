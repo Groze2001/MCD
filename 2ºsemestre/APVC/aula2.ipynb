{
 "cells": [
  {
   "cell_type": "code",
   "execution_count": 37,
   "metadata": {},
   "outputs": [],
   "source": [
    "import cv2\n",
    "import numpy as np  "
   ]
  },
  {
   "cell_type": "code",
   "execution_count": 38,
   "metadata": {},
   "outputs": [],
   "source": [
    "img =cv2.imread(\"images/corruptedRect.png\")"
   ]
  },
  {
   "cell_type": "code",
   "execution_count": 39,
   "metadata": {},
   "outputs": [],
   "source": [
    "if img is None:\n",
    "    print(\"Error: Image not loaded. Check the file path and format.\")\n",
    "else:\n",
    "    strel = cv2.getStructuringElement(cv2.MORPH_RECT, (5,5))\n",
    "    # Apply morphological opening (erosion → dilation)\n",
    "    openedImg = cv2.morphologyEx(img, cv2.MORPH_OPEN, strel, iterations=2)\n",
    "\n",
    "    # Apply morphological closing (dilation → erosion)\n",
    "    closedImg = cv2.morphologyEx(openedImg, cv2.MORPH_CLOSE, strel, iterations=2)"
   ]
  },
  {
   "cell_type": "code",
   "execution_count": 40,
   "metadata": {},
   "outputs": [],
   "source": [
    "cv2.imshow(\"Abertura\",closedImg)  \n",
    "\n",
    "cv2.waitKey(0)   \n",
    "cv2.destroyAllWindows() "
   ]
  },
  {
   "cell_type": "code",
   "execution_count": 46,
   "metadata": {},
   "outputs": [],
   "source": [
    "img = cv2.imread(\"images/test.jpg\", cv2.IMREAD_GRAYSCALE).astype(np.float32)\n",
    "\n",
    "# Define two example filters (3x3 averaging and edge detection)\n",
    "F1 = np.array([[1, 2, 1],\n",
    "               [2, 4, 2],\n",
    "               [1, 2, 1]], dtype=np.float32) / 16  # Gaussian Blur Kernel\n",
    "\n",
    "F2 = np.array([[-1, -1, -1],\n",
    "               [-1,  8, -1],\n",
    "               [-1, -1, -1]], dtype=np.float32)  # Edge Detection Kernel\n",
    "\n",
    "\n",
    "F3 = F1+F2\n",
    "filteredImgF1= cv2.filter2D(img, -1, F1)\n",
    "filteredImgF2= cv2.filter2D(img, -1, F2)\n",
    "\n",
    "filterSum = filteredImgF1 + filteredImgF2\n",
    "filteredImgF3= cv2.filter2D(img, -1, F3)\n"
   ]
  },
  {
   "cell_type": "code",
   "execution_count": 47,
   "metadata": {},
   "outputs": [],
   "source": [
    "\n",
    "cv2.imshow(\"F2sum\",filterSum)  \n",
    "cv2.imshow(\"F3\",filteredImgF3)  \n",
    "\n",
    "cv2.waitKey(0)   \n",
    "cv2.destroyAllWindows() "
   ]
  },
  {
   "cell_type": "code",
   "execution_count": 48,
   "metadata": {},
   "outputs": [],
   "source": [
    "def process_image(image_path):\n",
    "    # Carrega a imagem em escala de cinza\n",
    "    img = cv2.imread(image_path, cv2.IMREAD_GRAYSCALE)\n",
    "    if img is None:\n",
    "        print(f\"Erro ao carregar a imagem: {image_path}\")\n",
    "        return\n",
    "\n",
    "    # Converte a imagem para float64 para evitar problemas com valores negativos\n",
    "    img_float = np.float64(img)\n",
    "\n",
    "    # Calcula os gradientes em x e y usando os filtros de Sobel\n",
    "    grad_x = cv2.Sobel(img_float, cv2.CV_64F, 1, 0, ksize=3)\n",
    "    grad_y = cv2.Sobel(img_float, cv2.CV_64F, 0, 1, ksize=3)\n",
    "\n",
    "    # Calcula a magnitude do gradiente (norma L2)\n",
    "    grad_magnitude = np.sqrt(grad_x**2 + grad_y**2)\n",
    "\n",
    "    # Normaliza a magnitude para a faixa [0, 255] para exibição\n",
    "    grad_magnitude_norm = cv2.normalize(grad_magnitude, None, 0, 255, cv2.NORM_MINMAX)\n",
    "    grad_magnitude_norm = np.uint8(grad_magnitude_norm)\n",
    "\n",
    "    # Exibe a imagem original e a magnitude do gradiente\n",
    "    cv2.imshow(\"Imagem Original\", img)\n",
    "    cv2.imshow(\"Magnitude do Gradiente\", grad_magnitude_norm)\n",
    "    cv2.waitKey(0)\n",
    "    cv2.destroyAllWindows()\n",
    "\n",
    "# Testa com as imagens \"lastsupper.jpg\" e \"clocks.jpg\"\n",
    "process_image(\"images//lastsupper.jpg\")\n",
    "process_image(\"images/clocks.jpg\")"
   ]
  }
 ],
 "metadata": {
  "kernelspec": {
   "display_name": "Python 3",
   "language": "python",
   "name": "python3"
  },
  "language_info": {
   "codemirror_mode": {
    "name": "ipython",
    "version": 3
   },
   "file_extension": ".py",
   "mimetype": "text/x-python",
   "name": "python",
   "nbconvert_exporter": "python",
   "pygments_lexer": "ipython3",
   "version": "3.13.0"
  }
 },
 "nbformat": 4,
 "nbformat_minor": 2
}
