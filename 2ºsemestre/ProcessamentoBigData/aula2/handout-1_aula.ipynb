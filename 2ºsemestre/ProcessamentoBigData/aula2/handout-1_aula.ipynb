{
 "cells": [
  {
   "cell_type": "markdown",
   "metadata": {},
   "source": [
    "# Data Processing with Spark\n",
    "\n",
    "This lab class aims to introduce basic PySpark operations to process data that was stored in csv\n",
    "or json files.\n",
    "\n"
   ]
  },
  {
   "cell_type": "markdown",
   "metadata": {},
   "source": [
    "## Task A: Data ingestion"
   ]
  },
  {
   "cell_type": "markdown",
   "metadata": {},
   "source": [
    "### 1.\n",
    "**Datasests**\n",
    "\n",
    "The two files can be downloaded from, respectively \n",
    "\n",
    "https://bigdata.iscte-iul.eu/datasets/iot-devices.json\n",
    "\n",
    "https://bigdata.iscte-iul.eu/datasets/fire-calls.csv"
   ]
  },
  {
   "cell_type": "markdown",
   "metadata": {},
   "source": [
    "### 2."
   ]
  },
  {
   "cell_type": "code",
   "execution_count": null,
   "metadata": {},
   "outputs": [],
   "source": [
    "# Basic imports\n",
    "import pyspark\n",
    "from pyspark.sql import SparkSession, Row\n",
    "import pyspark.sql.functions as F"
   ]
  },
  {
   "cell_type": "code",
   "execution_count": null,
   "metadata": {},
   "outputs": [],
   "source": [
    "# Build SparkSession\n",
    "spark = SparkSession.builder.appName(\"DataProcessing\").getOrCreate()"
   ]
  },
  {
   "cell_type": "code",
   "execution_count": null,
   "metadata": {},
   "outputs": [],
   "source": [
    "# Reading data\n",
    "data_dir = '../datasets/'\n",
    "file_iot = data_dir + 'iot_devices.json'\n",
    "file_calls = data_dir + 'sf-fire-calls.csv'\n",
    "\n",
    "data_iot =  spark.read.json(file_iot)\n",
    "data_calls = spark.read.csv(file_calls, header=True, inferSchema=True)\n"
   ]
  },
  {
   "cell_type": "markdown",
   "metadata": {},
   "source": [
    "### 3. \n",
    "**Checking basic structures and data types**\n"
   ]
  },
  {
   "cell_type": "code",
   "execution_count": null,
   "metadata": {},
   "outputs": [],
   "source": [
    "# Checking iot datatypes: use printSchema()\n",
    "data_iot.\n"
   ]
  },
  {
   "cell_type": "code",
   "execution_count": null,
   "metadata": {},
   "outputs": [],
   "source": [
    "# Checking iot rows and columns: use show()\n",
    "data_iot."
   ]
  },
  {
   "cell_type": "code",
   "execution_count": null,
   "metadata": {},
   "outputs": [],
   "source": [
    "# Checking iot number of rows: use count()\n",
    "data_iot."
   ]
  },
  {
   "cell_type": "code",
   "execution_count": null,
   "metadata": {},
   "outputs": [],
   "source": [
    "# Checking calls data datatypes: use printSchema()\n",
    "data_calls."
   ]
  },
  {
   "cell_type": "code",
   "execution_count": null,
   "metadata": {},
   "outputs": [],
   "source": [
    "# Checking calls rows and columns: use show()\n",
    "data_calls."
   ]
  },
  {
   "cell_type": "code",
   "execution_count": null,
   "metadata": {},
   "outputs": [],
   "source": [
    "# Checking iot number of rows: use count()\n",
    "data_calls."
   ]
  },
  {
   "cell_type": "markdown",
   "metadata": {},
   "source": [
    "### 4. "
   ]
  },
  {
   "cell_type": "code",
   "execution_count": null,
   "metadata": {},
   "outputs": [],
   "source": [
    "# store the columns of iot and calls: use columns attribute\n",
    "col_iot = data_iot.\n",
    "col_calls = data_calls."
   ]
  },
  {
   "cell_type": "code",
   "execution_count": null,
   "metadata": {},
   "outputs": [],
   "source": [
    "# print the number of columns and their names\n",
    "print(len(col_iot), col_iot)\n",
    "print(len(col_calls), col_calls)"
   ]
  },
  {
   "cell_type": "markdown",
   "metadata": {},
   "source": [
    "**Expected result**\n",
    "```raw\n",
    "15 ['battery_level', 'c02_level', 'cca2', 'cca3', 'cn', 'device_id', 'device_name', 'humidity', 'ip', 'latitude', 'lcd', 'longitude', 'scale', 'temp', 'timestamp']\n",
    "28 ['CallNumber', 'UnitID', 'IncidentNumber', 'CallType', 'CallDate', 'WatchDate', 'CallFinalDisposition', 'AvailableDtTm', 'Address', 'City', 'Zipcode', 'Battalion', 'StationArea', 'Box', 'OriginalPriority', 'Priority', 'FinalPriority', 'ALSUnit', 'CallTypeGroup', 'NumAlarms', 'UnitType', 'UnitSequenceInCallDispatch', 'FirePreventionDistrict', 'SupervisorDistrict', 'Neighborhood', 'Location', 'RowID', 'Delay']\n",
    "```"
   ]
  },
  {
   "cell_type": "code",
   "execution_count": null,
   "metadata": {},
   "outputs": [],
   "source": [
    "# get the first row: use first()\n",
    "first_row = data_iot.\n",
    "first_row"
   ]
  },
  {
   "cell_type": "markdown",
   "metadata": {},
   "source": [
    "### 5."
   ]
  },
  {
   "cell_type": "code",
   "execution_count": null,
   "metadata": {},
   "outputs": [],
   "source": [
    "# get the first five rows\n",
    "five_rows = data_iot."
   ]
  },
  {
   "cell_type": "markdown",
   "metadata": {},
   "source": [
    "## Task B: Data cleaning"
   ]
  },
  {
   "cell_type": "markdown",
   "metadata": {},
   "source": [
    "### 1. Removing duplicates if any"
   ]
  },
  {
   "cell_type": "code",
   "execution_count": null,
   "metadata": {},
   "outputs": [],
   "source": [
    "# Check first: use dropDuplicates() and count()\n",
    "\n",
    "print(f'  data_iot: number of rows: {data_iot. }, after dropduplicates: {data_iot. }')\n",
    "print(f'data_calls: number of rows: {data_calls. }, after dropduplicates: {data_calls. }')\n",
    "\n"
   ]
  },
  {
   "cell_type": "code",
   "execution_count": null,
   "metadata": {},
   "outputs": [],
   "source": [
    "# Remove data_iot duplicates\n",
    "data_iot = data_iot.\n",
    "data_iot.count()"
   ]
  },
  {
   "cell_type": "code",
   "execution_count": null,
   "metadata": {},
   "outputs": [],
   "source": [
    "# Remove data_calls duplicates\n",
    "data_calls = data_calls.\n",
    "data_calls.count()"
   ]
  },
  {
   "cell_type": "markdown",
   "metadata": {},
   "source": [
    "### 2. Handling missing values"
   ]
  },
  {
   "cell_type": "code",
   "execution_count": null,
   "metadata": {},
   "outputs": [],
   "source": [
    "# use dropna(how='any')\n",
    "# how='all' remove only if all values are NA\n",
    "print(f\"After dropna: data_iot = {data_iot.  } rows\")\n",
    "print(f\"After dropna: data_calls = {data_calls.  } rows\")"
   ]
  },
  {
   "cell_type": "code",
   "execution_count": null,
   "metadata": {},
   "outputs": [],
   "source": [
    "# Lets see where the NULL values are\n",
    "dict_nulls_calls = {col: data_calls.filter(data_calls[col].isNull()).count() for col in data_calls.columns}\n",
    "dict_nulls_calls"
   ]
  },
  {
   "cell_type": "code",
   "execution_count": null,
   "metadata": {},
   "outputs": [],
   "source": [
    "# Lets see where the NULL values are\n",
    "dict_nulls_iot = {col: data_iot.filter(data_iot[col].isNull()).count() for col in data_iot.columns}\n",
    "dict_nulls_iot"
   ]
  },
  {
   "cell_type": "markdown",
   "metadata": {},
   "source": [
    "### 3. removal of columns 'AvailableDtTm', 'OriginalPriority', 'CallTypeGroup'"
   ]
  },
  {
   "cell_type": "code",
   "execution_count": null,
   "metadata": {},
   "outputs": [],
   "source": [
    "# removal of columns 'AvailableDtTm', 'OriginalPriority', 'CallTypeGroup'\n",
    "cols_to_dismiss = ['AvailableDtTm', 'OriginalPriority', 'CallTypeGroup']\n",
    "\n",
    "# use drop() and reference the list with *\n",
    "data_calls = data_calls."
   ]
  },
  {
   "cell_type": "markdown",
   "metadata": {},
   "source": [
    "### 4."
   ]
  },
  {
   "cell_type": "code",
   "execution_count": null,
   "metadata": {},
   "outputs": [],
   "source": [
    "# check the number of rows before and after removing NULLs\n",
    "print(f\"after droping columns data_calls = {data_calls.} rows, after removing NULLs: {data_calls.} rows\")\n"
   ]
  },
  {
   "cell_type": "markdown",
   "metadata": {},
   "source": [
    "### 5."
   ]
  },
  {
   "cell_type": "code",
   "execution_count": null,
   "metadata": {},
   "outputs": [],
   "source": [
    "data_calls = data_calls.\n",
    "data_calls.count()"
   ]
  },
  {
   "cell_type": "markdown",
   "metadata": {},
   "source": [
    "**Note** We could have use fill in, instead of dropping the rows:\n",
    "\n",
    "`df_calls.na.fill({'colulna: valueA})`"
   ]
  },
  {
   "cell_type": "markdown",
   "metadata": {},
   "source": [
    "### 6."
   ]
  },
  {
   "cell_type": "code",
   "execution_count": null,
   "metadata": {},
   "outputs": [],
   "source": [
    "# Show one record in vertical mode for better reading\n",
    "data_calls.show(1,vertical=True)"
   ]
  },
  {
   "cell_type": "code",
   "execution_count": null,
   "metadata": {},
   "outputs": [],
   "source": [
    "data_calls.printSchema()"
   ]
  },
  {
   "cell_type": "code",
   "execution_count": null,
   "metadata": {},
   "outputs": [],
   "source": [
    "# transforming datatypes:\n",
    "# create two new columns 'CallDateTS' and 'WatchDateTS' with withColumn and F.to_timestamp()\n",
    "data_calls = ( data_calls\n",
    "              .\n",
    "              .\n",
    ")"
   ]
  },
  {
   "cell_type": "code",
   "execution_count": null,
   "metadata": {},
   "outputs": [],
   "source": [
    "data_calls.show()"
   ]
  },
  {
   "cell_type": "markdown",
   "metadata": {},
   "source": [
    "## Task C: Data transformation"
   ]
  },
  {
   "cell_type": "markdown",
   "metadata": {},
   "source": [
    "### 1. "
   ]
  },
  {
   "cell_type": "code",
   "execution_count": null,
   "metadata": {},
   "outputs": [],
   "source": [
    "# adding two new columns 'CallDateMonth' and 'CallDateWeekDay' and use F.month and F.dayofweek on 'CallDateTS'\n",
    "\n",
    "data_calls = ( data_calls\n",
    "              .\n",
    "              .\n",
    ")"
   ]
  },
  {
   "cell_type": "code",
   "execution_count": null,
   "metadata": {},
   "outputs": [],
   "source": [
    "data_calls.show()"
   ]
  },
  {
   "cell_type": "markdown",
   "metadata": {},
   "source": [
    "### 2."
   ]
  },
  {
   "cell_type": "code",
   "execution_count": null,
   "metadata": {},
   "outputs": [],
   "source": [
    "# change name of column NumAlarms to NumberAlarms with withColumnRenamed\n",
    "data_calls = data_calls."
   ]
  },
  {
   "cell_type": "code",
   "execution_count": null,
   "metadata": {},
   "outputs": [],
   "source": [
    "data_calls.show()"
   ]
  },
  {
   "cell_type": "markdown",
   "metadata": {},
   "source": [
    "### 3."
   ]
  },
  {
   "cell_type": "code",
   "execution_count": null,
   "metadata": {},
   "outputs": [],
   "source": [
    "# use sort() with F.col().desc() on 'CallNumber'\n",
    "data_calls = data_calls."
   ]
  },
  {
   "cell_type": "code",
   "execution_count": null,
   "metadata": {},
   "outputs": [],
   "source": [
    "data_calls.show()"
   ]
  },
  {
   "cell_type": "markdown",
   "metadata": {},
   "source": [
    "## Task D: Data aggregation"
   ]
  },
  {
   "cell_type": "markdown",
   "metadata": {},
   "source": [
    "### 1. Basic aggregation\n",
    "\n",
    "Finds min, max, count, sum, mean"
   ]
  },
  {
   "cell_type": "code",
   "execution_count": null,
   "metadata": {},
   "outputs": [],
   "source": [
    "# use agg() either with {'column name', 'function'} or F.avg() F.min() F.max() and F.sum()\n",
    "data_calls.\n",
    "data_calls.\n",
    "data_calls.\n",
    "data_calls.\n",
    "data_calls."
   ]
  },
  {
   "cell_type": "code",
   "execution_count": null,
   "metadata": {},
   "outputs": [],
   "source": []
  },
  {
   "cell_type": "markdown",
   "metadata": {},
   "source": [
    "### 2."
   ]
  },
  {
   "cell_type": "code",
   "execution_count": null,
   "metadata": {},
   "outputs": [],
   "source": [
    "# use describe()\n",
    "data_calls.describe().show()"
   ]
  },
  {
   "cell_type": "markdown",
   "metadata": {},
   "source": [
    "### 3. Grouped aggregation"
   ]
  },
  {
   "cell_type": "code",
   "execution_count": null,
   "metadata": {},
   "outputs": [],
   "source": [
    "# use grouBy() on 'CallType' and agg() on 'CallDateMonth', 'CallDateWeekDay' and 'Delay'\n",
    "# show at most 100 rows with .show(100, truncate=False)\n",
    "data_calls."
   ]
  },
  {
   "cell_type": "markdown",
   "metadata": {},
   "source": [
    "**Expected result**\n",
    "```raw\n",
    "+--------------------------------------------+------------------+------------------+--------------------+\n",
    "|CallType                                    |avg(CallDateMonth)|avg(Delay)        |avg(CallDateWeekDay)|\n",
    "+--------------------------------------------+------------------+------------------+--------------------+\n",
    "|Elevator / Escalator Rescue                 |6.208121827411167 |4.435448395939086 |4.355329949238579   |\n",
    "|Alarms                                      |6.555663587749149 |3.8584001800838594|4.0523821098687405  |\n",
    "|Odor (Strange / Unknown)                    |6.303571428571429 |5.943005935714285 |4.151785714285714   |\n",
    "|Citizen Assist / Service Call               |6.599781897491821 |5.74209378691385  |3.911668484187568   |\n",
    "|HazMat                                      |6.023255813953488 |6.879844916279069 |4.6976744186046515  |\n",
    "|Watercraft in Distress                      |8.5               |7.8857144         |4.928571428571429   |\n",
    "|Explosion                                   |7.0               |4.646111146666666 |3.966666666666667   |\n",
    "|Vehicle Fire                                |6.264285714285714 |3.8897619183928587|4.2178571428571425  |\n",
    "|Other                                       |6.496359223300971 |6.528357611383495 |3.936893203883495   |\n",
    "|Outside Fire                                |6.282632146709816 |4.508881697572816 |3.9773462783171523  |\n",
    "|Traffic Collision                           |6.532761788120024 |4.007960809130436 |4.063380281690141   |\n",
    "|Assist Police                               |4.363636363636363 |10.64545460909091 |4.181818181818182   |\n",
    "|Gas Leak (Natural and LP Gases)             |6.343832020997375 |4.363604546456693 |3.979002624671916   |\n",
    "|Water Rescue                                |6.106024096385542 |5.973895580722891 |4.125301204819277   |\n",
    "|Electrical Hazard                           |6.377777777777778 |4.3134814795555565|3.8266666666666667  |\n",
    "|Structure Fire                              |6.566578316294333 |3.5555240030039124|4.0411460305439855  |\n",
    "|Industrial Accidents                        |6.076923076923077 |4.028205084615385 |3.0                 |\n",
    "|Medical Incident                            |6.451672010994045 |3.9335766504404885|4.025931605887391   |\n",
    "|Fuel Spill                                  |6.585714285714285 |6.202619058571427 |4.4                 |\n",
    "|Smoke Investigation (Outside)               |6.694267515923567 |4.766348174267515 |3.751592356687898   |\n",
    "|Train / Rail Incident                       |4.7368421052631575|32.2991227368421  |2.526315789473684   |\n",
    "|Marine Fire                                 |8.6               |7.9033333400000005|4.4                 |\n",
    "|Aircraft Emergency                          |11.0              |7.7               |1.0                 |\n",
    "|Confined Space / Structure Collapse         |7.875             |6.08541665        |4.0                 |\n",
    "|Suspicious Package                          |5.75              |11.045833499999999|3.25                |\n",
    "|Extrication / Entrapped (Machinery, Vehicle)|6.7               |5.03500002        |4.0                 |\n",
    "|High Angle Rescue                           |6.714285714285714 |7.1488095285714275|4.142857142857143   |\n",
    "|Mutual Aid / Assist Outside Agency          |8.0               |7.35              |5.0                 |\n",
    "+--------------------------------------------+------------------+------------------+--------------------+\n",
    "```"
   ]
  },
  {
   "cell_type": "markdown",
   "metadata": {},
   "source": [
    "### 4."
   ]
  },
  {
   "cell_type": "code",
   "execution_count": null,
   "metadata": {},
   "outputs": [],
   "source": [
    "# use orderBy() on column 'avg(Delay)' and with option ascending=False\n",
    "data_calls."
   ]
  },
  {
   "cell_type": "markdown",
   "metadata": {},
   "source": [
    "**Expected result**\n",
    "```raw\n",
    "+--------------------------------------------+------------------+------------------+--------------------+\n",
    "|CallType                                    |avg(CallDateMonth)|avg(Delay)        |avg(CallDateWeekDay)|\n",
    "+--------------------------------------------+------------------+------------------+--------------------+\n",
    "|Assist Police                               |6.314285714285714 |26.981903994285716|4.0285714285714285  |\n",
    "|Train / Rail Incident                       |5.589285714285714 |16.71249997857143 |3.25                |\n",
    "|Administrative                              |5.0               |12.261111333333332|5.333333333333333   |\n",
    "|HazMat                                      |7.32258064516129  |7.527016126612903 |4.266129032258065   |\n",
    "|Marine Fire                                 |8.333333333333334 |7.131944325       |4.916666666666667   |\n",
    "|Confined Space / Structure Collapse         |7.538461538461538 |6.915384576923078 |3.923076923076923   |\n",
    "|Watercraft in Distress                      |7.142857142857143 |6.886904817857143 |4.464285714285714   |\n",
    "|Suspicious Package                          |6.0               |6.57666672        |4.133333333333334   |\n",
    "|High Angle Rescue                           |6.387096774193548 |5.76075270967742  |4.225806451612903   |\n",
    "|Aircraft Emergency                          |10.0              |5.688888933333334 |4.0                 |\n",
    "|Other                                       |6.682915506035283 |5.517548746420615 |3.9600742804085423  |\n",
    "|Water Rescue                                |6.313513513513514 |5.50810810354054  |4.132432432432433   |\n",
    "|Fuel Spill                                  |6.357512953367876 |5.492227982383419 |4.2642487046632125  |\n",
    "|Citizen Assist / Service Call               |6.678174603174603 |5.470502643908732 |3.940873015873016   |\n",
    "|Mutual Aid / Assist Outside Agency          |6.625             |5.3583333500000006|4.75                |\n",
    "|Electrical Hazard                           |6.66390041493776  |5.178112038174276 |3.979253112033195   |\n",
    "|Industrial Accidents                        |6.0638297872340425|5.0147163340425545|4.095744680851064   |\n",
    "|Oil Spill                                   |6.428571428571429 |4.977777761904762 |4.761904761904762   |\n",
    "|Odor (Strange / Unknown)                    |6.642857142857143 |4.947959182000001 |4.09795918367347    |\n",
    "|Gas Leak (Natural and LP Gases)             |6.4057591623036645|4.583398778403142 |3.9960732984293195  |\n",
    "|Smoke Investigation (Outside)               |6.859335038363171 |4.466069897851662 |3.959079283887468   |\n",
    "|Extrication / Entrapped (Machinery, Vehicle)|6.464285714285714 |4.391666678571428 |4.107142857142857   |\n",
    "|Elevator / Escalator Rescue                 |6.448123620309051 |4.3378219334878585|4.260485651214128   |\n",
    "|Outside Fire                                |6.288396726047184 |4.173599744978333 |3.929224843524314   |\n",
    "|Explosion                                   |6.863636363636363 |4.105681829545454 |3.8068181818181817  |\n",
    "|Vehicle Fire                                |6.287735849056604 |3.9025550274174527|4.070754716981132   |\n",
    "|Medical Incident                            |6.523214553010892 |3.875683200596809 |4.027577462556462   |\n",
    "|Traffic Collision                           |6.627349691490888 |3.783885780595212 |4.116802984646291   |\n",
    "|Structure Fire                              |6.584228620541469 |3.597781836202839 |4.061667382896434   |\n",
    "|Alarms                                      |6.654925219185147 |3.542101600391443 |4.046518824136153   |\n",
    "+--------------------------------------------+------------------+------------------+--------------------+\n",
    "```"
   ]
  },
  {
   "cell_type": "markdown",
   "metadata": {},
   "source": [
    "### 5."
   ]
  },
  {
   "cell_type": "code",
   "execution_count": null,
   "metadata": {},
   "outputs": [],
   "source": [
    "# groupby on 'CallType' and 'Neighborhood'\n",
    "# aggregate on count(CallNumber) with alias CountCalls, avg(Delay) with alias AvgDelay,\n",
    "# min(Delay) with alias MinDelay, and max(Delay) with alias MaxDelay\n",
    "# in descending order by CallType and then Neighborhood.\n",
    "( data_calls\n",
    "    .groupBy()\n",
    "    .agg(\n",
    "        ,\n",
    "        ,\n",
    "        ,\n",
    "        ,\n",
    "         )\n",
    "    .orderBy()\n",
    "    .show(truncate=False)\n",
    ")\n"
   ]
  },
  {
   "cell_type": "markdown",
   "metadata": {},
   "source": [
    "**Expected result**\n",
    "```raw\n",
    "+----------------------+------------------------------+----------+------------------+----------+---------+\n",
    "|CallType              |Neighborhood                  |CountCalls|AvgDelay          |MinDelay  |MaxDelay |\n",
    "+----------------------+------------------------------+----------+------------------+----------+---------+\n",
    "|Watercraft in Distress|Treasure Island               |2         |7.441666850000001 |6.2166667 |8.666667 |\n",
    "|Watercraft in Distress|Tenderloin                    |2         |6.3416666500000005|6.2833333 |6.4      |\n",
    "|Watercraft in Distress|Sunset/Parkside               |1         |5.95              |5.95      |5.95     |\n",
    "|Watercraft in Distress|Russian Hill                  |2         |6.325             |3.9       |8.75     |\n",
    "|Watercraft in Distress|Presidio                      |1         |7.9               |7.9       |7.9      |\n",
    "|Watercraft in Distress|North Beach                   |5         |6.613333259999999 |4.116667  |9.933333 |\n",
    "|Watercraft in Distress|None                          |2         |6.9833335000000005|6.2       |7.766667 |\n",
    "|Watercraft in Distress|Marina                        |4         |4.7708333750000005|1.95      |5.8333335|\n",
    "|Watercraft in Distress|Lakeshore                     |1         |5.1666665         |5.1666665 |5.1666665|\n",
    "|Watercraft in Distress|Financial District/South Beach|3         |5.1222222         |3.9       |6.8166666|\n",
    "|Watercraft in Distress|Bayview Hunters Point         |5         |10.423333600000001|2.7       |16.333334|\n",
    "|Water Rescue          |Treasure Island               |23        |7.3963767521739125|1.8833333 |24.666666|\n",
    "|Water Rescue          |Tenderloin                    |71        |4.550704191830987 |0.48333332|14.866667|\n",
    "|Water Rescue          |Sunset/Parkside               |49        |4.9874149367346945|1.8666667 |10.966666|\n",
    "|Water Rescue          |Seacliff                      |10        |8.97166663        |1.1333333 |35.483334|\n",
    "|Water Rescue          |Russian Hill                  |28        |5.245238189285714 |1.1833333 |11.783334|\n",
    "|Water Rescue          |Presidio                      |98        |6.172278876530611 |1.3       |38.05    |\n",
    "|Water Rescue          |Potrero Hill                  |6         |5.3500000666666665|3.7166667 |7.2166667|\n",
    "|Water Rescue          |Outer Richmond                |100       |4.689333335       |1.45      |14.6     |\n",
    "|Water Rescue          |North Beach                   |39        |5.96367531025641  |1.2166667 |20.45    |\n",
    "+----------------------+------------------------------+----------+------------------+----------+---------+\n",
    "only showing top 20 rows\n",
    "````"
   ]
  },
  {
   "cell_type": "markdown",
   "metadata": {},
   "source": [
    "### 6. Graphics showing outcome of data aggregation so we can better understand"
   ]
  },
  {
   "cell_type": "code",
   "execution_count": null,
   "metadata": {},
   "outputs": [],
   "source": [
    "# pip install plotly\n",
    "# https://plotly.com/python/\n",
    "\n",
    "!pip install plotly"
   ]
  },
  {
   "cell_type": "code",
   "execution_count": null,
   "metadata": {},
   "outputs": [],
   "source": [
    "import plotly\n",
    "plotly.__version__"
   ]
  },
  {
   "cell_type": "code",
   "execution_count": null,
   "metadata": {},
   "outputs": [],
   "source": [
    "\n",
    "import pandas as pd\n",
    "import plotly.express as px\n"
   ]
  },
  {
   "cell_type": "code",
   "execution_count": null,
   "metadata": {},
   "outputs": [],
   "source": [
    "data_plot = ( data_calls\n",
    "    .groupBy('CallType')\n",
    "    .count()\n",
    "    .orderBy('count', ascending=False)\n",
    ")\n",
    "\n",
    "data_plot.show(truncate=False)"
   ]
  },
  {
   "cell_type": "code",
   "execution_count": null,
   "metadata": {},
   "outputs": [],
   "source": [
    "fig = px.bar(data_plot.toPandas(),x='CallType',y='count')\n",
    "fig.show()"
   ]
  },
  {
   "cell_type": "code",
   "execution_count": null,
   "metadata": {},
   "outputs": [],
   "source": []
  }
 ],
 "metadata": {
  "kernelspec": {
   "display_name": "vscode_pyspark",
   "language": "python",
   "name": "python3"
  },
  "language_info": {
   "codemirror_mode": {
    "name": "ipython",
    "version": 3
   },
   "file_extension": ".py",
   "mimetype": "text/x-python",
   "name": "python",
   "nbconvert_exporter": "python",
   "pygments_lexer": "ipython3",
   "version": "3.11.11"
  }
 },
 "nbformat": 4,
 "nbformat_minor": 2
}
