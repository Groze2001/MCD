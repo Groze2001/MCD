{
 "cells": [
  {
   "cell_type": "code",
   "execution_count": 58,
   "metadata": {},
   "outputs": [],
   "source": [
    "import pyspark\n"
   ]
  },
  {
   "cell_type": "code",
   "execution_count": 59,
   "metadata": {},
   "outputs": [],
   "source": [
    "from pyspark.sql import SparkSession\n"
   ]
  },
  {
   "cell_type": "code",
   "execution_count": 60,
   "metadata": {},
   "outputs": [],
   "source": [
    "spark = SparkSession.builder.getOrCreate()\n"
   ]
  },
  {
   "cell_type": "code",
   "execution_count": 61,
   "metadata": {},
   "outputs": [
    {
     "data": {
      "text/html": [
       "\n",
       "            <div>\n",
       "                <p><b>SparkSession - in-memory</b></p>\n",
       "                \n",
       "        <div>\n",
       "            <p><b>SparkContext</b></p>\n",
       "\n",
       "            <p><a href=\"http://46783b82c75f:4040\">Spark UI</a></p>\n",
       "\n",
       "            <dl>\n",
       "              <dt>Version</dt>\n",
       "                <dd><code>v3.5.0</code></dd>\n",
       "              <dt>Master</dt>\n",
       "                <dd><code>local[*]</code></dd>\n",
       "              <dt>AppName</dt>\n",
       "                <dd><code>pyspark-shell</code></dd>\n",
       "            </dl>\n",
       "        </div>\n",
       "        \n",
       "            </div>\n",
       "        "
      ],
      "text/plain": [
       "<pyspark.sql.session.SparkSession at 0x7f9b743b6150>"
      ]
     },
     "execution_count": 61,
     "metadata": {},
     "output_type": "execute_result"
    }
   ],
   "source": [
    "spark"
   ]
  },
  {
   "cell_type": "code",
   "execution_count": 62,
   "metadata": {},
   "outputs": [],
   "source": [
    "mydata = spark.read.format('csv').option(\"header\",True).load(\"salary.csv\")"
   ]
  },
  {
   "cell_type": "code",
   "execution_count": 63,
   "metadata": {},
   "outputs": [
    {
     "name": "stdout",
     "output_type": "stream",
     "text": [
      "+----+------+-----------------+--------------------+-----------------+-------+\n",
      "| Age|Gender|  Education Level|            JobTitle|YearsOfExperience| Salary|\n",
      "+----+------+-----------------+--------------------+-----------------+-------+\n",
      "|  32|  Male|       Bachelor's|   Software Engineer|                5| $90000|\n",
      "|  28|Female|         Master's|        Data Analyst|                3| $65000|\n",
      "|  45|  Male|              PhD|      Senior Manager|               15|$150000|\n",
      "|  27|  Male|             NULL|           Developer|                7|$100000|\n",
      "|  36|Female|       Bachelor's|     Sales Associate|                7| $60000|\n",
      "|  52|  Male|         Master's|            Director|               20|$200000|\n",
      "|  29|  Male|       Bachelor's|   Marketing Analyst|                2| $55000|\n",
      "|  42|Female|         Master's|     Product Manager|               12|$120000|\n",
      "|  31|  Male|       Bachelor's|       Sales Manager|                4| $80000|\n",
      "|  26|Female|Bachelor's Degree|            Social M|             NULL|   NULL|\n",
      "|  26|Female|       Bachelor's|Marketing Coordin...|                1| $45000|\n",
      "|  38|  Male|              PhD|    Senior Scientist|               10|$110000|\n",
      "|NULL|  NULL|             NULL|                NULL|             NULL|   NULL|\n",
      "|  29|  Male|         Master's|  Software Developer|                3| $75000|\n",
      "|  48|Female|       Bachelor's|          HR Manager|               18|$140000|\n",
      "|  31|  Male|  Master's Degree| Full Stack Engineer|                8|   NULL|\n",
      "|  35|  Male|       Bachelor's|   Financial Analyst|                6| $65000|\n",
      "|  40|Female|         Master's|     Project Manager|               14|$130000|\n",
      "|  36|  Male|Bachelor's Degree|      Sales Director|                6|   NULL|\n",
      "|  27|  Male|       Bachelor's|Customer Service Rep|                2| $40000|\n",
      "+----+------+-----------------+--------------------+-----------------+-------+\n",
      "only showing top 20 rows\n",
      "\n"
     ]
    }
   ],
   "source": [
    "mydata.show()"
   ]
  },
  {
   "cell_type": "code",
   "execution_count": 64,
   "metadata": {},
   "outputs": [
    {
     "data": {
      "text/plain": [
       "6703"
      ]
     },
     "execution_count": 64,
     "metadata": {},
     "output_type": "execute_result"
    }
   ],
   "source": [
    "mydata.count()"
   ]
  },
  {
   "cell_type": "code",
   "execution_count": 65,
   "metadata": {},
   "outputs": [
    {
     "name": "stdout",
     "output_type": "stream",
     "text": [
      "+-------+-----------------+------+---------------+---------------+-----------------+-------+\n",
      "|summary|              Age|Gender|Education Level|       JobTitle|YearsOfExperience| Salary|\n",
      "+-------+-----------------+------+---------------+---------------+-----------------+-------+\n",
      "|  count|             6702|  6702|           6701|           6702|             6701|   6699|\n",
      "|   mean|33.62085944494181|  NULL|           NULL|           NULL|8.094687360095508|   NULL|\n",
      "| stddev|7.614632626251294|  NULL|           NULL|           NULL|6.059003056634107|   NULL|\n",
      "|    min|               21|Female|     Bachelor's|Account Manager|                0|$100000|\n",
      "|    max|               62| Other|            phD|  Web Developer|                9| $99747|\n",
      "+-------+-----------------+------+---------------+---------------+-----------------+-------+\n",
      "\n"
     ]
    }
   ],
   "source": [
    "mydata.describe().show()"
   ]
  },
  {
   "cell_type": "code",
   "execution_count": 66,
   "metadata": {},
   "outputs": [],
   "source": [
    "from pyspark.sql.functions import *"
   ]
  },
  {
   "cell_type": "code",
   "execution_count": 67,
   "metadata": {},
   "outputs": [],
   "source": [
    "mydata = mydata.withColumn(\"Education\", when(mydata[\"Education Level\"].isNull(),\"unknown\").otherwise(mydata[\"Education Level\"]))"
   ]
  },
  {
   "cell_type": "code",
   "execution_count": 68,
   "metadata": {},
   "outputs": [
    {
     "name": "stdout",
     "output_type": "stream",
     "text": [
      "+----+------+-----------------+--------------------+-----------------+-------+-----------------+\n",
      "| Age|Gender|  Education Level|            JobTitle|YearsOfExperience| Salary|        Education|\n",
      "+----+------+-----------------+--------------------+-----------------+-------+-----------------+\n",
      "|  32|  Male|       Bachelor's|   Software Engineer|                5| $90000|       Bachelor's|\n",
      "|  28|Female|         Master's|        Data Analyst|                3| $65000|         Master's|\n",
      "|  45|  Male|              PhD|      Senior Manager|               15|$150000|              PhD|\n",
      "|  27|  Male|             NULL|           Developer|                7|$100000|          unknown|\n",
      "|  36|Female|       Bachelor's|     Sales Associate|                7| $60000|       Bachelor's|\n",
      "|  52|  Male|         Master's|            Director|               20|$200000|         Master's|\n",
      "|  29|  Male|       Bachelor's|   Marketing Analyst|                2| $55000|       Bachelor's|\n",
      "|  42|Female|         Master's|     Product Manager|               12|$120000|         Master's|\n",
      "|  31|  Male|       Bachelor's|       Sales Manager|                4| $80000|       Bachelor's|\n",
      "|  26|Female|Bachelor's Degree|            Social M|             NULL|   NULL|Bachelor's Degree|\n",
      "|  26|Female|       Bachelor's|Marketing Coordin...|                1| $45000|       Bachelor's|\n",
      "|  38|  Male|              PhD|    Senior Scientist|               10|$110000|              PhD|\n",
      "|NULL|  NULL|             NULL|                NULL|             NULL|   NULL|          unknown|\n",
      "|  29|  Male|         Master's|  Software Developer|                3| $75000|         Master's|\n",
      "|  48|Female|       Bachelor's|          HR Manager|               18|$140000|       Bachelor's|\n",
      "|  31|  Male|  Master's Degree| Full Stack Engineer|                8|   NULL|  Master's Degree|\n",
      "|  35|  Male|       Bachelor's|   Financial Analyst|                6| $65000|       Bachelor's|\n",
      "|  40|Female|         Master's|     Project Manager|               14|$130000|         Master's|\n",
      "|  36|  Male|Bachelor's Degree|      Sales Director|                6|   NULL|Bachelor's Degree|\n",
      "|  27|  Male|       Bachelor's|Customer Service Rep|                2| $40000|       Bachelor's|\n",
      "+----+------+-----------------+--------------------+-----------------+-------+-----------------+\n",
      "only showing top 20 rows\n",
      "\n"
     ]
    }
   ],
   "source": [
    "mydata.show()"
   ]
  },
  {
   "cell_type": "code",
   "execution_count": 69,
   "metadata": {},
   "outputs": [],
   "source": [
    "mydata = mydata.filter(mydata.Age.isNotNull())   "
   ]
  },
  {
   "cell_type": "code",
   "execution_count": 70,
   "metadata": {},
   "outputs": [
    {
     "name": "stdout",
     "output_type": "stream",
     "text": [
      "+---+------+-----------------+--------------------+-----------------+-------+-----------------+\n",
      "|Age|Gender|  Education Level|            JobTitle|YearsOfExperience| Salary|        Education|\n",
      "+---+------+-----------------+--------------------+-----------------+-------+-----------------+\n",
      "| 32|  Male|       Bachelor's|   Software Engineer|                5| $90000|       Bachelor's|\n",
      "| 28|Female|         Master's|        Data Analyst|                3| $65000|         Master's|\n",
      "| 45|  Male|              PhD|      Senior Manager|               15|$150000|              PhD|\n",
      "| 27|  Male|             NULL|           Developer|                7|$100000|          unknown|\n",
      "| 36|Female|       Bachelor's|     Sales Associate|                7| $60000|       Bachelor's|\n",
      "| 52|  Male|         Master's|            Director|               20|$200000|         Master's|\n",
      "| 29|  Male|       Bachelor's|   Marketing Analyst|                2| $55000|       Bachelor's|\n",
      "| 42|Female|         Master's|     Product Manager|               12|$120000|         Master's|\n",
      "| 31|  Male|       Bachelor's|       Sales Manager|                4| $80000|       Bachelor's|\n",
      "| 26|Female|Bachelor's Degree|            Social M|             NULL|   NULL|Bachelor's Degree|\n",
      "| 26|Female|       Bachelor's|Marketing Coordin...|                1| $45000|       Bachelor's|\n",
      "| 38|  Male|              PhD|    Senior Scientist|               10|$110000|              PhD|\n",
      "| 29|  Male|         Master's|  Software Developer|                3| $75000|         Master's|\n",
      "| 48|Female|       Bachelor's|          HR Manager|               18|$140000|       Bachelor's|\n",
      "| 31|  Male|  Master's Degree| Full Stack Engineer|                8|   NULL|  Master's Degree|\n",
      "| 35|  Male|       Bachelor's|   Financial Analyst|                6| $65000|       Bachelor's|\n",
      "| 40|Female|         Master's|     Project Manager|               14|$130000|         Master's|\n",
      "| 36|  Male|Bachelor's Degree|      Sales Director|                6|   NULL|Bachelor's Degree|\n",
      "| 27|  Male|       Bachelor's|Customer Service Rep|                2| $40000|       Bachelor's|\n",
      "| 44|  Male|       Bachelor's|  Operations Manager|               16|$125000|       Bachelor's|\n",
      "+---+------+-----------------+--------------------+-----------------+-------+-----------------+\n",
      "only showing top 20 rows\n",
      "\n"
     ]
    }
   ],
   "source": [
    "mydata.show()"
   ]
  },
  {
   "cell_type": "code",
   "execution_count": 71,
   "metadata": {},
   "outputs": [],
   "source": [
    "mydata = mydata.withColumn(\"cleaned_salary\", mydata.Salary.substr(2,100).cast(\"float\"))"
   ]
  },
  {
   "cell_type": "code",
   "execution_count": 72,
   "metadata": {},
   "outputs": [
    {
     "name": "stdout",
     "output_type": "stream",
     "text": [
      "+---+------+-----------------+--------------------+-----------------+-------+-----------------+--------------+\n",
      "|Age|Gender|  Education Level|            JobTitle|YearsOfExperience| Salary|        Education|cleaned_salary|\n",
      "+---+------+-----------------+--------------------+-----------------+-------+-----------------+--------------+\n",
      "| 32|  Male|       Bachelor's|   Software Engineer|                5| $90000|       Bachelor's|       90000.0|\n",
      "| 28|Female|         Master's|        Data Analyst|                3| $65000|         Master's|       65000.0|\n",
      "| 45|  Male|              PhD|      Senior Manager|               15|$150000|              PhD|      150000.0|\n",
      "| 27|  Male|             NULL|           Developer|                7|$100000|          unknown|      100000.0|\n",
      "| 36|Female|       Bachelor's|     Sales Associate|                7| $60000|       Bachelor's|       60000.0|\n",
      "| 52|  Male|         Master's|            Director|               20|$200000|         Master's|      200000.0|\n",
      "| 29|  Male|       Bachelor's|   Marketing Analyst|                2| $55000|       Bachelor's|       55000.0|\n",
      "| 42|Female|         Master's|     Product Manager|               12|$120000|         Master's|      120000.0|\n",
      "| 31|  Male|       Bachelor's|       Sales Manager|                4| $80000|       Bachelor's|       80000.0|\n",
      "| 26|Female|Bachelor's Degree|            Social M|             NULL|   NULL|Bachelor's Degree|          NULL|\n",
      "| 26|Female|       Bachelor's|Marketing Coordin...|                1| $45000|       Bachelor's|       45000.0|\n",
      "| 38|  Male|              PhD|    Senior Scientist|               10|$110000|              PhD|      110000.0|\n",
      "| 29|  Male|         Master's|  Software Developer|                3| $75000|         Master's|       75000.0|\n",
      "| 48|Female|       Bachelor's|          HR Manager|               18|$140000|       Bachelor's|      140000.0|\n",
      "| 31|  Male|  Master's Degree| Full Stack Engineer|                8|   NULL|  Master's Degree|          NULL|\n",
      "| 35|  Male|       Bachelor's|   Financial Analyst|                6| $65000|       Bachelor's|       65000.0|\n",
      "| 40|Female|         Master's|     Project Manager|               14|$130000|         Master's|      130000.0|\n",
      "| 36|  Male|Bachelor's Degree|      Sales Director|                6|   NULL|Bachelor's Degree|          NULL|\n",
      "| 27|  Male|       Bachelor's|Customer Service Rep|                2| $40000|       Bachelor's|       40000.0|\n",
      "| 44|  Male|       Bachelor's|  Operations Manager|               16|$125000|       Bachelor's|      125000.0|\n",
      "+---+------+-----------------+--------------------+-----------------+-------+-----------------+--------------+\n",
      "only showing top 20 rows\n",
      "\n"
     ]
    }
   ],
   "source": [
    "mydata.show()"
   ]
  },
  {
   "cell_type": "code",
   "execution_count": 73,
   "metadata": {},
   "outputs": [
    {
     "name": "stdout",
     "output_type": "stream",
     "text": [
      "+-------------------+\n",
      "|avg(cleaned_salary)|\n",
      "+-------------------+\n",
      "| 115326.96477086132|\n",
      "+-------------------+\n",
      "\n"
     ]
    }
   ],
   "source": [
    "mean_salary = mydata.select(avg(\"cleaned_salary\"))\n",
    "mean_salary.show()\n"
   ]
  },
  {
   "cell_type": "code",
   "execution_count": 74,
   "metadata": {},
   "outputs": [
    {
     "data": {
      "text/plain": [
       "115326.96477086132"
      ]
     },
     "execution_count": 74,
     "metadata": {},
     "output_type": "execute_result"
    }
   ],
   "source": [
    "mean = mydata.select(avg(\"cleaned_salary\")).take(1)[0][0]\n",
    "mean"
   ]
  },
  {
   "cell_type": "code",
   "execution_count": 75,
   "metadata": {},
   "outputs": [],
   "source": [
    "mydata = mydata.withColumn(\"new_salary\", when(mydata[\"cleaned_salary\"].isNull(),mean).otherwise(mydata[\"cleaned_salary\"]))"
   ]
  },
  {
   "cell_type": "code",
   "execution_count": 76,
   "metadata": {},
   "outputs": [
    {
     "name": "stdout",
     "output_type": "stream",
     "text": [
      "+---+------+-----------------+--------------------+-----------------+-------+-----------------+--------------+------------------+\n",
      "|Age|Gender|  Education Level|            JobTitle|YearsOfExperience| Salary|        Education|cleaned_salary|        new_salary|\n",
      "+---+------+-----------------+--------------------+-----------------+-------+-----------------+--------------+------------------+\n",
      "| 32|  Male|       Bachelor's|   Software Engineer|                5| $90000|       Bachelor's|       90000.0|           90000.0|\n",
      "| 28|Female|         Master's|        Data Analyst|                3| $65000|         Master's|       65000.0|           65000.0|\n",
      "| 45|  Male|              PhD|      Senior Manager|               15|$150000|              PhD|      150000.0|          150000.0|\n",
      "| 27|  Male|             NULL|           Developer|                7|$100000|          unknown|      100000.0|          100000.0|\n",
      "| 36|Female|       Bachelor's|     Sales Associate|                7| $60000|       Bachelor's|       60000.0|           60000.0|\n",
      "| 52|  Male|         Master's|            Director|               20|$200000|         Master's|      200000.0|          200000.0|\n",
      "| 29|  Male|       Bachelor's|   Marketing Analyst|                2| $55000|       Bachelor's|       55000.0|           55000.0|\n",
      "| 42|Female|         Master's|     Product Manager|               12|$120000|         Master's|      120000.0|          120000.0|\n",
      "| 31|  Male|       Bachelor's|       Sales Manager|                4| $80000|       Bachelor's|       80000.0|           80000.0|\n",
      "| 26|Female|Bachelor's Degree|            Social M|             NULL|   NULL|Bachelor's Degree|          NULL|115326.96477086132|\n",
      "| 26|Female|       Bachelor's|Marketing Coordin...|                1| $45000|       Bachelor's|       45000.0|           45000.0|\n",
      "| 38|  Male|              PhD|    Senior Scientist|               10|$110000|              PhD|      110000.0|          110000.0|\n",
      "| 29|  Male|         Master's|  Software Developer|                3| $75000|         Master's|       75000.0|           75000.0|\n",
      "| 48|Female|       Bachelor's|          HR Manager|               18|$140000|       Bachelor's|      140000.0|          140000.0|\n",
      "| 31|  Male|  Master's Degree| Full Stack Engineer|                8|   NULL|  Master's Degree|          NULL|115326.96477086132|\n",
      "| 35|  Male|       Bachelor's|   Financial Analyst|                6| $65000|       Bachelor's|       65000.0|           65000.0|\n",
      "| 40|Female|         Master's|     Project Manager|               14|$130000|         Master's|      130000.0|          130000.0|\n",
      "| 36|  Male|Bachelor's Degree|      Sales Director|                6|   NULL|Bachelor's Degree|          NULL|115326.96477086132|\n",
      "| 27|  Male|       Bachelor's|Customer Service Rep|                2| $40000|       Bachelor's|       40000.0|           40000.0|\n",
      "| 44|  Male|       Bachelor's|  Operations Manager|               16|$125000|       Bachelor's|      125000.0|          125000.0|\n",
      "+---+------+-----------------+--------------------+-----------------+-------+-----------------+--------------+------------------+\n",
      "only showing top 20 rows\n",
      "\n"
     ]
    }
   ],
   "source": [
    "mydata.show()"
   ]
  },
  {
   "cell_type": "code",
   "execution_count": 77,
   "metadata": {},
   "outputs": [
    {
     "name": "stdout",
     "output_type": "stream",
     "text": [
      "+-----------------+\n",
      "|YearsOfExperience|\n",
      "+-----------------+\n",
      "|                5|\n",
      "|                3|\n",
      "|               15|\n",
      "|                7|\n",
      "|                7|\n",
      "|               20|\n",
      "|                2|\n",
      "|               12|\n",
      "|                4|\n",
      "|             NULL|\n",
      "|                1|\n",
      "|               10|\n",
      "|                3|\n",
      "|               18|\n",
      "|                8|\n",
      "|                6|\n",
      "|               14|\n",
      "|                6|\n",
      "|                2|\n",
      "|               16|\n",
      "+-----------------+\n",
      "only showing top 20 rows\n",
      "\n"
     ]
    }
   ],
   "source": [
    "years_experience = mydata.select(\"YearsOfExperience\").show()\n",
    "years_experience"
   ]
  },
  {
   "cell_type": "code",
   "execution_count": null,
   "metadata": {},
   "outputs": [
    {
     "ename": "AttributeError",
     "evalue": "'NoneType' object has no attribute 'filter'",
     "output_type": "error",
     "traceback": [
      "\u001b[0;31m---------------------------------------------------------------------------\u001b[0m",
      "\u001b[0;31mAttributeError\u001b[0m                            Traceback (most recent call last)",
      "Cell \u001b[0;32mIn[78], line 1\u001b[0m\n\u001b[0;32m----> 1\u001b[0m years_experience \u001b[38;5;241m=\u001b[39m \u001b[43myears_experience\u001b[49m\u001b[38;5;241;43m.\u001b[39;49m\u001b[43mfilter\u001b[49m(years_experience\u001b[38;5;241m.\u001b[39mYearsOfExperience\u001b[38;5;241m.\u001b[39misNotNull())\n\u001b[1;32m      2\u001b[0m years_experience\u001b[38;5;241m.\u001b[39mshow()\n",
      "\u001b[0;31mAttributeError\u001b[0m: 'NoneType' object has no attribute 'filter'"
     ]
    }
   ],
   "source": [
    "years_experience = years_experience.filter(years_experience.YearsOfExperience.isNotNull())\n",
    "years_experience.show()"
   ]
  }
 ],
 "metadata": {
  "kernelspec": {
   "display_name": "vscode_pyspark",
   "language": "python",
   "name": "vscode_pyspark"
  },
  "language_info": {
   "codemirror_mode": {
    "name": "ipython",
    "version": 3
   },
   "file_extension": ".py",
   "mimetype": "text/x-python",
   "name": "python",
   "nbconvert_exporter": "python",
   "pygments_lexer": "ipython3",
   "version": "3.11.11"
  }
 },
 "nbformat": 4,
 "nbformat_minor": 2
}
