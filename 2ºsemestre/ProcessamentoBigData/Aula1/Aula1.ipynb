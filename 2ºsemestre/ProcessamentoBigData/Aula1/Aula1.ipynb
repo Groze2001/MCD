{
 "cells": [
  {
   "cell_type": "code",
   "execution_count": 2,
   "metadata": {},
   "outputs": [],
   "source": [
    "import pyspark\n"
   ]
  },
  {
   "cell_type": "code",
   "execution_count": 3,
   "metadata": {},
   "outputs": [],
   "source": [
    "from pyspark.sql import SparkSession\n"
   ]
  },
  {
   "cell_type": "code",
   "execution_count": 4,
   "metadata": {},
   "outputs": [],
   "source": [
    "spark = SparkSession.builder.getOrCreate()\n"
   ]
  },
  {
   "cell_type": "code",
   "execution_count": 5,
   "metadata": {},
   "outputs": [
    {
     "data": {
      "text/html": [
       "\n",
       "            <div>\n",
       "                <p><b>SparkSession - in-memory</b></p>\n",
       "                \n",
       "        <div>\n",
       "            <p><b>SparkContext</b></p>\n",
       "\n",
       "            <p><a href=\"http://46783b82c75f:4040\">Spark UI</a></p>\n",
       "\n",
       "            <dl>\n",
       "              <dt>Version</dt>\n",
       "                <dd><code>v3.5.0</code></dd>\n",
       "              <dt>Master</dt>\n",
       "                <dd><code>local[*]</code></dd>\n",
       "              <dt>AppName</dt>\n",
       "                <dd><code>pyspark-shell</code></dd>\n",
       "            </dl>\n",
       "        </div>\n",
       "        \n",
       "            </div>\n",
       "        "
      ],
      "text/plain": [
       "<pyspark.sql.session.SparkSession at 0x7f84bad50a50>"
      ]
     },
     "execution_count": 5,
     "metadata": {},
     "output_type": "execute_result"
    }
   ],
   "source": [
    "spark"
   ]
  },
  {
   "cell_type": "code",
   "execution_count": 6,
   "metadata": {},
   "outputs": [],
   "source": [
    "mydata = spark.read.format('csv').option(\"header\",True).load(\"salary.csv\")"
   ]
  },
  {
   "cell_type": "code",
   "execution_count": 7,
   "metadata": {},
   "outputs": [
    {
     "name": "stdout",
     "output_type": "stream",
     "text": [
      "+----+------+-----------------+--------------------+-----------------+-------+\n",
      "| Age|Gender|  Education Level|            JobTitle|YearsOfExperience| Salary|\n",
      "+----+------+-----------------+--------------------+-----------------+-------+\n",
      "|  32|  Male|       Bachelor's|   Software Engineer|                5| $90000|\n",
      "|  28|Female|         Master's|        Data Analyst|                3| $65000|\n",
      "|  45|  Male|              PhD|      Senior Manager|               15|$150000|\n",
      "|  27|  Male|             NULL|           Developer|                7|$100000|\n",
      "|  36|Female|       Bachelor's|     Sales Associate|                7| $60000|\n",
      "|  52|  Male|         Master's|            Director|               20|$200000|\n",
      "|  29|  Male|       Bachelor's|   Marketing Analyst|                2| $55000|\n",
      "|  42|Female|         Master's|     Product Manager|               12|$120000|\n",
      "|  31|  Male|       Bachelor's|       Sales Manager|                4| $80000|\n",
      "|  26|Female|Bachelor's Degree|            Social M|             NULL|   NULL|\n",
      "|  26|Female|       Bachelor's|Marketing Coordin...|                1| $45000|\n",
      "|  38|  Male|              PhD|    Senior Scientist|               10|$110000|\n",
      "|NULL|  NULL|             NULL|                NULL|             NULL|   NULL|\n",
      "|  29|  Male|         Master's|  Software Developer|                3| $75000|\n",
      "|  48|Female|       Bachelor's|          HR Manager|               18|$140000|\n",
      "|  31|  Male|  Master's Degree| Full Stack Engineer|                8|   NULL|\n",
      "|  35|  Male|       Bachelor's|   Financial Analyst|                6| $65000|\n",
      "|  40|Female|         Master's|     Project Manager|               14|$130000|\n",
      "|  36|  Male|Bachelor's Degree|      Sales Director|                6|   NULL|\n",
      "|  27|  Male|       Bachelor's|Customer Service Rep|                2| $40000|\n",
      "+----+------+-----------------+--------------------+-----------------+-------+\n",
      "only showing top 20 rows\n",
      "\n"
     ]
    }
   ],
   "source": [
    "mydata.show()"
   ]
  },
  {
   "cell_type": "code",
   "execution_count": 8,
   "metadata": {},
   "outputs": [
    {
     "data": {
      "text/plain": [
       "6703"
      ]
     },
     "execution_count": 8,
     "metadata": {},
     "output_type": "execute_result"
    }
   ],
   "source": [
    "mydata.count()"
   ]
  },
  {
   "cell_type": "code",
   "execution_count": 9,
   "metadata": {},
   "outputs": [
    {
     "name": "stdout",
     "output_type": "stream",
     "text": [
      "+-------+-----------------+------+---------------+---------------+-----------------+-------+\n",
      "|summary|              Age|Gender|Education Level|       JobTitle|YearsOfExperience| Salary|\n",
      "+-------+-----------------+------+---------------+---------------+-----------------+-------+\n",
      "|  count|             6702|  6702|           6701|           6702|             6701|   6699|\n",
      "|   mean|33.62085944494181|  NULL|           NULL|           NULL|8.094687360095508|   NULL|\n",
      "| stddev|7.614632626251294|  NULL|           NULL|           NULL|6.059003056634107|   NULL|\n",
      "|    min|               21|Female|     Bachelor's|Account Manager|                0|$100000|\n",
      "|    max|               62| Other|            phD|  Web Developer|                9| $99747|\n",
      "+-------+-----------------+------+---------------+---------------+-----------------+-------+\n",
      "\n"
     ]
    }
   ],
   "source": [
    "mydata.describe().show()"
   ]
  },
  {
   "cell_type": "code",
   "execution_count": 10,
   "metadata": {},
   "outputs": [],
   "source": [
    "from pyspark.sql.functions import *"
   ]
  },
  {
   "cell_type": "code",
   "execution_count": 11,
   "metadata": {},
   "outputs": [],
   "source": [
    "mydata = mydata.withColumn(\"Education\", when(mydata[\"Education Level\"].isNull(),\"unknown\").otherwise(mydata[\"Education Level\"]))"
   ]
  },
  {
   "cell_type": "code",
   "execution_count": 12,
   "metadata": {},
   "outputs": [
    {
     "name": "stdout",
     "output_type": "stream",
     "text": [
      "+----+------+-----------------+--------------------+-----------------+-------+-----------------+\n",
      "| Age|Gender|  Education Level|            JobTitle|YearsOfExperience| Salary|        Education|\n",
      "+----+------+-----------------+--------------------+-----------------+-------+-----------------+\n",
      "|  32|  Male|       Bachelor's|   Software Engineer|                5| $90000|       Bachelor's|\n",
      "|  28|Female|         Master's|        Data Analyst|                3| $65000|         Master's|\n",
      "|  45|  Male|              PhD|      Senior Manager|               15|$150000|              PhD|\n",
      "|  27|  Male|             NULL|           Developer|                7|$100000|          unknown|\n",
      "|  36|Female|       Bachelor's|     Sales Associate|                7| $60000|       Bachelor's|\n",
      "|  52|  Male|         Master's|            Director|               20|$200000|         Master's|\n",
      "|  29|  Male|       Bachelor's|   Marketing Analyst|                2| $55000|       Bachelor's|\n",
      "|  42|Female|         Master's|     Product Manager|               12|$120000|         Master's|\n",
      "|  31|  Male|       Bachelor's|       Sales Manager|                4| $80000|       Bachelor's|\n",
      "|  26|Female|Bachelor's Degree|            Social M|             NULL|   NULL|Bachelor's Degree|\n",
      "|  26|Female|       Bachelor's|Marketing Coordin...|                1| $45000|       Bachelor's|\n",
      "|  38|  Male|              PhD|    Senior Scientist|               10|$110000|              PhD|\n",
      "|NULL|  NULL|             NULL|                NULL|             NULL|   NULL|          unknown|\n",
      "|  29|  Male|         Master's|  Software Developer|                3| $75000|         Master's|\n",
      "|  48|Female|       Bachelor's|          HR Manager|               18|$140000|       Bachelor's|\n",
      "|  31|  Male|  Master's Degree| Full Stack Engineer|                8|   NULL|  Master's Degree|\n",
      "|  35|  Male|       Bachelor's|   Financial Analyst|                6| $65000|       Bachelor's|\n",
      "|  40|Female|         Master's|     Project Manager|               14|$130000|         Master's|\n",
      "|  36|  Male|Bachelor's Degree|      Sales Director|                6|   NULL|Bachelor's Degree|\n",
      "|  27|  Male|       Bachelor's|Customer Service Rep|                2| $40000|       Bachelor's|\n",
      "+----+------+-----------------+--------------------+-----------------+-------+-----------------+\n",
      "only showing top 20 rows\n",
      "\n"
     ]
    }
   ],
   "source": [
    "mydata.show()"
   ]
  },
  {
   "cell_type": "code",
   "execution_count": 13,
   "metadata": {},
   "outputs": [],
   "source": [
    "mydata = mydata.filter(mydata.Age.isNotNull())   "
   ]
  },
  {
   "cell_type": "code",
   "execution_count": 14,
   "metadata": {},
   "outputs": [
    {
     "name": "stdout",
     "output_type": "stream",
     "text": [
      "+---+------+-----------------+--------------------+-----------------+-------+-----------------+\n",
      "|Age|Gender|  Education Level|            JobTitle|YearsOfExperience| Salary|        Education|\n",
      "+---+------+-----------------+--------------------+-----------------+-------+-----------------+\n",
      "| 32|  Male|       Bachelor's|   Software Engineer|                5| $90000|       Bachelor's|\n",
      "| 28|Female|         Master's|        Data Analyst|                3| $65000|         Master's|\n",
      "| 45|  Male|              PhD|      Senior Manager|               15|$150000|              PhD|\n",
      "| 27|  Male|             NULL|           Developer|                7|$100000|          unknown|\n",
      "| 36|Female|       Bachelor's|     Sales Associate|                7| $60000|       Bachelor's|\n",
      "| 52|  Male|         Master's|            Director|               20|$200000|         Master's|\n",
      "| 29|  Male|       Bachelor's|   Marketing Analyst|                2| $55000|       Bachelor's|\n",
      "| 42|Female|         Master's|     Product Manager|               12|$120000|         Master's|\n",
      "| 31|  Male|       Bachelor's|       Sales Manager|                4| $80000|       Bachelor's|\n",
      "| 26|Female|Bachelor's Degree|            Social M|             NULL|   NULL|Bachelor's Degree|\n",
      "| 26|Female|       Bachelor's|Marketing Coordin...|                1| $45000|       Bachelor's|\n",
      "| 38|  Male|              PhD|    Senior Scientist|               10|$110000|              PhD|\n",
      "| 29|  Male|         Master's|  Software Developer|                3| $75000|         Master's|\n",
      "| 48|Female|       Bachelor's|          HR Manager|               18|$140000|       Bachelor's|\n",
      "| 31|  Male|  Master's Degree| Full Stack Engineer|                8|   NULL|  Master's Degree|\n",
      "| 35|  Male|       Bachelor's|   Financial Analyst|                6| $65000|       Bachelor's|\n",
      "| 40|Female|         Master's|     Project Manager|               14|$130000|         Master's|\n",
      "| 36|  Male|Bachelor's Degree|      Sales Director|                6|   NULL|Bachelor's Degree|\n",
      "| 27|  Male|       Bachelor's|Customer Service Rep|                2| $40000|       Bachelor's|\n",
      "| 44|  Male|       Bachelor's|  Operations Manager|               16|$125000|       Bachelor's|\n",
      "+---+------+-----------------+--------------------+-----------------+-------+-----------------+\n",
      "only showing top 20 rows\n",
      "\n"
     ]
    }
   ],
   "source": [
    "mydata.show()"
   ]
  },
  {
   "cell_type": "code",
   "execution_count": 15,
   "metadata": {},
   "outputs": [],
   "source": [
    "mydata = mydata.withColumn(\"cleaned_salary\", mydata.Salary.substr(2,100).cast(\"float\"))"
   ]
  },
  {
   "cell_type": "code",
   "execution_count": 16,
   "metadata": {},
   "outputs": [
    {
     "name": "stdout",
     "output_type": "stream",
     "text": [
      "+---+------+-----------------+--------------------+-----------------+-------+-----------------+--------------+\n",
      "|Age|Gender|  Education Level|            JobTitle|YearsOfExperience| Salary|        Education|cleaned_salary|\n",
      "+---+------+-----------------+--------------------+-----------------+-------+-----------------+--------------+\n",
      "| 32|  Male|       Bachelor's|   Software Engineer|                5| $90000|       Bachelor's|       90000.0|\n",
      "| 28|Female|         Master's|        Data Analyst|                3| $65000|         Master's|       65000.0|\n",
      "| 45|  Male|              PhD|      Senior Manager|               15|$150000|              PhD|      150000.0|\n",
      "| 27|  Male|             NULL|           Developer|                7|$100000|          unknown|      100000.0|\n",
      "| 36|Female|       Bachelor's|     Sales Associate|                7| $60000|       Bachelor's|       60000.0|\n",
      "| 52|  Male|         Master's|            Director|               20|$200000|         Master's|      200000.0|\n",
      "| 29|  Male|       Bachelor's|   Marketing Analyst|                2| $55000|       Bachelor's|       55000.0|\n",
      "| 42|Female|         Master's|     Product Manager|               12|$120000|         Master's|      120000.0|\n",
      "| 31|  Male|       Bachelor's|       Sales Manager|                4| $80000|       Bachelor's|       80000.0|\n",
      "| 26|Female|Bachelor's Degree|            Social M|             NULL|   NULL|Bachelor's Degree|          NULL|\n",
      "| 26|Female|       Bachelor's|Marketing Coordin...|                1| $45000|       Bachelor's|       45000.0|\n",
      "| 38|  Male|              PhD|    Senior Scientist|               10|$110000|              PhD|      110000.0|\n",
      "| 29|  Male|         Master's|  Software Developer|                3| $75000|         Master's|       75000.0|\n",
      "| 48|Female|       Bachelor's|          HR Manager|               18|$140000|       Bachelor's|      140000.0|\n",
      "| 31|  Male|  Master's Degree| Full Stack Engineer|                8|   NULL|  Master's Degree|          NULL|\n",
      "| 35|  Male|       Bachelor's|   Financial Analyst|                6| $65000|       Bachelor's|       65000.0|\n",
      "| 40|Female|         Master's|     Project Manager|               14|$130000|         Master's|      130000.0|\n",
      "| 36|  Male|Bachelor's Degree|      Sales Director|                6|   NULL|Bachelor's Degree|          NULL|\n",
      "| 27|  Male|       Bachelor's|Customer Service Rep|                2| $40000|       Bachelor's|       40000.0|\n",
      "| 44|  Male|       Bachelor's|  Operations Manager|               16|$125000|       Bachelor's|      125000.0|\n",
      "+---+------+-----------------+--------------------+-----------------+-------+-----------------+--------------+\n",
      "only showing top 20 rows\n",
      "\n"
     ]
    }
   ],
   "source": [
    "mydata.show()"
   ]
  },
  {
   "cell_type": "code",
   "execution_count": 17,
   "metadata": {},
   "outputs": [
    {
     "name": "stdout",
     "output_type": "stream",
     "text": [
      "+-------------------+\n",
      "|avg(cleaned_salary)|\n",
      "+-------------------+\n",
      "| 115326.96477086132|\n",
      "+-------------------+\n",
      "\n"
     ]
    }
   ],
   "source": [
    "mean_salary = mydata.select(avg(\"cleaned_salary\"))\n",
    "mean_salary.show()\n"
   ]
  },
  {
   "cell_type": "code",
   "execution_count": 18,
   "metadata": {},
   "outputs": [
    {
     "data": {
      "text/plain": [
       "115326.96477086132"
      ]
     },
     "execution_count": 18,
     "metadata": {},
     "output_type": "execute_result"
    }
   ],
   "source": [
    "mean = mydata.select(avg(\"cleaned_salary\")).take(1)[0][0]\n",
    "mean"
   ]
  },
  {
   "cell_type": "code",
   "execution_count": 19,
   "metadata": {},
   "outputs": [],
   "source": [
    "mydata = mydata.withColumn(\"new_salary\", when(mydata[\"cleaned_salary\"].isNull(),mean).otherwise(mydata[\"cleaned_salary\"]))"
   ]
  },
  {
   "cell_type": "code",
   "execution_count": 20,
   "metadata": {},
   "outputs": [
    {
     "name": "stdout",
     "output_type": "stream",
     "text": [
      "+---+------+-----------------+--------------------+-----------------+-------+-----------------+--------------+------------------+\n",
      "|Age|Gender|  Education Level|            JobTitle|YearsOfExperience| Salary|        Education|cleaned_salary|        new_salary|\n",
      "+---+------+-----------------+--------------------+-----------------+-------+-----------------+--------------+------------------+\n",
      "| 32|  Male|       Bachelor's|   Software Engineer|                5| $90000|       Bachelor's|       90000.0|           90000.0|\n",
      "| 28|Female|         Master's|        Data Analyst|                3| $65000|         Master's|       65000.0|           65000.0|\n",
      "| 45|  Male|              PhD|      Senior Manager|               15|$150000|              PhD|      150000.0|          150000.0|\n",
      "| 27|  Male|             NULL|           Developer|                7|$100000|          unknown|      100000.0|          100000.0|\n",
      "| 36|Female|       Bachelor's|     Sales Associate|                7| $60000|       Bachelor's|       60000.0|           60000.0|\n",
      "| 52|  Male|         Master's|            Director|               20|$200000|         Master's|      200000.0|          200000.0|\n",
      "| 29|  Male|       Bachelor's|   Marketing Analyst|                2| $55000|       Bachelor's|       55000.0|           55000.0|\n",
      "| 42|Female|         Master's|     Product Manager|               12|$120000|         Master's|      120000.0|          120000.0|\n",
      "| 31|  Male|       Bachelor's|       Sales Manager|                4| $80000|       Bachelor's|       80000.0|           80000.0|\n",
      "| 26|Female|Bachelor's Degree|            Social M|             NULL|   NULL|Bachelor's Degree|          NULL|115326.96477086132|\n",
      "| 26|Female|       Bachelor's|Marketing Coordin...|                1| $45000|       Bachelor's|       45000.0|           45000.0|\n",
      "| 38|  Male|              PhD|    Senior Scientist|               10|$110000|              PhD|      110000.0|          110000.0|\n",
      "| 29|  Male|         Master's|  Software Developer|                3| $75000|         Master's|       75000.0|           75000.0|\n",
      "| 48|Female|       Bachelor's|          HR Manager|               18|$140000|       Bachelor's|      140000.0|          140000.0|\n",
      "| 31|  Male|  Master's Degree| Full Stack Engineer|                8|   NULL|  Master's Degree|          NULL|115326.96477086132|\n",
      "| 35|  Male|       Bachelor's|   Financial Analyst|                6| $65000|       Bachelor's|       65000.0|           65000.0|\n",
      "| 40|Female|         Master's|     Project Manager|               14|$130000|         Master's|      130000.0|          130000.0|\n",
      "| 36|  Male|Bachelor's Degree|      Sales Director|                6|   NULL|Bachelor's Degree|          NULL|115326.96477086132|\n",
      "| 27|  Male|       Bachelor's|Customer Service Rep|                2| $40000|       Bachelor's|       40000.0|           40000.0|\n",
      "| 44|  Male|       Bachelor's|  Operations Manager|               16|$125000|       Bachelor's|      125000.0|          125000.0|\n",
      "+---+------+-----------------+--------------------+-----------------+-------+-----------------+--------------+------------------+\n",
      "only showing top 20 rows\n",
      "\n"
     ]
    }
   ],
   "source": [
    "mydata.show()"
   ]
  },
  {
   "cell_type": "code",
   "execution_count": 21,
   "metadata": {},
   "outputs": [],
   "source": [
    "years_experience = mydata.select(\"YearsOfExperience\")\n"
   ]
  },
  {
   "cell_type": "code",
   "execution_count": 22,
   "metadata": {},
   "outputs": [
    {
     "name": "stdout",
     "output_type": "stream",
     "text": [
      "+-----------------+\n",
      "|YearsOfExperience|\n",
      "+-----------------+\n",
      "|                5|\n",
      "|                3|\n",
      "|               15|\n",
      "|                7|\n",
      "|                7|\n",
      "|               20|\n",
      "|                2|\n",
      "|               12|\n",
      "|                4|\n",
      "|                1|\n",
      "|               10|\n",
      "|                3|\n",
      "|               18|\n",
      "|                8|\n",
      "|                6|\n",
      "|               14|\n",
      "|                6|\n",
      "|                2|\n",
      "|               16|\n",
      "|                7|\n",
      "+-----------------+\n",
      "only showing top 20 rows\n",
      "\n"
     ]
    }
   ],
   "source": [
    "years_experience = years_experience.filter(years_experience.YearsOfExperience.isNotNull())\n",
    "years_experience.show()"
   ]
  },
  {
   "cell_type": "code",
   "execution_count": 23,
   "metadata": {},
   "outputs": [
    {
     "name": "stdout",
     "output_type": "stream",
     "text": [
      "+-----------------+-------+\n",
      "|YearsOfExperience|yearsXP|\n",
      "+-----------------+-------+\n",
      "|                5|    5.0|\n",
      "|                3|    3.0|\n",
      "|               15|   15.0|\n",
      "|                7|    7.0|\n",
      "|                7|    7.0|\n",
      "|               20|   20.0|\n",
      "|                2|    2.0|\n",
      "|               12|   12.0|\n",
      "|                4|    4.0|\n",
      "|                1|    1.0|\n",
      "|               10|   10.0|\n",
      "|                3|    3.0|\n",
      "|               18|   18.0|\n",
      "|                8|    8.0|\n",
      "|                6|    6.0|\n",
      "|               14|   14.0|\n",
      "|                6|    6.0|\n",
      "|                2|    2.0|\n",
      "|               16|   16.0|\n",
      "|                7|    7.0|\n",
      "+-----------------+-------+\n",
      "only showing top 20 rows\n",
      "\n"
     ]
    }
   ],
   "source": [
    "years_experience = years_experience.withColumn(\"yearsXP\", years_experience.YearsOfExperience.cast(\"float\"))\n",
    "years_experience.show()"
   ]
  },
  {
   "cell_type": "code",
   "execution_count": 25,
   "metadata": {},
   "outputs": [
    {
     "name": "stdout",
     "output_type": "stream",
     "text": [
      "7.0\n"
     ]
    }
   ],
   "source": [
    "median_years = np.median(years_experience.select(\"YearsXP\").collect())\n",
    "print(median_years)"
   ]
  },
  {
   "cell_type": "code",
   "execution_count": 27,
   "metadata": {},
   "outputs": [
    {
     "name": "stdout",
     "output_type": "stream",
     "text": [
      "+---+------+-----------------+--------------------+-----------------+-------+-----------------+--------------+------------------+-------+\n",
      "|Age|Gender|  Education Level|            JobTitle|YearsOfExperience| Salary|        Education|cleaned_salary|        new_salary|YearsXP|\n",
      "+---+------+-----------------+--------------------+-----------------+-------+-----------------+--------------+------------------+-------+\n",
      "| 32|  Male|       Bachelor's|   Software Engineer|                5| $90000|       Bachelor's|       90000.0|           90000.0|      5|\n",
      "| 28|Female|         Master's|        Data Analyst|                3| $65000|         Master's|       65000.0|           65000.0|      3|\n",
      "| 45|  Male|              PhD|      Senior Manager|               15|$150000|              PhD|      150000.0|          150000.0|     15|\n",
      "| 27|  Male|             NULL|           Developer|                7|$100000|          unknown|      100000.0|          100000.0|      7|\n",
      "| 36|Female|       Bachelor's|     Sales Associate|                7| $60000|       Bachelor's|       60000.0|           60000.0|      7|\n",
      "| 52|  Male|         Master's|            Director|               20|$200000|         Master's|      200000.0|          200000.0|     20|\n",
      "| 29|  Male|       Bachelor's|   Marketing Analyst|                2| $55000|       Bachelor's|       55000.0|           55000.0|      2|\n",
      "| 42|Female|         Master's|     Product Manager|               12|$120000|         Master's|      120000.0|          120000.0|     12|\n",
      "| 31|  Male|       Bachelor's|       Sales Manager|                4| $80000|       Bachelor's|       80000.0|           80000.0|      4|\n",
      "| 26|Female|Bachelor's Degree|            Social M|             NULL|   NULL|Bachelor's Degree|          NULL|115326.96477086132|    7.0|\n",
      "| 26|Female|       Bachelor's|Marketing Coordin...|                1| $45000|       Bachelor's|       45000.0|           45000.0|      1|\n",
      "| 38|  Male|              PhD|    Senior Scientist|               10|$110000|              PhD|      110000.0|          110000.0|     10|\n",
      "| 29|  Male|         Master's|  Software Developer|                3| $75000|         Master's|       75000.0|           75000.0|      3|\n",
      "| 48|Female|       Bachelor's|          HR Manager|               18|$140000|       Bachelor's|      140000.0|          140000.0|     18|\n",
      "| 31|  Male|  Master's Degree| Full Stack Engineer|                8|   NULL|  Master's Degree|          NULL|115326.96477086132|      8|\n",
      "| 35|  Male|       Bachelor's|   Financial Analyst|                6| $65000|       Bachelor's|       65000.0|           65000.0|      6|\n",
      "| 40|Female|         Master's|     Project Manager|               14|$130000|         Master's|      130000.0|          130000.0|     14|\n",
      "| 36|  Male|Bachelor's Degree|      Sales Director|                6|   NULL|Bachelor's Degree|          NULL|115326.96477086132|      6|\n",
      "| 27|  Male|       Bachelor's|Customer Service Rep|                2| $40000|       Bachelor's|       40000.0|           40000.0|      2|\n",
      "| 44|  Male|       Bachelor's|  Operations Manager|               16|$125000|       Bachelor's|      125000.0|          125000.0|     16|\n",
      "+---+------+-----------------+--------------------+-----------------+-------+-----------------+--------------+------------------+-------+\n",
      "only showing top 20 rows\n",
      "\n"
     ]
    }
   ],
   "source": [
    "mydata=mydata.withColumn(\"YearsXP\", when(mydata[\"YearsOfExperience\"].isNull(),median_years).otherwise(mydata[\"YearsOfExperience\"]))\n",
    "mydata.show()"
   ]
  },
  {
   "cell_type": "code",
   "execution_count": 28,
   "metadata": {},
   "outputs": [
    {
     "data": {
      "text/plain": [
       "['Age',\n",
       " 'Gender',\n",
       " 'Education Level',\n",
       " 'JobTitle',\n",
       " 'YearsOfExperience',\n",
       " 'Salary',\n",
       " 'Education',\n",
       " 'cleaned_salary',\n",
       " 'new_salary',\n",
       " 'YearsXP']"
      ]
     },
     "execution_count": 28,
     "metadata": {},
     "output_type": "execute_result"
    }
   ],
   "source": [
    "mydata.columns"
   ]
  },
  {
   "cell_type": "code",
   "execution_count": 31,
   "metadata": {},
   "outputs": [],
   "source": [
    "mydata2=mydata.select(['Age',\n",
    " 'Gender',\n",
    " 'Education',\n",
    " 'JobTitle',\n",
    " 'new_salary',\n",
    " 'YearsXP'])"
   ]
  },
  {
   "cell_type": "code",
   "execution_count": 32,
   "metadata": {},
   "outputs": [
    {
     "name": "stdout",
     "output_type": "stream",
     "text": [
      "+---+------+-----------------+--------------------+------------------+-------+\n",
      "|Age|Gender|        Education|            JobTitle|        new_salary|YearsXP|\n",
      "+---+------+-----------------+--------------------+------------------+-------+\n",
      "| 32|  Male|       Bachelor's|   Software Engineer|           90000.0|      5|\n",
      "| 28|Female|         Master's|        Data Analyst|           65000.0|      3|\n",
      "| 45|  Male|              PhD|      Senior Manager|          150000.0|     15|\n",
      "| 27|  Male|          unknown|           Developer|          100000.0|      7|\n",
      "| 36|Female|       Bachelor's|     Sales Associate|           60000.0|      7|\n",
      "| 52|  Male|         Master's|            Director|          200000.0|     20|\n",
      "| 29|  Male|       Bachelor's|   Marketing Analyst|           55000.0|      2|\n",
      "| 42|Female|         Master's|     Product Manager|          120000.0|     12|\n",
      "| 31|  Male|       Bachelor's|       Sales Manager|           80000.0|      4|\n",
      "| 26|Female|Bachelor's Degree|            Social M|115326.96477086132|    7.0|\n",
      "| 26|Female|       Bachelor's|Marketing Coordin...|           45000.0|      1|\n",
      "| 38|  Male|              PhD|    Senior Scientist|          110000.0|     10|\n",
      "| 29|  Male|         Master's|  Software Developer|           75000.0|      3|\n",
      "| 48|Female|       Bachelor's|          HR Manager|          140000.0|     18|\n",
      "| 31|  Male|  Master's Degree| Full Stack Engineer|115326.96477086132|      8|\n",
      "| 35|  Male|       Bachelor's|   Financial Analyst|           65000.0|      6|\n",
      "| 40|Female|         Master's|     Project Manager|          130000.0|     14|\n",
      "| 36|  Male|Bachelor's Degree|      Sales Director|115326.96477086132|      6|\n",
      "| 27|  Male|       Bachelor's|Customer Service Rep|           40000.0|      2|\n",
      "| 44|  Male|       Bachelor's|  Operations Manager|          125000.0|     16|\n",
      "+---+------+-----------------+--------------------+------------------+-------+\n",
      "only showing top 20 rows\n",
      "\n"
     ]
    }
   ],
   "source": [
    "mydata2.show()"
   ]
  },
  {
   "cell_type": "code",
   "execution_count": 33,
   "metadata": {},
   "outputs": [],
   "source": [
    "import pyspark.sql.functions as F"
   ]
  },
  {
   "cell_type": "code",
   "execution_count": 34,
   "metadata": {},
   "outputs": [],
   "source": [
    "paid_job_gender_avg = mydata2.groupby(\"gender\").agg(F.avg(\"new_salary\").alias(\"avg_salary\"))\n",
    "paid_job_gender_max = mydata2.groupby(\"gender\").agg(F.max(\"new_salary\").alias(\"max_salary\"))"
   ]
  },
  {
   "cell_type": "code",
   "execution_count": 35,
   "metadata": {},
   "outputs": [
    {
     "name": "stdout",
     "output_type": "stream",
     "text": [
      "+------+------------------+\n",
      "|gender|        avg_salary|\n",
      "+------+------------------+\n",
      "|Female|107891.46647802617|\n",
      "| Other|125869.85714285714|\n",
      "|  Male|121386.57047619535|\n",
      "+------+------------------+\n",
      "\n",
      "+------+----------+\n",
      "|gender|max_salary|\n",
      "+------+----------+\n",
      "|Female|  220000.0|\n",
      "| Other|  166109.0|\n",
      "|  Male|  250000.0|\n",
      "+------+----------+\n",
      "\n"
     ]
    }
   ],
   "source": [
    "paid_job_gender_avg.show()\n",
    "paid_job_gender_max.show()"
   ]
  },
  {
   "cell_type": "code",
   "execution_count": 39,
   "metadata": {},
   "outputs": [
    {
     "name": "stdout",
     "output_type": "stream",
     "text": [
      "+---+------+-----------------+--------------------+------------------+-------+------------------+------------------+\n",
      "|Age|Gender|        Education|            JobTitle|        new_salary|YearsXP|     female_salary|       male_salary|\n",
      "+---+------+-----------------+--------------------+------------------+-------+------------------+------------------+\n",
      "| 32|  Male|       Bachelor's|   Software Engineer|           90000.0|      5|               0.0|           90000.0|\n",
      "| 28|Female|         Master's|        Data Analyst|           65000.0|      3|           65000.0|               0.0|\n",
      "| 45|  Male|              PhD|      Senior Manager|          150000.0|     15|               0.0|          150000.0|\n",
      "| 27|  Male|          unknown|           Developer|          100000.0|      7|               0.0|          100000.0|\n",
      "| 36|Female|       Bachelor's|     Sales Associate|           60000.0|      7|           60000.0|               0.0|\n",
      "| 52|  Male|         Master's|            Director|          200000.0|     20|               0.0|          200000.0|\n",
      "| 29|  Male|       Bachelor's|   Marketing Analyst|           55000.0|      2|               0.0|           55000.0|\n",
      "| 42|Female|         Master's|     Product Manager|          120000.0|     12|          120000.0|               0.0|\n",
      "| 31|  Male|       Bachelor's|       Sales Manager|           80000.0|      4|               0.0|           80000.0|\n",
      "| 26|Female|Bachelor's Degree|            Social M|115326.96477086132|    7.0|115326.96477086132|               0.0|\n",
      "| 26|Female|       Bachelor's|Marketing Coordin...|           45000.0|      1|           45000.0|               0.0|\n",
      "| 38|  Male|              PhD|    Senior Scientist|          110000.0|     10|               0.0|          110000.0|\n",
      "| 29|  Male|         Master's|  Software Developer|           75000.0|      3|               0.0|           75000.0|\n",
      "| 48|Female|       Bachelor's|          HR Manager|          140000.0|     18|          140000.0|               0.0|\n",
      "| 31|  Male|  Master's Degree| Full Stack Engineer|115326.96477086132|      8|               0.0|115326.96477086132|\n",
      "| 35|  Male|       Bachelor's|   Financial Analyst|           65000.0|      6|               0.0|           65000.0|\n",
      "| 40|Female|         Master's|     Project Manager|          130000.0|     14|          130000.0|               0.0|\n",
      "| 36|  Male|Bachelor's Degree|      Sales Director|115326.96477086132|      6|               0.0|115326.96477086132|\n",
      "| 27|  Male|       Bachelor's|Customer Service Rep|           40000.0|      2|               0.0|           40000.0|\n",
      "| 44|  Male|       Bachelor's|  Operations Manager|          125000.0|     16|               0.0|          125000.0|\n",
      "+---+------+-----------------+--------------------+------------------+-------+------------------+------------------+\n",
      "only showing top 20 rows\n",
      "\n"
     ]
    }
   ],
   "source": [
    "paid_job_gender=mydata2.withColumn(\"female_salary\", when(mydata2.Gender ==\"Female\",mydata2.new_salary).otherwise(0))\n",
    "paid_job_gender=paid_job_gender.withColumn(\"male_salary\", when(mydata2.Gender ==\"Male\",mydata2.new_salary).otherwise(0))  \n",
    "paid_job_gender.show()      "
   ]
  },
  {
   "cell_type": "code",
   "execution_count": 41,
   "metadata": {},
   "outputs": [],
   "source": [
    "avg_paid_job_gender = paid_job_gender.groupBy(\"jobtitle\").agg(\n",
    "    F.avg(\"Female_salary\").alias(\"avg_female_salary\"),\n",
    "    F.avg(\"Male_salary\").alias(\"avg_male_salary\")\n",
    ")"
   ]
  },
  {
   "cell_type": "code",
   "execution_count": 42,
   "metadata": {},
   "outputs": [
    {
     "name": "stdout",
     "output_type": "stream",
     "text": [
      "+--------------------+------------------+------------------+\n",
      "|            jobtitle| avg_female_salary|   avg_male_salary|\n",
      "+--------------------+------------------+------------------+\n",
      "|Digital Marketing...|47980.769230769234| 45288.46153846154|\n",
      "|    Product Designer|               0.0|           56200.0|\n",
      "|Senior Sales Manager|               0.0|          132500.0|\n",
      "|Senior Software A...|               0.0|          120000.0|\n",
      "|   Financial Manager|115373.13432835821|27686.567164179105|\n",
      "|   Event Coordinator|           52500.0|               0.0|\n",
      "|   Financial Analyst|           10000.0| 77692.30769230769|\n",
      "|Senior Product Ma...|  86376.8115942029|40217.391304347824|\n",
      "|Business Intellig...|               0.0|           85000.0|\n",
      "|Junior Software E...|23705.882352941175|26666.666666666668|\n",
      "|Senior IT Consultant|               0.0|          110000.0|\n",
      "|     Sales Executive|28157.894736842107|14868.421052631578|\n",
      "|   Senior Researcher|               0.0|          150000.0|\n",
      "|Senior Project En...| 48889.04088050315|116291.00314465408|\n",
      "|    Network Engineer|               0.0|           60000.0|\n",
      "|     Sales Associate| 20857.14285714286|           15000.0|\n",
      "|Public Relations ...|           90000.0|               0.0|\n",
      "|Junior Business A...|               0.0|           50000.0|\n",
      "|Digital Marketing...|63333.333333333336|               0.0|\n",
      "|Junior Customer S...|               0.0|           35000.0|\n",
      "+--------------------+------------------+------------------+\n",
      "only showing top 20 rows\n",
      "\n"
     ]
    }
   ],
   "source": [
    "avg_paid_job_gender.show()"
   ]
  },
  {
   "cell_type": "code",
   "execution_count": 44,
   "metadata": {},
   "outputs": [
    {
     "name": "stdout",
     "output_type": "stream",
     "text": [
      "+--------------------+------------------+\n",
      "|            jobtitle|        avg_salary|\n",
      "+--------------------+------------------+\n",
      "|                 CEO|          250000.0|\n",
      "|Chief Technology ...|          250000.0|\n",
      "|  Chief Data Officer|          220000.0|\n",
      "|Director of Data ...|204561.40350877194|\n",
      "|       VP of Finance|          200000.0|\n",
      "|            Director|          200000.0|\n",
      "| Operations Director|          190000.0|\n",
      "|    VP of Operations|          190000.0|\n",
      "|Director of Human...|          187500.0|\n",
      "|  Marketing Director|        183984.375|\n",
      "|Director of Sales...|          180000.0|\n",
      "|Director of Human...|          180000.0|\n",
      "|Human Resources D...|          180000.0|\n",
      "|Director of Engin...|          180000.0|\n",
      "| Director of Finance|          175000.0|\n",
      "|Director of Produ...|          175000.0|\n",
      "|   Director of Sales|          175000.0|\n",
      "|Director of Opera...|172727.27272727274|\n",
      "|Software Engineer...|172502.16755319148|\n",
      "|Director of Busin...|          170000.0|\n",
      "+--------------------+------------------+\n",
      "only showing top 20 rows\n",
      "\n"
     ]
    }
   ],
   "source": [
    "job_avg_paid = mydata2.groupby(\"jobtitle\").agg(F.avg(\"new_salary\").alias(\"avg_salary\")).orderBy(\"avg_salary\",ascending=False)\n",
    "job_avg_paid.show()"
   ]
  },
  {
   "cell_type": "code",
   "execution_count": null,
   "metadata": {},
   "outputs": [],
   "source": []
  }
 ],
 "metadata": {
  "kernelspec": {
   "display_name": "vscode_pyspark",
   "language": "python",
   "name": "vscode_pyspark"
  },
  "language_info": {
   "codemirror_mode": {
    "name": "ipython",
    "version": 3
   },
   "file_extension": ".py",
   "mimetype": "text/x-python",
   "name": "python",
   "nbconvert_exporter": "python",
   "pygments_lexer": "ipython3",
   "version": "3.11.11"
  }
 },
 "nbformat": 4,
 "nbformat_minor": 2
}
