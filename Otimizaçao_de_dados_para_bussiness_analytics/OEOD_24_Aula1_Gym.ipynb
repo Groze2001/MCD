{
 "cells": [
  {
   "cell_type": "markdown",
   "id": "1acc5fcc",
   "metadata": {},
   "source": [
    "<font size=\"5\">\n",
    " <div class=\"alert alert-block alert-info\"><b>Master in Data Science - Iscte <b>\n",
    "     </div>\n",
    "</font> \n",
    " \n",
    " \n",
    "     \n",
    "    \n",
    "  <font size=\"5\"> OEOD </font>\n",
    "  \n",
    "  \n",
    "  \n",
    "  <font size=\"3\"> **Diana Aldea Mendes**, October 2024 </font>\n",
    "  \n",
    "   \n",
    "  <font size=\"3\"> *diana.mendes@iscte-iul.pt* </font> \n",
    "  \n",
    "    \n",
    " \n",
    "  \n",
    "    \n",
    "  <font color='blue'><font size=\"5\"> <b>Week 1 - Introduction to RL and some Gym examples<b></font></font>\n",
    "  "
   ]
  },
  {
   "attachments": {},
   "cell_type": "markdown",
   "id": "35b0bebc",
   "metadata": {},
   "source": [
    "# Basic overview\n",
    "\n",
    "From [wiki](https://en.wikipedia.org/wiki/Reinforcement_learning): \n",
    "\n",
    "- **Reinforcement learning (RL)** is an area of machine learning concerned with how intelligent agents ought to take actions in an environment in order to maximize the notion of cumulative reward.*\n",
    "\n",
    "- The 4 main components of any RL algorithm are therefore the following:\n",
    "\n",
    "* `Agent` - an entity (computer program) that makes decisions. \n",
    "\n",
    "* `Action` - decision made by an agent. \n",
    "\n",
    "* `Environment` - an interface for the agents to interact with. The environment accepts actions and responds with the result and a new set of observations. \n",
    "\n",
    "* `Reward` - a function that assigns a value (reward) for each action that an agent can take. \n",
    "\n",
    "_____________________________\n",
    "\n",
    "- Comparison between RL (reinforcement learning), SL (supervised learning), UL (unsupervised learning)\n",
    "\n",
    "<img src=\"tabela1.png\" width=\"500\"> \n"
   ]
  },
  {
   "cell_type": "markdown",
   "id": "89d8c85b",
   "metadata": {},
   "source": [
    "# Example - Grid World \n",
    "\n",
    "- The Gridworld problem in `RL` is a problem where we want to create an optimal strategy for an agent to traverse a grid.\n",
    "- A grid is a square matrix of cells, and the agent can move in any of the four directions (up, down, left, right) in each cell. \n",
    "- The agent receives a reward of -1 for each step it takes, and a reward of +10 if it reaches the goal cell.\n",
    "\n",
    "- In this example, there will be 5 goal cells: one in each corner and the in the center. \n",
    "- The agent can start from any non goal squares and has to reach one of the goal cells. \n",
    "- The agent can only move in the four directions, and cannot move diagonally."
   ]
  },
  {
   "cell_type": "code",
   "execution_count": 1,
   "id": "0b6cf04a",
   "metadata": {
    "ExecuteTime": {
     "end_time": "2024-10-08T10:10:37.297151Z",
     "start_time": "2024-10-08T10:10:36.553181Z"
    }
   },
   "outputs": [],
   "source": [
    "# Importing the needed packages\n",
    "import pandas as pd \n",
    "import numpy as np\n",
    "import matplotlib.pyplot as plt\n",
    "import matplotlib\n",
    "from typing import Tuple"
   ]
  },
  {
   "cell_type": "code",
   "execution_count": 2,
   "id": "06261c8f",
   "metadata": {
    "ExecuteTime": {
     "end_time": "2024-10-08T10:10:38.802317Z",
     "start_time": "2024-10-08T10:10:38.797458Z"
    }
   },
   "outputs": [],
   "source": [
    "def array_index_to_matplot_coords(i: int, j: int, n_cols: int) -> Tuple[int, int]:\n",
    "    \"\"\"Converts an array index to a matplot coordinate\"\"\"\n",
    "    x = j\n",
    "    y = n_cols - i - 1\n",
    "    return x, y"
   ]
  },
  {
   "cell_type": "code",
   "execution_count": 3,
   "id": "1b2b7f83",
   "metadata": {
    "ExecuteTime": {
     "end_time": "2024-10-08T10:10:42.406589Z",
     "start_time": "2024-10-08T10:10:42.388256Z"
    }
   },
   "outputs": [],
   "source": [
    "def plot_matrix(\n",
    "    M: np.array, \n",
    "    goal_coords: list = [],\n",
    "    img_width: int = 5, \n",
    "    img_height: int = 5, \n",
    "    title: str = None,\n",
    "    annotate_goal: bool = True\n",
    "    ) -> None: \n",
    "    \"\"\"\n",
    "    Plots a matrix as an image.\n",
    "    \"\"\"\n",
    "    height, width = M.shape\n",
    "\n",
    "    fig = plt.figure(figsize=(img_width, img_width))\n",
    "    ax = fig.add_subplot(111, aspect='equal')\n",
    "    \n",
    "    for y in range(height):\n",
    "        for x in range(width):\n",
    "            # By default, the (0, 0) coordinate in matplotlib is the bottom left corner,\n",
    "            # so we need to invert the y coordinate to plot the matrix correctly\n",
    "            matplot_x, matplot_y = array_index_to_matplot_coords(x, y, height)\n",
    "            \n",
    "            # If there is a tuple of (x, y) in the goal_coords list, we color the cell gray \n",
    "            if (x, y) in goal_coords:\n",
    "                ax.add_patch(matplotlib.patches.Rectangle((matplot_x - 0.5, matplot_y - 0.5), 1, 1, facecolor='gray'))\n",
    "                if annotate_goal:\n",
    "                    ax.annotate(str(M[x][y]), xy=(matplot_x, matplot_y), ha='center', va='center')\n",
    "            else: \n",
    "                ax.annotate(str(M[x][y]), xy=(matplot_x, matplot_y), ha='center', va='center')\n",
    "\n",
    "    offset = .5    \n",
    "    ax.set_xlim(-offset, width - offset)\n",
    "    ax.set_ylim(-offset, height - offset)\n",
    "\n",
    "    ax.hlines(y=np.arange(height+1)- offset, xmin=-offset, xmax=width-offset)\n",
    "    ax.vlines(x=np.arange(width+1) - offset, ymin=-offset, ymax=height-offset)\n",
    "\n",
    "    plt.title(title)\n",
    "    plt.show()\n",
    "\n",
    "def plot_policy_matrix(P: dict, S:np.array, goal_coords: list = [], img_width: int = 5, img_height: int = 5, title: str = None) -> None: \n",
    "    \"\"\" \n",
    "    Plots the policy matrix out of the dictionary provided; The dictionary values are used to draw the arrows \n",
    "    \"\"\"\n",
    "    height, width = S.shape\n",
    "\n",
    "    fig = plt.figure(figsize=(img_width, img_width))\n",
    "    ax = fig.add_subplot(111, aspect='equal')\n",
    "    for y in range(height):\n",
    "        for x in range(width):\n",
    "            matplot_x, matplot_y = array_index_to_matplot_coords(x, y, height)\n",
    "            \n",
    "            # If there is a tuple of (x, y) in the goal_coords list, we color the cell gray \n",
    "            if (x, y) in goal_coords:\n",
    "                ax.add_patch(matplotlib.patches.Rectangle((matplot_x - 0.5, matplot_y - 0.5), 1, 1, facecolor='gray'))\n",
    "            \n",
    "            else:\n",
    "                # Adding the arrows to the plot\n",
    "                if 'up' in P[S[x, y]]:\n",
    "                    plt.arrow(matplot_x, matplot_y, 0, 0.3, head_width = 0.05, head_length = 0.05)\n",
    "                if 'down' in P[S[x, y]]:\n",
    "                    plt.arrow(matplot_x, matplot_y, 0, -0.3, head_width = 0.05, head_length = 0.05)\n",
    "                if 'left' in P[S[x, y]]:\n",
    "                    plt.arrow(matplot_x, matplot_y, -0.3, 0, head_width = 0.05, head_length = 0.05)\n",
    "                if 'right' in P[S[x, y]]:\n",
    "                    plt.arrow(matplot_x, matplot_y, 0.3, 0, head_width = 0.05, head_length = 0.05)\n",
    "\n",
    "\n",
    "    offset = .5    \n",
    "    ax.set_xlim(-offset, width - offset)\n",
    "    ax.set_ylim(-offset, height - offset)\n",
    "\n",
    "    ax.hlines(y=np.arange(height+1)- offset, xmin=-offset, xmax=width-offset)\n",
    "    ax.vlines(x=np.arange(width+1) - offset, ymin=-offset, ymax=height-offset)\n",
    "\n",
    "    plt.title(title)\n",
    "\n",
    "def plot_policy_value_matrix(\n",
    "    P: dict, \n",
    "    S: np.array, \n",
    "    V: np.array, \n",
    "    goal_coords: list = [], \n",
    "    img_width: int = 5, \n",
    "    img_height: int = 5, \n",
    "    title: str = None, \n",
    "    annotate_goal: bool = False\n",
    "    ) -> None: \n",
    "    \"\"\" \n",
    "    Plots the policy matrix out of the dictionary provided; The dictionary values are used to draw the arrows \n",
    "    \"\"\"\n",
    "    height, width = S.shape\n",
    "\n",
    "    fig = plt.figure(figsize=(img_width, img_width))\n",
    "    # The first plot is the value matrix \n",
    "    ax = fig.add_subplot(121, aspect='equal')\n",
    "    for y in range(height):\n",
    "        for x in range(width):\n",
    "            # By default, the (0, 0) coordinate in matplotlib is the bottom left corner,\n",
    "            # so we need to invert the y coordinate to plot the matrix correctly\n",
    "            matplot_x, matplot_y = array_index_to_matplot_coords(x, y, height)\n",
    "            \n",
    "            # If there is a tuple of (x, y) in the goal_coords list, we color the cell gray \n",
    "            if (x, y) in goal_coords:\n",
    "                ax.add_patch(matplotlib.patches.Rectangle((matplot_x - 0.5, matplot_y - 0.5), 1, 1, facecolor='gray'))\n",
    "                if annotate_goal:\n",
    "                    ax.annotate(str(V[x][y]), xy=(matplot_x, matplot_y), ha='center', va='center')\n",
    "            else: \n",
    "                ax.annotate(str(V[x][y]), xy=(matplot_x, matplot_y), ha='center', va='center')\n",
    "\n",
    "    offset = .5\n",
    "    ax.set_xlim(-offset, width - offset)\n",
    "    ax.set_ylim(-offset, height - offset)\n",
    "\n",
    "    ax.hlines(y=np.arange(height+1)- offset, xmin=-offset, xmax=width-offset)\n",
    "    ax.vlines(x=np.arange(width+1) - offset, ymin=-offset, ymax=height-offset)\n",
    "    ax.set_title('Value Matrix')\n",
    "\n",
    "    # The second plot is the policy matrix \n",
    "    ax = fig.add_subplot(122, aspect='equal')\n",
    "    for y in range(height):\n",
    "        for x in range(width):\n",
    "            matplot_x, matplot_y = array_index_to_matplot_coords(x, y, height)\n",
    "            \n",
    "            # If there is a tuple of (x, y) in the goal_coords list, we color the cell gray \n",
    "            if (x, y) in goal_coords:\n",
    "                ax.add_patch(matplotlib.patches.Rectangle((matplot_x - 0.5, matplot_y - 0.5), 1, 1, facecolor='gray'))\n",
    "            \n",
    "            else:\n",
    "                # Adding the arrows to the plot\n",
    "                if 'up' in P[S[x, y]]:\n",
    "                    plt.arrow(matplot_x, matplot_y, 0, 0.3, head_width = 0.05, head_length = 0.05)\n",
    "                if 'down' in P[S[x, y]]:\n",
    "                    plt.arrow(matplot_x, matplot_y, 0, -0.3, head_width = 0.05, head_length = 0.05)\n",
    "                if 'left' in P[S[x, y]]:\n",
    "                    plt.arrow(matplot_x, matplot_y, -0.3, 0, head_width = 0.05, head_length = 0.05)\n",
    "                if 'right' in P[S[x, y]]:\n",
    "                    plt.arrow(matplot_x, matplot_y, 0.3, 0, head_width = 0.05, head_length = 0.05)\n",
    "    \n",
    "    offset = .5\n",
    "    ax.set_xlim(-offset, width - offset)\n",
    "    ax.set_ylim(-offset, height - offset)\n",
    "\n",
    "    ax.hlines(y=np.arange(height+1)- offset, xmin=-offset, xmax=width-offset)\n",
    "    ax.vlines(x=np.arange(width+1) - offset, ymin=-offset, ymax=height-offset)\n",
    "    ax.set_title('Policy Matrix')"
   ]
  },
  {
   "cell_type": "markdown",
   "id": "5e0ca8b6",
   "metadata": {},
   "source": [
    "## Action set\n",
    "\n",
    "The $\\mathbb{A}$ set contains all the possible actions that the agent can take. In this case, the agent can move in any of the four directions, so the action set is $\\mathbb{A} = \\{up, down, left, right\\}$ or $\\mathbb{A} = \\{\\uparrow,  \\downarrow, \\leftarrow, \\rightarrow\\}$\n",
    "\n",
    "##  Reward matrix "
   ]
  },
  {
   "cell_type": "code",
   "execution_count": 4,
   "id": "9356d734",
   "metadata": {
    "ExecuteTime": {
     "end_time": "2024-10-08T10:10:46.469787Z",
     "start_time": "2024-10-08T10:10:46.221320Z"
    }
   },
   "outputs": [
    {
     "data": {
      "image/png": "[encoded data removed]",
      "text/plain": [
       "<Figure size 500x500 with 1 Axes>"
      ]
     },
     "metadata": {},
     "output_type": "display_data"
    }
   ],
   "source": [
    "# Defining the number of blocks of a n x n grid \n",
    "n = 7\n",
    "\n",
    "# Defining the value for the hole and the goal\n",
    "goal = 10\n",
    "step = -1\n",
    "\n",
    "# Initiating an empty dataframe of size n x n\n",
    "G = np.ones((n,n))\n",
    "\n",
    "# Defining the coordinates of the goal\n",
    "goal_coords = [(0, n-1), (n-1, 0), (0, 0), (n-1, n-1)]\n",
    "#goal_coords = [(1, 2)]\n",
    "# Adding the goal values to the center and the corners\n",
    "for goal_coord in goal_coords:\n",
    "    G[goal_coord[0], goal_coord[1]] = goal\n",
    "\n",
    "# Every other step is -1\n",
    "G[G == 1] = step\n",
    "\n",
    "# Converting the G matrix to int \n",
    "G = G.astype(int)\n",
    "\n",
    "plot_matrix(G, goal_coords, title='Gridworld')"
   ]
  },
  {
   "cell_type": "markdown",
   "id": "ee2b6dd1",
   "metadata": {},
   "source": [
    "In the above diagram, the gridworld is represented as a `n` by `n` matrix. Each cell in it represent the reward you get when you transition to that state. We can call the above matrix as the `reward matrix` and denote it $\\mathbb{G}$. Each element in the matrix is a real number: \n",
    "\n",
    "$\\forall r \\in \\mathbb{G}, r \\in \\mathbb{R}$ \n",
    "\n",
    "## State matrix\n",
    "\n",
    "Alongside the $\\mathbb{G}$ matrix, we have the the state matrix $\\mathbb{S}$."
   ]
  },
  {
   "cell_type": "code",
   "execution_count": 5,
   "id": "1f336d0a",
   "metadata": {
    "ExecuteTime": {
     "end_time": "2024-10-08T10:10:52.649439Z",
     "start_time": "2024-10-08T10:10:52.484775Z"
    }
   },
   "outputs": [
    {
     "data": {
      "image/png": "[encoded data removed]",
      "text/plain": [
       "<Figure size 500x500 with 1 Axes>"
      ]
     },
     "metadata": {},
     "output_type": "display_data"
    }
   ],
   "source": [
    "S = np.arange(0, n*n).reshape(n, n)\n",
    "\n",
    "plot_matrix(S, goal_coords, title='State space')"
   ]
  },
  {
   "cell_type": "code",
   "execution_count": 6,
   "id": "e2036592",
   "metadata": {
    "ExecuteTime": {
     "end_time": "2024-10-08T10:10:56.203152Z",
     "start_time": "2024-10-08T10:10:56.197240Z"
    }
   },
   "outputs": [
    {
     "data": {
      "text/plain": [
       "array([[ 0,  1,  2,  3,  4,  5,  6],\n",
       "       [ 7,  8,  9, 10, 11, 12, 13],\n",
       "       [14, 15, 16, 17, 18, 19, 20],\n",
       "       [21, 22, 23, 24, 25, 26, 27],\n",
       "       [28, 29, 30, 31, 32, 33, 34],\n",
       "       [35, 36, 37, 38, 39, 40, 41],\n",
       "       [42, 43, 44, 45, 46, 47, 48]])"
      ]
     },
     "execution_count": 6,
     "metadata": {},
     "output_type": "execute_result"
    }
   ],
   "source": [
    "S"
   ]
  },
  {
   "cell_type": "markdown",
   "id": "c056e522",
   "metadata": {},
   "source": [
    "- The state matrix is just a matrix whose each element gives an index to the grid an agent is in. \n",
    "\n",
    "- For simplicity sake, we tend to flatten these matrices and not keep track of the row and the column indices - just the state numbers. \n",
    "- We can always go back to the plot above and check were a certain state is. \n",
    "\n",
    "## Policy matrix \n",
    "\n",
    "- The policy matrix, denoted as $\\mathbb{P}$ is a matrix whose each element is a probability of taking an action in a certain state. \n",
    "- In each of the elements of the grid, the values are an array of all the possible actions an agent can take.  "
   ]
  },
  {
   "cell_type": "code",
   "execution_count": 7,
   "id": "862f79b2",
   "metadata": {
    "ExecuteTime": {
     "end_time": "2024-10-08T10:11:03.728881Z",
     "start_time": "2024-10-08T10:11:03.717588Z"
    }
   },
   "outputs": [],
   "source": [
    "# Saving all the unique states to a vector \n",
    "states = np.unique(S)\n",
    "\n",
    "# Dictionary to hold each action for a given state\n",
    "P = {}\n",
    "for s in states: \n",
    "    s_dict = {}\n",
    "\n",
    "    # Checking which index is the current state in the S matrix \n",
    "    s_index = np.where(S == s)\n",
    "\n",
    "    # If the state is in the top left corner, we can only move right and down\n",
    "    if s_index == (0, 0):\n",
    "        s_dict['right'] = 0.5\n",
    "        s_dict['down'] = 0.5\n",
    "    \n",
    "    # If the state is in the top right corner, we can only move left and down\n",
    "    elif s_index == (0, n - 1):\n",
    "        s_dict['left'] = 0.5\n",
    "        s_dict['down'] = 0.5\n",
    "    \n",
    "    # If the state is in the bottom left corner, we can only move right and up\n",
    "    elif s_index == (n - 1, 0):\n",
    "        s_dict['right'] = 0.5\n",
    "        s_dict['up'] = 0.5\n",
    "    \n",
    "    # If the state is in the bottom right corner, we can only move left and up\n",
    "    elif s_index == (n - 1, n - 1):\n",
    "        s_dict['left'] = 0.5\n",
    "        s_dict['up'] = 0.5\n",
    "    \n",
    "    # If the state is in the first row, we can only move left, right, and down\n",
    "    elif s_index[0] == 0:\n",
    "        s_dict['left'] = 0.333\n",
    "        s_dict['right'] = 0.333\n",
    "        s_dict['down'] = 0.333\n",
    "    \n",
    "    # If the state is in the last row, we can only move left, right, and up\n",
    "    elif s_index[0] == n - 1:\n",
    "        s_dict['left'] =  0.333\n",
    "        s_dict['right'] = 0.333\n",
    "        s_dict['up'] = 0.333\n",
    "    \n",
    "    # If the state is in the first column, we can only move up, down, and right\n",
    "    elif s_index[1] == 0:\n",
    "        s_dict['up'] = 0.333\n",
    "        s_dict['down'] = 0.333\n",
    "        s_dict['right'] = 0.333\n",
    "    \n",
    "    # If the state is in the last column, we can only move up, down, and left\n",
    "    elif s_index[1] == n - 1:\n",
    "        s_dict['up'] = 0.333\n",
    "        s_dict['down'] = 0.333\n",
    "        s_dict['left'] = 0.333\n",
    "\n",
    "    # If the state is in the middle, we can move in all directions\n",
    "    else:\n",
    "        s_dict['up'] = 0.25\n",
    "        s_dict['down'] = 0.25\n",
    "        s_dict['left'] = 0.25\n",
    "        s_dict['right'] = 0.25\n",
    "\n",
    "    # Saving the current states trasition probabilities\n",
    "    P[s] = s_dict"
   ]
  },
  {
   "cell_type": "code",
   "execution_count": 8,
   "id": "181ed88c",
   "metadata": {
    "ExecuteTime": {
     "end_time": "2024-10-08T10:11:06.593733Z",
     "start_time": "2024-10-08T10:11:06.261259Z"
    }
   },
   "outputs": [
    {
     "data": {
      "image/png": "[encoded data removed]",
      "text/plain": [
       "<Figure size 500x500 with 1 Axes>"
      ]
     },
     "metadata": {},
     "output_type": "display_data"
    }
   ],
   "source": [
    "# Drawing a plot for the policy matrix with arrows; In one cell there can be the maximum of 4 arrows each indicating the action an agent can take \n",
    "plot_policy_matrix(P, S, goal_coords, title='Policy matrix')"
   ]
  },
  {
   "cell_type": "markdown",
   "id": "6e33be98",
   "metadata": {},
   "source": [
    "## Value matrix \n",
    "\n",
    "- The value matrix is denoted as $\\mathbb{V}$. \n",
    "- The dimension of the matrix is the same as the state space. \n",
    "- Each grid in the value matrix represents the total reward an agent can get if it starts from that state and follows the policy. \n",
    "\n",
    "$$v_{\\pi} (s) = \\mathbb{E}\\left[G_{t} | S_{t} = s \\right] $$\n",
    "\n",
    "Where \n",
    "\n",
    "$G_{t}$ - total reward an agent gets after taking action `a` in state `s` and following the policy $\\pi$ till the end of the episode. The equation for $G_{t}$ is given below.\n",
    "\n",
    "$$G_{t} = R_{t +1} + \\gamma R_{t + 2} + ... + \\gamma ^{K} R_{t+K}$$\n",
    " \n",
    "$K$ - the number of steps in the episode.\n",
    "\n",
    "$$v_{\\pi} (s) = \\sum_{a \\in \\mathbb{A}} \\left[ \\pi(a | s) \\sum_{s^{'}, r} p(s^{'}, r | s, a) \\left[ r + \\gamma v_{\\pi} (s^{'}) \\right] \\right] $$\n",
    "\n",
    "- This equation is called the Bellman equation.\n",
    "\n",
    "Where, \n",
    "\n",
    "$\\pi(a | s)$ is the probability of taking action `a` in state `s`\n",
    "\n",
    "$p(s^{'}, r | s, a)$ is the probability of transitioning to state `s'` with reward `r` when taking action `a` in state `s`\n",
    "\n",
    "$\\gamma \\in (0, 1)$ is the discount factor\n",
    "\n",
    "$v_{\\pi} (s)$ is the value of state `s` under policy $\\pi$. \n",
    "\n",
    "$r$ - reward for taking action `a` in state `s`. \n",
    "\n",
    "- The above equation is a recursive one and could go on forever. \n",
    "- In practice, we use a finite number of iterations to calculate the value of each state. "
   ]
  },
  {
   "cell_type": "code",
   "execution_count": 9,
   "id": "dcada1a0",
   "metadata": {
    "ExecuteTime": {
     "end_time": "2024-10-08T10:11:15.198914Z",
     "start_time": "2024-10-08T10:11:14.989190Z"
    }
   },
   "outputs": [
    {
     "data": {
      "image/png": "[encoded data removed]",
      "text/plain": [
       "<Figure size 500x500 with 1 Axes>"
      ]
     },
     "metadata": {},
     "output_type": "display_data"
    }
   ],
   "source": [
    "# Initiating the empty Value function \n",
    "V = np.zeros((n, n))\n",
    "\n",
    "plot_matrix(V, goal_coords, title='Value function', annotate_goal=False)"
   ]
  },
  {
   "cell_type": "code",
   "execution_count": 10,
   "id": "153e8c8b",
   "metadata": {
    "ExecuteTime": {
     "end_time": "2024-10-08T10:56:26.445309Z",
     "start_time": "2024-10-08T10:56:26.443033Z"
    }
   },
   "outputs": [],
   "source": [
    "### next steps ----- use an algorithm for learning"
   ]
  },
  {
   "cell_type": "markdown",
   "id": "123a72e0",
   "metadata": {},
   "source": [
    "# Example - Frozen Lake with Gym\n",
    "\n",
    "## Creating our first gym environment\n",
    "\n",
    "- Python has frameworks for solving reinforcement learning problems. \n",
    "- The most popular one is **Gymnasium**, which comes pre-built with over 2000 environments (all documented thoroughly).\n",
    "\n",
    "- Let's introduce one of the simplest environments called the frozen lake environment. \n",
    "- The goal of the agent is to start from the initial state S and reach the goal state G.\n",
    "\n",
    "- In the frozen lake environment, the following applies:\n",
    "\n",
    "* S denotes the starting state\n",
    "* F denotes the frozen state\n",
    "* H denotes the hole state\n",
    "* G denotes the goal state\n",
    "\n",
    "- We need to make sure that the agent starts from S and reaches G without falling into the hole state H as shown below:\n",
    "\n",
    "- Each grid box in the environment is called state, thus we have 16 states (S to G) and we have 4 possible actions which are up, down, left and right. \n",
    "- We learned that our goal is to reach the state G from S without visiting H. So, we assign reward as 0 to all the states and + 1 for the goal state G. \n",
    "\n",
    "- We can have two sizes of environment:\n",
    "    - map_name=\"4x4\": a 4x4 grid version\n",
    "    - map_name=\"8x8\": a 8x8 grid version\n",
    "- The environment has two modes:\n",
    "    - is_slippery=False: The agent always moves in the intended direction due to the non-slippery nature of the frozen lake (deterministic).\n",
    "    - is_slippery=True: The agent may not always move in the intended direction due to the slippery nature of the frozen lake (stochastic).\n",
    "    \n",
    "- render_mode that specifies how the environment should be visualised. \n",
    "- \"rgb_array”: Return a single frame representing the current state of the environment (frame = np.ndarray with shape (x, y, 3))\n",
    "- For example:\n",
    "\n",
    "```env = gym.make(\"FrozenLake-v1\", map_name=\"4x4\", is_slippery=False, render_mode=\"rgb_array\")```\n",
    "\n",
    "- \"gym.make\" - create the environment\n",
    "\n",
    "- https://gymnasium.farama.org/"
   ]
  },
  {
   "cell_type": "code",
   "execution_count": 11,
   "id": "6e665292",
   "metadata": {
    "ExecuteTime": {
     "end_time": "2024-10-08T10:33:29.450369Z",
     "start_time": "2024-10-08T10:33:29.444784Z"
    }
   },
   "outputs": [
    {
     "data": {
      "text/html": [
       "<img src=\"https://user-images.githubusercontent.com/69793689/234189847-c582581a-2947-4b27-99e8-20b4a51221ed.gif\"/>"
      ],
      "text/plain": [
       "<IPython.core.display.Image object>"
      ]
     },
     "execution_count": 11,
     "metadata": {},
     "output_type": "execute_result"
    }
   ],
   "source": [
    "from IPython.display import Image\n",
    "\n",
    "Image(url='https://user-images.githubusercontent.com/69793689/234189847-c582581a-2947-4b27-99e8-20b4a51221ed.gif')"
   ]
  },
  {
   "cell_type": "code",
   "execution_count": 29,
   "id": "6833d7d7",
   "metadata": {
    "ExecuteTime": {
     "end_time": "2024-10-08T10:12:38.977535Z",
     "start_time": "2024-10-08T10:12:38.974804Z"
    }
   },
   "outputs": [],
   "source": [
    "#!pip install pygame"
   ]
  },
  {
   "cell_type": "code",
   "execution_count": 30,
   "id": "6cd476b4",
   "metadata": {
    "ExecuteTime": {
     "end_time": "2024-10-08T10:37:04.638053Z",
     "start_time": "2024-10-08T10:37:04.635025Z"
    }
   },
   "outputs": [],
   "source": [
    "# we can create a gym environment using the make function. \n",
    "# The make function requires the environment id as a parameter. \n",
    "# In the gym, the id of the frozen lake environment is FrozenLake-v1\n",
    "\n",
    "import gymnasium as gym\n",
    "env = gym.make(\"FrozenLake-v1\", render_mode=\"human\")"
   ]
  },
  {
   "cell_type": "code",
   "execution_count": 31,
   "id": "8be8cd05",
   "metadata": {
    "ExecuteTime": {
     "end_time": "2024-10-08T10:37:24.386727Z",
     "start_time": "2024-10-08T10:37:24.123951Z"
    }
   },
   "outputs": [
    {
     "data": {
      "text/plain": [
       "(0, {'prob': 1})"
      ]
     },
     "execution_count": 31,
     "metadata": {},
     "output_type": "execute_result"
    }
   ],
   "source": [
    "# see how our environment looks like using the render function\n",
    "env.reset()"
   ]
  },
  {
   "cell_type": "code",
   "execution_count": 32,
   "id": "f0ac4a4b",
   "metadata": {
    "ExecuteTime": {
     "end_time": "2024-10-08T10:37:26.840423Z",
     "start_time": "2024-10-08T10:37:26.837262Z"
    }
   },
   "outputs": [
    {
     "name": "stdout",
     "output_type": "stream",
     "text": [
      "None\n"
     ]
    }
   ],
   "source": [
    "print(env.render())"
   ]
  },
  {
   "cell_type": "code",
   "execution_count": 33,
   "id": "f5f040ed",
   "metadata": {
    "ExecuteTime": {
     "end_time": "2024-10-08T10:36:37.887519Z",
     "start_time": "2024-10-08T10:36:37.884260Z"
    }
   },
   "outputs": [
    {
     "name": "stdout",
     "output_type": "stream",
     "text": [
      "Discrete(16)\n"
     ]
    }
   ],
   "source": [
    "## number of states\n",
    "print(env.observation_space)"
   ]
  },
  {
   "cell_type": "code",
   "execution_count": 34,
   "id": "a015bdfb",
   "metadata": {
    "ExecuteTime": {
     "end_time": "2024-10-08T10:36:39.135767Z",
     "start_time": "2024-10-08T10:36:39.132260Z"
    }
   },
   "outputs": [],
   "source": [
    "# environment consists of 16 discrete states (S to G) \n",
    "# in gym, the states will be encoded as numbers (state S -> 0, state F -> 1, etc)"
   ]
  },
  {
   "cell_type": "code",
   "execution_count": 35,
   "id": "0076adca",
   "metadata": {
    "ExecuteTime": {
     "end_time": "2024-10-08T10:37:00.095983Z",
     "start_time": "2024-10-08T10:37:00.092311Z"
    }
   },
   "outputs": [
    {
     "name": "stdout",
     "output_type": "stream",
     "text": [
      "Discrete(4)\n"
     ]
    }
   ],
   "source": [
    "print(env.action_space)"
   ]
  },
  {
   "cell_type": "code",
   "execution_count": 36,
   "id": "9ec26820",
   "metadata": {
    "ExecuteTime": {
     "end_time": "2024-10-08T10:54:09.073909Z",
     "start_time": "2024-10-08T10:54:09.071613Z"
    }
   },
   "outputs": [
    {
     "name": "stdout",
     "output_type": "stream",
     "text": [
      "4\n"
     ]
    }
   ],
   "source": [
    "print(env.action_space.n)"
   ]
  },
  {
   "cell_type": "code",
   "execution_count": 37,
   "id": "1d368457",
   "metadata": {
    "ExecuteTime": {
     "end_time": "2024-10-08T10:41:52.099990Z",
     "start_time": "2024-10-08T10:41:51.804878Z"
    }
   },
   "outputs": [
    {
     "name": "stdout",
     "output_type": "stream",
     "text": [
      "[array([[[180, 200, 230],\n",
      "        [180, 200, 230],\n",
      "        [180, 200, 230],\n",
      "        ...,\n",
      "        [180, 200, 230],\n",
      "        [180, 200, 230],\n",
      "        [180, 200, 230]],\n",
      "\n",
      "       [[180, 200, 230],\n",
      "        [204, 230, 255],\n",
      "        [204, 230, 255],\n",
      "        ...,\n",
      "        [204, 230, 255],\n",
      "        [204, 230, 255],\n",
      "        [180, 200, 230]],\n",
      "\n",
      "       [[180, 200, 230],\n",
      "        [235, 245, 249],\n",
      "        [204, 230, 255],\n",
      "        ...,\n",
      "        [204, 230, 255],\n",
      "        [204, 230, 255],\n",
      "        [180, 200, 230]],\n",
      "\n",
      "       ...,\n",
      "\n",
      "       [[180, 200, 230],\n",
      "        [235, 245, 249],\n",
      "        [235, 245, 249],\n",
      "        ...,\n",
      "        [204, 230, 255],\n",
      "        [235, 245, 249],\n",
      "        [180, 200, 230]],\n",
      "\n",
      "       [[180, 200, 230],\n",
      "        [235, 245, 249],\n",
      "        [235, 245, 249],\n",
      "        ...,\n",
      "        [204, 230, 255],\n",
      "        [204, 230, 255],\n",
      "        [180, 200, 230]],\n",
      "\n",
      "       [[180, 200, 230],\n",
      "        [180, 200, 230],\n",
      "        [180, 200, 230],\n",
      "        ...,\n",
      "        [180, 200, 230],\n",
      "        [180, 200, 230],\n",
      "        [180, 200, 230]]], dtype=uint8)]\n"
     ]
    }
   ],
   "source": [
    "# change render_mode\n",
    "\n",
    "env = gym.make(\"FrozenLake-v1\", render_mode=\"rgb_array_list\")\n",
    "env.reset()\n",
    "print(env.render())"
   ]
  },
  {
   "cell_type": "code",
   "execution_count": 38,
   "id": "f66d4b39",
   "metadata": {
    "ExecuteTime": {
     "end_time": "2024-10-08T10:42:03.841214Z",
     "start_time": "2024-10-08T10:42:03.837239Z"
    }
   },
   "outputs": [
    {
     "name": "stdout",
     "output_type": "stream",
     "text": [
      "\n",
      "\u001b[41mS\u001b[0mFFFFFFF\n",
      "FFFFFFFF\n",
      "FFFHFFFF\n",
      "FFFFFHFF\n",
      "FFFHFFFF\n",
      "FHHFFFHF\n",
      "FHFFHFHF\n",
      "FFFHFFFG\n",
      "\n"
     ]
    }
   ],
   "source": [
    "env = gym.make('FrozenLake8x8-v1', render_mode=\"ansi\")\n",
    "env.reset()\n",
    "print(env.render())"
   ]
  },
  {
   "cell_type": "code",
   "execution_count": null,
   "id": "938145b3",
   "metadata": {},
   "outputs": [],
   "source": []
  }
 ],
 "metadata": {
  "hide_input": false,
  "kernelspec": {
   "display_name": "Python 3",
   "language": "python",
   "name": "python3"
  },
  "language_info": {
   "codemirror_mode": {
    "name": "ipython",
    "version": 3
   },
   "file_extension": ".py",
   "mimetype": "text/x-python",
   "name": "python",
   "nbconvert_exporter": "python",
   "pygments_lexer": "ipython3",
   "version": "3.12.6"
  },
  "latex_envs": {
   "LaTeX_envs_menu_present": true,
   "autoclose": false,
   "autocomplete": true,
   "bibliofile": "biblio.bib",
   "cite_by": "apalike",
   "current_citInitial": 1,
   "eqLabelWithNumbers": true,
   "eqNumInitial": 1,
   "hotkeys": {
    "equation": "Ctrl-E",
    "itemize": "Ctrl-I"
   },
   "labels_anchors": false,
   "latex_user_defs": false,
   "report_style_numbering": false,
   "user_envs_cfg": false
  },
  "nbTranslate": {
   "displayLangs": [
    "*"
   ],
   "hotkey": "alt-t",
   "langInMainMenu": true,
   "sourceLang": "en",
   "targetLang": "fr",
   "useGoogleTranslate": true
  },
  "toc": {
   "base_numbering": 1,
   "nav_menu": {},
   "number_sections": true,
   "sideBar": true,
   "skip_h1_title": false,
   "title_cell": "Table of Contents",
   "title_sidebar": "Contents",
   "toc_cell": false,
   "toc_position": {},
   "toc_section_display": true,
   "toc_window_display": false
  },
  "varInspector": {
   "cols": {
    "lenName": 16,
    "lenType": 16,
    "lenVar": 40
   },
   "kernels_config": {
    "python": {
     "delete_cmd_postfix": "",
     "delete_cmd_prefix": "del ",
     "library": "var_list.py",
     "varRefreshCmd": "print(var_dic_list())"
    },
    "r": {
     "delete_cmd_postfix": ") ",
     "delete_cmd_prefix": "rm(",
     "library": "var_list.r",
     "varRefreshCmd": "cat(var_dic_list()) "
    }
   },
   "types_to_exclude": [
    "module",
    "function",
    "builtin_function_or_method",
    "instance",
    "_Feature"
   ],
   "window_display": false
  }
 },
 "nbformat": 4,
 "nbformat_minor": 5
}
