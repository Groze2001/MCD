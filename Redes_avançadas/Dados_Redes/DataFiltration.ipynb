{
 "cells": [
  {
   "cell_type": "markdown",
   "metadata": {},
   "source": []
  },
  {
   "cell_type": "code",
   "execution_count": 21,
   "metadata": {},
   "outputs": [],
   "source": [
    "\n",
    "import pandas as pd\n",
    "import networkx as nx\n",
    "import matplotlib.pyplot as plt\n",
    "\n",
    "# df_1 = pd.read_csv(\"premier-league.csv\")\n",
    "# df_2 = pd.read_csv(\"serie-a.csv\")\n",
    "# df_3 = pd.read_csv(\"liga-nos.csv\")\n",
    "# df_4 = pd.read_csv(\"1-bundesliga.csv\")\n",
    "# df_5 = pd.read_csv(\"primera-division.csv\")\n",
    "# df_6 = pd.read_csv(\"ligue-1.csv\")\n",
    "\n",
    "\n",
    "# merged_df = pd.concat([df_1, df_2, df_3, df_4, df_5, df_6], ignore_index=True)\n",
    "\n",
    "merged_df = pd.read_csv(\"liga-nos.csv\")\n",
    "\n",
    "d = merged_df.drop_duplicates(subset=['club_name'])\n",
    "club_names = d['club_name'].tolist()\n",
    "countries = d['country'].tolist()\n",
    "club_country_dict = dict(zip(club_names, countries))\n",
    "\n"
   ]
  },
  {
   "cell_type": "code",
   "execution_count": 22,
   "metadata": {},
   "outputs": [
    {
     "name": "stdout",
     "output_type": "stream",
     "text": [
      "                   Club_Name    Club_Involved\n",
      "0                   FC Porto         FC Porto\n",
      "1                Sporting CP      Sporting CP\n",
      "2                 SL Benfica          Benfica\n",
      "3                   SC Braga         SC Braga\n",
      "4       Vitória Guimarães SC   Vit. Guimarães\n",
      "5                 Rio Ave FC       Rio Ave FC\n",
      "6            Portimonense SC     Portimonense\n",
      "7                CS Marítimo              NaN\n",
      "8                  GD Chaves           Chaves\n",
      "9   Desportivo Aves (- 2020)  Desportivo Aves\n",
      "10            Belenenses SAD            B SAD\n",
      "11        Vitória Setúbal FC  Vitória Setúbal\n",
      "12               Boavista FC         Boavista\n",
      "13             Moreirense FC              NaN\n",
      "14                CD Tondela              NaN\n",
      "15               CD Feirense              NaN\n",
      "16               CD Nacional              NaN\n",
      "17            CD Santa Clara      Santa Clara\n",
      "18      FC Paços de Ferreira   Paços Ferreira\n",
      "19              FC Famalicão        Famalicão\n",
      "20            Gil Vicente FC      Gil Vicente\n",
      "21                SC Farense              NaN\n",
      "22                 FC Arouca           Arouca\n",
      "23          GD Estoril Praia    Estoril Praia\n",
      "24                 FC Vizela           Vizela\n",
      "25               Casa Pia AC         Casa Pia\n",
      "26                       NaN          Tondela\n",
      "27                       NaN       Moreirense\n",
      "28                       NaN      Benfica U23\n",
      "29                       NaN       SC Covilhã\n",
      "30                       NaN          Leixões\n",
      "31                       NaN          Braga B\n",
      "32                       NaN         Trofense\n",
      "33                       NaN   Vilafranquense\n",
      "34                       NaN         Feirense\n"
     ]
    }
   ],
   "source": [
    "filterClubs = pd.read_csv(\"Filtrados.csv\")\n",
    "print(filterClubs)\n",
    "filterClubs = dict(zip(filterClubs[\"Club_Name\"],filterClubs[\"Club_Involved\"]))\n",
    "\n",
    "def replace_values_with_keys(df, column_name, replacement_dict):\n",
    "   \n",
    "    reversed_dict = {v: k for k, v in replacement_dict.items()}\n",
    "    df[column_name] = df[column_name].apply(lambda x: reversed_dict.get(x, x))\n",
    "    return df\n",
    "\n",
    "\n",
    "\n",
    "merged_df['involved_country'] = merged_df['club_involved_name'].apply(lambda x: club_country_dict.get(x, 'Others'))\n",
    "\n",
    "\n",
    "\n",
    "\n",
    "merged_df = merged_df[(merged_df[\"year\"] > 2017) & (merged_df[\"transfer_movement\"] == \"out\")]\n",
    "\n",
    "\n",
    "merged_df = replace_values_with_keys(merged_df,\"club_involved_name\",filterClubs)\n",
    "\n",
    "\n",
    "# Export to CSV\n",
    "merged_df.to_csv(\"Liganos_transfers.csv\", index=False)"
   ]
  },
  {
   "cell_type": "code",
   "execution_count": null,
   "metadata": {},
   "outputs": [],
   "source": []
  }
 ],
 "metadata": {
  "kernelspec": {
   "display_name": "Python 3",
   "language": "python",
   "name": "python3"
  },
  "language_info": {
   "codemirror_mode": {
    "name": "ipython",
    "version": 3
   },
   "file_extension": ".py",
   "mimetype": "text/x-python",
   "name": "python",
   "nbconvert_exporter": "python",
   "pygments_lexer": "ipython3",
   "version": "3.12.6"
  }
 },
 "nbformat": 4,
 "nbformat_minor": 2
}
