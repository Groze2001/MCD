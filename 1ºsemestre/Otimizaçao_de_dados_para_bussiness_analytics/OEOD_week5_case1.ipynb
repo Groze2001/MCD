{
 "cells": [
  {
   "cell_type": "markdown",
   "metadata": {},
   "source": [
    "<font size=\"5\">\n",
    " <div class=\"alert alert-block alert-info\"><b>Master in Data Science - Iscte <b>\n",
    "     </div>\n",
    "</font> \n",
    " \n",
    " \n",
    "     \n",
    "    \n",
    "  <font size=\"5\"> OEOD - Week 5 </font>\n",
    "  \n",
    "  \n",
    "  \n",
    "  <font size=\"3\"> **Diana Aldea Mendes**, November 2024 </font>\n",
    "  \n",
    "   \n",
    "  <font size=\"3\"> *diana.mendes@iscte-iul.pt* </font> \n",
    "  \n",
    "    \n",
    " \n",
    "  \n",
    "    \n",
    "  <font color='blue'><font size=\"5\"> <b>Week 5 - Case study 1 - RL for finance (algorithmic trading)<b></font></font>"
   ]
  },
  {
   "cell_type": "markdown",
   "metadata": {
    "id": "Dt7GkVURKLVn"
   },
   "source": [
    "# RL for algorithmic trading\n",
    "\n",
    "- **Main purpose**: define a trading strategy and predict if you buy or sell stocks\n",
    "\n",
    "- A Trading Strategy is based on predefined rules used to make the trading decisions.\n",
    "- The simplest trading strategy is the Moving Average (MA) (Simple MA (SMA) and Exponential MA (EMA)): \n",
    "    - The SMA calculates the average closing price over a set time period, while the EMA puts more weight on recent prices.\n",
    "    - A moving average crossover trading strategy involves buying when a shorter-term MA crosses above a longer-term MA, and selling when it crosses below.\n",
    "    - The crossover indicates a potential trend change. \n",
    "    - For example, if the 50-day MA crosses above the 200-day MA, it's a buy signal as the short-term trend is now up.\n",
    "    \n",
    "\n",
    "- Relative strength index (RSI) is a powerful momentum indicator that measures the magnitude of recent price changes to analyze overbought or oversold conditions. \n",
    "    - The RSI oscillates between 0 and 100. \n",
    "    - A reading under 30 is considered oversold and above 70 is overbought. \n",
    "    - The basic RSI trading strategies are:\n",
    "        - Buy when the RSI drops below 30\n",
    "        - Sell when it rises above 70"
   ]
  },
  {
   "cell_type": "code",
   "execution_count": null,
   "metadata": {
    "ExecuteTime": {
     "end_time": "2024-11-12T16:29:41.258973Z",
     "start_time": "2024-11-12T16:29:41.251870Z"
    }
   },
   "outputs": [],
   "source": [
    "# import libraries\n",
    "\n",
    "import yfinance as yf  # import data from web (financial time series)\n",
    "import numpy as np\n",
    "import pandas as pd\n",
    "import matplotlib.pyplot as plt  ## interactive data visualization\n",
    "\n",
    "# high-quality figures\n",
    "%config InlineBackend.figure_format = 'svg'\n"
   ]
  },
  {
   "cell_type": "markdown",
   "metadata": {},
   "source": [
    "## Import and visualize data"
   ]
  },
  {
   "cell_type": "code",
   "execution_count": null,
   "metadata": {
    "ExecuteTime": {
     "end_time": "2024-11-12T16:29:43.701384Z",
     "start_time": "2024-11-12T16:29:42.819940Z"
    },
    "id": "RoGIxEXZKjlF"
   },
   "outputs": [],
   "source": [
    "\n",
    "# historical stock price data for QQQ , from the period 2016 to 2024\n",
    "## QQQ - ticker for the biggest online retail companies (Amazon, Booking, Costco, Airbnb, eBay, etc)\n",
    "\n",
    "qqq = yf.Ticker(\"QQQ\")\n",
    "data = qqq.history(start=\"2016-01-01\", end=\"2024-10-31\")\n",
    "\n",
    "\n",
    "data.head()\n"
   ]
  },
  {
   "cell_type": "code",
   "execution_count": null,
   "metadata": {
    "ExecuteTime": {
     "end_time": "2024-11-12T16:29:49.573771Z",
     "start_time": "2024-11-12T16:29:49.364178Z"
    }
   },
   "outputs": [],
   "source": [
    "data.Close.plot();"
   ]
  },
  {
   "cell_type": "code",
   "execution_count": null,
   "metadata": {
    "ExecuteTime": {
     "end_time": "2024-11-12T16:30:07.111959Z",
     "start_time": "2024-11-12T16:30:06.900565Z"
    }
   },
   "outputs": [],
   "source": [
    "## visualize signal and moving average lines\n",
    "\n",
    "start_date = '2021-01-01'\n",
    "end_date = '2022-12-31'\n",
    "\n",
    "# Calculating the short-window simple moving average\n",
    "short_rolling = data.rolling(window=20).mean()\n",
    "short_rolling.head(20)\n",
    "\n",
    "# Calculating the long-window simple moving average\n",
    "long_rolling = data.rolling(window=100).mean()\n",
    "long_rolling.tail()\n",
    "\n",
    "\n",
    "fig, ax = plt.subplots(figsize=(8,5))\n",
    "\n",
    "ax.plot(data.loc[start_date:end_date, :].index, data.loc[start_date:end_date, 'Close'], label='QQQ Close Price')\n",
    "ax.plot(long_rolling.loc[start_date:end_date, :].index, long_rolling.loc[start_date:end_date, 'Close'], label = '100-days SMA')\n",
    "ax.plot(short_rolling.loc[start_date:end_date, :].index, short_rolling.loc[start_date:end_date, 'Close'], label = '20-days SMA')\n",
    "\n",
    "ax.legend(loc='best')\n",
    "ax.set_ylabel('Price in $')\n"
   ]
  },
  {
   "cell_type": "markdown",
   "metadata": {
    "id": "v5JsbWXtK9ac"
   },
   "source": [
    "## Define trading strategy and backtesting\n",
    "\n",
    "- Define a trading strategy: \n",
    "    - Buy when the price is above the 50-day moving average \n",
    "    - sell otherwise\n",
    "\n",
    "- To define a *moving average* (that is, smooth the data), we use the 'rolling' function and the window size (10 days, 20 days, 50 days, etc). We compute the mean of the last x values and roll this operations until the end of data. The resulting signal is smoother that the original data (highlight the trend and decrease the volatility)\n",
    "\n",
    "- When the price time series (signal) crosses the MA time series from below, we will close any existing short position and go long (buy) one unit of the asset.\n",
    "- When the price time series crosses the MA time series  from above, we will close any existing long position and go short (sell) one unit of the asset.\n",
    "\n",
    "`` data.rolling(window=20).mean()``\n",
    "\n",
    "- Backtesting: estimate (define some metrics, measure) the performance of the strategy\n",
    "- We need:\n",
    "    - log-returns (pct_change() function)\n",
    "    - cumulative log-returns\n",
    "    - variance - volatility\n",
    "    - Sharpe-ratio: measure the risk adjusted performance of an investment over time\n",
    "    - Value at Risk"
   ]
  },
  {
   "cell_type": "code",
   "execution_count": null,
   "metadata": {
    "ExecuteTime": {
     "end_time": "2024-11-12T16:37:50.610504Z",
     "start_time": "2024-11-12T16:37:50.607504Z"
    }
   },
   "outputs": [],
   "source": [
    "# Define the trading strategy\n",
    "def trading_strategy(data):\n",
    "    # Define your trading strategy based on the historical data\n",
    "    # Example: Buy when the price is above the 50-day moving average, sell otherwise\n",
    "    signals = pd.DataFrame(index=data.index)\n",
    "    signals['Signal'] = np.where(data['Close'] > data['Close'].rolling(window=50).mean(), 1, 0)\n",
    "    return signals"
   ]
  },
  {
   "cell_type": "code",
   "execution_count": null,
   "metadata": {
    "ExecuteTime": {
     "end_time": "2024-11-12T16:37:57.681559Z",
     "start_time": "2024-11-12T16:37:57.676559Z"
    }
   },
   "outputs": [],
   "source": [
    "# Perform backtesting\n",
    "def backtest(data, signals):\n",
    "    # Combine the historical data with the trading signals\n",
    "    df = pd.concat([data, signals], axis=1).dropna()\n",
    "\n",
    "    # Calculate daily returns\n",
    "    df['Return'] = df['Close'].pct_change()\n",
    "\n",
    "    # Calculate cumulative returns\n",
    "    df['Cumulative Return'] = (1 + df['Return']).cumprod()\n",
    "\n",
    "    # Calculate portfolio value\n",
    "    df['Portfolio Value'] = df['Cumulative Return'] * initial_investment\n",
    "\n",
    "    # Calculate risk-free rate (assumed to be 0 in this example)\n",
    "    risk_free_rate = 0\n",
    "\n",
    "    # Calculate metrics\n",
    "    num_trading_days = len(df)\n",
    "    returns = df['Return']\n",
    "    cumulative_returns = df['Cumulative Return']\n",
    "    portfolio_value = df['Portfolio Value']\n",
    "    annual_returns = (cumulative_returns[-1]) ** (252/num_trading_days) - 1\n",
    "    volatility = returns.std() * np.sqrt(252)  # Annualized volatility\n",
    "    sharpe_ratio = (annual_returns - risk_free_rate) / volatility\n",
    "    cagr = (cumulative_returns[-1]) ** (252/num_trading_days) - 1\n",
    "    # alpha, beta = np.polyfit(returns - risk_free_rate, market_returns - risk_free_rate, deg=1)\n",
    "    variance = returns.var() * 252\n",
    "    cvar = returns[returns <= np.percentile(returns, 5)].mean() * 252\n",
    "\n",
    "    return df, sharpe_ratio, cagr, cumulative_returns,  variance, cvar"
   ]
  },
  {
   "cell_type": "markdown",
   "metadata": {},
   "source": [
    "## Apply defined rules to data"
   ]
  },
  {
   "cell_type": "code",
   "execution_count": null,
   "metadata": {
    "ExecuteTime": {
     "end_time": "2024-11-12T16:38:04.552035Z",
     "start_time": "2024-11-12T16:38:04.546688Z"
    }
   },
   "outputs": [],
   "source": [
    "# Define initial investment amount\n",
    "initial_investment = 10000\n",
    "\n",
    "# Perform the trading strategy\n",
    "signals = trading_strategy(data)\n",
    "\n",
    "# Perform backtesting and calculate metrics\n",
    "backtest_results, sharpe_ratio, cagr, cumulative_returns,  variance, cvar = backtest(data, signals)"
   ]
  },
  {
   "cell_type": "code",
   "execution_count": null,
   "metadata": {
    "ExecuteTime": {
     "end_time": "2024-11-12T16:38:08.684348Z",
     "start_time": "2024-11-12T16:38:08.454069Z"
    }
   },
   "outputs": [],
   "source": [
    "# Plot the cumulative returns with entry and exit points\n",
    "plt.figure(figsize=(10, 6))\n",
    "plt.plot(backtest_results.index, cumulative_returns, label='Cumulative Returns')\n",
    "plt.scatter(backtest_results[backtest_results['Signal'] == 1].index, backtest_results[backtest_results['Signal'] == 1]['Cumulative Return'], color='green', s=8, label='Buy')\n",
    "plt.scatter(backtest_results[backtest_results['Signal'] == 0].index, backtest_results[backtest_results['Signal'] == 0]['Cumulative Return'], color='red',  s=8, label='Sell')\n",
    "plt.title('Cumulative Returns with Entry and Exit Points')\n",
    "plt.xlabel('Date')\n",
    "plt.ylabel('Cumulative Return')\n",
    "plt.legend()\n",
    "plt.grid(True)\n",
    "plt.show()\n"
   ]
  },
  {
   "cell_type": "code",
   "execution_count": null,
   "metadata": {
    "ExecuteTime": {
     "end_time": "2024-11-12T16:38:19.347941Z",
     "start_time": "2024-11-12T16:38:19.345111Z"
    }
   },
   "outputs": [],
   "source": [
    "# Print the calculated metrics\n",
    "print(f\"Sharpe Ratio: {sharpe_ratio:.2f}\")\n",
    "print(f\"CAGR: {cagr:.2%}\")\n",
    "print(f\"Cumulative Returns: {cumulative_returns[-1]:.2%}\")\n",
    "#print(f\"Alpha: {alpha:.4f}\")\n",
    "#print(f\"Beta: {beta:.4f}\")\n",
    "print(f\"Variance: {variance:.6f}\")\n",
    "print(f\"CVaR: {cvar:.6f}\")"
   ]
  },
  {
   "cell_type": "markdown",
   "metadata": {},
   "source": [
    "####################################################################\n",
    "\n",
    "- CAGR - Compound Annual Growth Rate - measures the average annual growth rate of an investment over a given period of time. \n",
    "- For example, if you invest 1000 dollars in a stock that has a 10% CAGR, your investment will grow to 1100 dollars after one year, 1210 dollars after two years, and so on.\n",
    "- The Sharpe ratio is a measure of risk-adjusted return. \n",
    "- For example, if an investment has a 10% return and a standard deviation of 5%, the Sharpe ratio would be 2. This means that the investment has a higher return than the benchmark, but with a lower level of risk. The Sharpe ratio is calculated as (R_a-R_b)/σ_a, where R_a is the expected return on the asset, R_b is the return on the risk-free asset, and σ_a is the standard deviation of the asset’s returns\n"
   ]
  },
  {
   "cell_type": "markdown",
   "metadata": {},
   "source": [
    "## Q-learning agent\n",
    "\n",
    "- Environment: the market including historical price data, relevant indicators, and other market factors.\n",
    "- State: the current market condition of the environment such as price, volume, or market information at a particular time.\n",
    "- Action: the trading action such as “buy” or “sell”.\n",
    "- Policy: the objective - such as maximizing returns, minimizing risk, or achieving a specific target.\n",
    "- Reward: This is the gains in the market.\n",
    "- The reinforcement learning agent: Develop an agent that learns to make trading decisions based on the observed environment state (Q-learning). \n",
    "\n",
    "- Epsilon-greedy policy is a RL algorithm that uses a greedy approach to make decisions. It works by choosing the action that has the highest expected reward.\n",
    "-  Q-learning update rule: multiply the current Q-value by a learning rate, and add a negative exponential decay term. \n",
    "\n",
    "- **Note**: we can incorporate human feedback in reinforcement learning for algorithmic trading - ongoing research area - **RLHF** (*reinforcement learning with human feedback*)"
   ]
  },
  {
   "cell_type": "code",
   "execution_count": null,
   "metadata": {
    "ExecuteTime": {
     "end_time": "2024-11-12T16:43:47.925673Z",
     "start_time": "2024-11-12T16:43:47.921673Z"
    }
   },
   "outputs": [],
   "source": [
    "# Define the Q-learning agent\n",
    "class QLearningAgent:\n",
    "    def __init__(self, num_states, num_actions, alpha, gamma):\n",
    "        self.num_states = num_states\n",
    "        self.num_actions = num_actions\n",
    "        self.alpha = alpha  # Learning rate\n",
    "        self.gamma = gamma  # Discount factor\n",
    "        self.q_table = np.zeros((num_states, num_actions))\n",
    "\n",
    "    def update_q_table(self, state, action, reward, next_state):\n",
    "        # Q-learning update rule\n",
    "        max_q_value = np.max(self.q_table[next_state])\n",
    "        self.q_table[state, action] += self.alpha * (reward + self.gamma * max_q_value - self.q_table[state, action])\n",
    "\n",
    "    def choose_action(self, state, epsilon):\n",
    "        # Epsilon-greedy policy for action selection\n",
    "        if np.random.uniform() < epsilon:\n",
    "            return np.random.choice(self.num_actions)\n",
    "        else:\n",
    "            return np.argmax(self.q_table[state])"
   ]
  },
  {
   "cell_type": "code",
   "execution_count": null,
   "metadata": {
    "ExecuteTime": {
     "end_time": "2024-11-12T16:43:48.708160Z",
     "start_time": "2024-11-12T16:43:48.701160Z"
    }
   },
   "outputs": [],
   "source": [
    "# Define the trading strategy with Q-learning and human feedback\n",
    "def trading_strategy(data, q_agent, entry_points, exit_points, initial_investment):\n",
    "    num_states = 2  # Number of states (0: out of the market, 1: in the market)\n",
    "    num_actions = 2  # Number of actions (0: no trade, 1: trade)\n",
    "\n",
    "    epsilon = 0.1  # Exploration rate\n",
    "    total_reward = 0  # Track total reward\n",
    "    portfolio_value = [initial_investment]  # Track portfolio value\n",
    "    trades = []  # Track executed trades\n",
    "\n",
    "    # Iterate over each trading day\n",
    "    for i in range(len(data) - 1):\n",
    "        state = 0 if portfolio_value[-1] == 0 else 1  # Current state\n",
    "\n",
    "        # Check if an entry point exists for the current day\n",
    "        if data.index[i] in entry_points:\n",
    "            # Get the recommended action for the current day from human feedback\n",
    "            action = entry_points[data.index[i]]\n",
    "\n",
    "            # Execute the recommended action\n",
    "            if action == 'BUY' and state == 0:\n",
    "                state = 1  # Enter the market\n",
    "                shares = portfolio_value[-1] / data['Close'][i]  # Buy as many shares as possible\n",
    "                trades.append(('BUY', data.index[i], data['Close'][i], shares))\n",
    "            elif action == 'SELL' and state == 1:\n",
    "                state = 0  # Exit the market\n",
    "                shares = portfolio_value[-1] / data['Close'][i]  # Sell all shares\n",
    "                trades.append(('SELL', data.index[i], data['Close'][i], shares))\n",
    "\n",
    "        # Calculate the reward based on the portfolio value change\n",
    "        reward = (portfolio_value[-1] - portfolio_value[-2]) / portfolio_value[-2] if i > 0 else 0\n",
    "        total_reward += reward\n",
    "\n",
    "        # Choose the action using epsilon-greedy policy\n",
    "        action = q_agent.choose_action(state, epsilon)\n",
    "\n",
    "        # Execute the action\n",
    "        if action == 1 and state == 0:\n",
    "            state = 1  # Enter the market\n",
    "            shares = portfolio_value[-1] / data['Close'][i]  # Buy as many shares as possible\n",
    "            trades.append(('BUY', data.index[i], data['Close'][i], shares))\n",
    "        elif action == 0 and state == 1:\n",
    "            state = 0  # Exit the market\n",
    "            shares = portfolio_value[-1] / data['Close'][i]  # Sell all shares\n",
    "            trades.append(('SELL', data.index[i], data['Close'][i], shares))\n",
    "\n",
    "        # Update the Q-table\n",
    "        next_state = 0 if state == 0 else 1  # Next state\n",
    "        q_agent.update_q_table(state, action, reward, next_state)\n",
    "\n",
    "        # Update the portfolio value\n",
    "        portfolio_value.append(shares * data['Close'][i])\n",
    "\n",
    "    return total_reward, portfolio_value, trades"
   ]
  },
  {
   "cell_type": "code",
   "execution_count": null,
   "metadata": {
    "ExecuteTime": {
     "end_time": "2024-11-12T16:43:49.667942Z",
     "start_time": "2024-11-12T16:43:49.564143Z"
    }
   },
   "outputs": [],
   "source": [
    "# Define the entry and exit points (example)\n",
    "entry_points = {\n",
    "    '2018-04-01': 'BUY',\n",
    "    '2018-05-01': 'SELL',\n",
    "    '2018-08-01': 'BUY',\n",
    "    '2018-09-01': 'SELL'\n",
    "}\n",
    "\n",
    "exit_points = {\n",
    "    '2018-05-01': 'SELL',\n",
    "    '2018-06-01': 'BUY',\n",
    "    '2018-09-01': 'SELL',\n",
    "    '2018-10-01': 'BUY'\n",
    "}\n",
    "\n",
    "# Set the initial investment\n",
    "initial_investment = 10000\n",
    "\n",
    "# Create the Q-learning agent\n",
    "q_agent = QLearningAgent(num_states=2, num_actions=2, alpha=0.2, gamma=0.9)\n",
    "\n",
    "# Apply the trading strategy\n",
    "total_reward, portfolio_value, trades = trading_strategy(data, q_agent, entry_points, exit_points, initial_investment)\n"
   ]
  },
  {
   "cell_type": "code",
   "execution_count": null,
   "metadata": {
    "ExecuteTime": {
     "end_time": "2024-11-12T16:43:50.810883Z",
     "start_time": "2024-11-12T16:43:50.628201Z"
    }
   },
   "outputs": [],
   "source": [
    "# Calculate metrics\n",
    "returns = np.diff(portfolio_value) / portfolio_value[:-1]\n",
    "sharpe_ratio = np.sqrt(252) * np.mean(returns) / np.std(returns)\n",
    "cagr = (portfolio_value[-1] / portfolio_value[0]) ** (252 / len(data)) - 1\n",
    "cumulative_returns = (portfolio_value[-1] - portfolio_value[0]) / portfolio_value[0]\n",
    "variance = np.var(returns)\n",
    "cvar = np.mean(returns[returns < np.percentile(returns, 5)])\n",
    "alpha, beta = np.polyfit(data['Close'].pct_change().dropna(), returns, deg=1)\n",
    "\n",
    "# Plot portfolio performance\n",
    "plt.figure(figsize=(10, 6))\n",
    "plt.plot(data.index, portfolio_value, label='Portfolio Value')\n",
    "plt.xlabel('Date')\n",
    "plt.ylabel('Value')\n",
    "plt.title('Portfolio Performance')\n",
    "plt.legend()\n",
    "plt.grid(True)\n",
    "plt.show()"
   ]
  },
  {
   "cell_type": "code",
   "execution_count": null,
   "metadata": {
    "ExecuteTime": {
     "end_time": "2024-11-12T16:43:54.497287Z",
     "start_time": "2024-11-12T16:43:54.492226Z"
    }
   },
   "outputs": [],
   "source": [
    "# Print metrics\n",
    "print('Metrics:')\n",
    "print(f'Sharpe Ratio: {sharpe_ratio:.3f}')\n",
    "print(f'CAGR: {cagr:.3f}')\n",
    "print(f'Cumulative Returns: {cumulative_returns:.3f}')\n",
    "print(f'Variance: {variance:.6f}')\n",
    "print(f'CVaR (Conditional Value at Risk): {cvar:.6f}')\n",
    "print(f'Alpha: {alpha:.6f}')\n",
    "print(f'Beta: {beta:.6f}')\n",
    "print(f'portfolio_value: {portfolio_value[-1]:.6f}')"
   ]
  },
  {
   "cell_type": "code",
   "execution_count": null,
   "metadata": {},
   "outputs": [],
   "source": []
  },
  {
   "cell_type": "markdown",
   "metadata": {},
   "source": [
    "## Gym-AnyTrading Environment\n",
    "\n",
    "-  OpenAI Gym environments for reinforcement learning-based trading algorithms.\n",
    "-  Implementing three Gym environments: TradingEnv, ForexEnv, and StocksEnv.\n",
    "    - TradingEnv is an abstract environment which is defined to support all kinds of trading environments. \n",
    "    - ForexEnv and StocksEnv are simply two environments that inherit and extend TradingEnv. \n",
    "\n",
    "- Methods (the usual for env):\n",
    "    - seed: Typical Gym seed method.\n",
    "    - reset: Typical Gym reset method.\n",
    "    - step: Typical Gym step method.\n",
    "    - render: Typical Gym render method. Renders the information of the environment's current tick.\n",
    "    - render_all: Renders the whole environment.\n",
    "    - close: Typical Gym close method.\n",
    "______________\n",
    "\n",
    "- The agent train on Sell=0 and Buy = 1 actions\n",
    "- Long position wants to buy shares when prices are low and profit by selling them while their value is going up\n",
    "- Short position wants to sell shares with high value and use this value to buy shares at a lower value, keeping the difference as profit.\n",
    "    - Short = 0, Long = 1\n",
    "    \n",
    "_________________\n",
    "\n",
    "- StocksEnv Properties:\n",
    "    - frame_bound: A tuple which specifies the start and end of df. It is passed in the class' constructor.\n",
    "    - trade_fee_bid_percent: A default constant fee percentage for bids. For example with trade_fee_bid_percent=0.01, you will lose 1% of your money every time you sell your shares.\n",
    "    - trade_fee_ask_percent: A default constant fee percentage for asks. For example with trade_fee_ask_percent=0.005, you will lose 0.5% of your money every time you buy some shares."
   ]
  },
  {
   "cell_type": "code",
   "execution_count": null,
   "metadata": {
    "ExecuteTime": {
     "end_time": "2024-11-12T15:56:41.498002Z",
     "start_time": "2024-11-12T15:56:41.495605Z"
    }
   },
   "outputs": [],
   "source": [
    "#!pip install gym-anytrading"
   ]
  },
  {
   "cell_type": "code",
   "execution_count": null,
   "metadata": {
    "ExecuteTime": {
     "end_time": "2024-11-12T15:56:43.533515Z",
     "start_time": "2024-11-12T15:56:43.099958Z"
    }
   },
   "outputs": [],
   "source": [
    "import gym\n",
    "import gymnasium as gym\n",
    "import gym_anytrading\n",
    "\n",
    "#env = gym.make('forex-v0')\n",
    "env = gym.make('stocks-v0')"
   ]
  },
  {
   "cell_type": "code",
   "execution_count": null,
   "metadata": {
    "ExecuteTime": {
     "end_time": "2024-11-12T15:57:13.575827Z",
     "start_time": "2024-11-12T15:57:13.570827Z"
    }
   },
   "outputs": [],
   "source": [
    "### create environment\n",
    "\n",
    "from gym_anytrading.datasets import FOREX_EURUSD_1H_ASK, STOCKS_GOOGL\n",
    "\n",
    "custom_env = gym.make(\n",
    "     'stocks-v0',\n",
    "     df=STOCKS_GOOGL,\n",
    "     window_size=10,\n",
    "     frame_bound=(10, 300)\n",
    " )"
   ]
  },
  {
   "cell_type": "code",
   "execution_count": null,
   "metadata": {
    "ExecuteTime": {
     "end_time": "2024-11-12T15:16:13.404718Z",
     "start_time": "2024-11-12T15:16:13.398453Z"
    }
   },
   "outputs": [],
   "source": [
    "print(\"env information:\")\n",
    "print(\"> shape:\", env.unwrapped.shape)\n",
    "print(\"> df.shape:\", env.unwrapped.df.shape)\n",
    "print(\"> prices.shape:\", env.unwrapped.prices.shape)\n",
    "print(\"> signal_features.shape:\", env.unwrapped.signal_features.shape)\n",
    "print(\"> max_possible_profit:\", env.unwrapped.max_possible_profit())\n",
    "\n",
    "print()\n",
    "print(\"custom_env information:\")\n",
    "print(\"> shape:\", custom_env.unwrapped.shape)\n",
    "print(\"> df.shape:\", custom_env.unwrapped.df.shape)\n",
    "print(\"> prices.shape:\", custom_env.unwrapped.prices.shape)\n",
    "print(\"> signal_features.shape:\", custom_env.unwrapped.signal_features.shape)\n",
    "print(\"> max_possible_profit:\", custom_env.unwrapped.max_possible_profit())"
   ]
  },
  {
   "cell_type": "code",
   "execution_count": null,
   "metadata": {},
   "outputs": [],
   "source": [
    "## Here max_possible_profit signifies that if the market didn't have trade fees, \n",
    "## you could have earned 5.1919 units of currency by starting with 1.0. \n",
    "## In other words, your money is almost quadrupled."
   ]
  },
  {
   "cell_type": "code",
   "execution_count": null,
   "metadata": {
    "ExecuteTime": {
     "end_time": "2024-11-12T15:59:00.356518Z",
     "start_time": "2024-11-12T15:58:59.942898Z"
    }
   },
   "outputs": [],
   "source": [
    "### plot the environment\n",
    "\n",
    "env.reset()\n",
    "env.render()"
   ]
  },
  {
   "cell_type": "code",
   "execution_count": null,
   "metadata": {},
   "outputs": [],
   "source": [
    "## Short and Long positions are shown in red and green colors.\n",
    "## As you see, the starting position of the environment is always Short."
   ]
  },
  {
   "cell_type": "code",
   "execution_count": null,
   "metadata": {
    "ExecuteTime": {
     "end_time": "2024-11-12T15:59:56.884953Z",
     "start_time": "2024-11-12T15:59:56.788584Z"
    }
   },
   "outputs": [],
   "source": [
    "### a complete example\n",
    "\n",
    "import numpy as np\n",
    "import matplotlib.pyplot as plt\n",
    "\n",
    "import gymnasium as gym\n",
    "import gym_anytrading\n",
    "from gym_anytrading.envs import TradingEnv, ForexEnv, StocksEnv, Actions, Positions \n",
    "from gym_anytrading.datasets import FOREX_EURUSD_1H_ASK, STOCKS_GOOGL\n",
    "\n",
    "\n",
    "env = gym.make('forex-v0', frame_bound=(50, 100), window_size=10)\n",
    "# env = gym.make('stocks-v0', frame_bound=(50, 100), window_size=10)\n",
    "\n",
    "observation = env.reset(seed=2023)\n",
    "while True:\n",
    "    action = env.action_space.sample()\n",
    "    observation, reward, terminated, truncated, info = env.step(action)\n",
    "    done = terminated or truncated\n",
    "\n",
    "    # env.render()\n",
    "    if done:\n",
    "        print(\"info:\", info)\n",
    "        break\n",
    "\n",
    "plt.cla()\n",
    "env.unwrapped.render_all()\n",
    "plt.show()"
   ]
  },
  {
   "cell_type": "markdown",
   "metadata": {},
   "source": [
    "- Use render_all method to avoid rendering on each step and prevent time-wasting.\n",
    "- The first 10 points (window_size=10) on the plot don't have a position. \n",
    "- They aren't involved in calculating reward, profit, etc. \n",
    "- They just display the first observations. \n",
    "- So the environment's _start_tick and initial _last_trade_tick are 10 and 9.\n",
    "\n",
    "__________________\n",
    "\n",
    "\n",
    "- To get more you can use gym_anytrading with other libraries, e.g., stable_baselines3 and quantstats"
   ]
  },
  {
   "cell_type": "code",
   "execution_count": null,
   "metadata": {
    "ExecuteTime": {
     "end_time": "2024-11-12T16:05:39.975114Z",
     "start_time": "2024-11-12T16:05:39.972113Z"
    }
   },
   "outputs": [],
   "source": [
    "#!pip install stable_baselines3"
   ]
  },
  {
   "cell_type": "code",
   "execution_count": null,
   "metadata": {
    "ExecuteTime": {
     "end_time": "2024-11-12T16:08:07.775110Z",
     "start_time": "2024-11-12T16:08:07.772110Z"
    }
   },
   "outputs": [],
   "source": [
    "#!pip install quantstats"
   ]
  },
  {
   "cell_type": "code",
   "execution_count": null,
   "metadata": {
    "ExecuteTime": {
     "end_time": "2024-11-12T16:08:11.467409Z",
     "start_time": "2024-11-12T16:08:08.692548Z"
    }
   },
   "outputs": [],
   "source": [
    "import numpy as np\n",
    "import pandas as pd\n",
    "import matplotlib.pyplot as plt\n",
    "\n",
    "import gymnasium as gym\n",
    "import gym_anytrading\n",
    "from gym_anytrading.envs import Actions\n",
    "\n",
    "from stable_baselines3 import A2C\n",
    "\n",
    "import quantstats as qs"
   ]
  },
  {
   "cell_type": "code",
   "execution_count": null,
   "metadata": {
    "ExecuteTime": {
     "end_time": "2024-11-12T16:08:32.312129Z",
     "start_time": "2024-11-12T16:08:32.308102Z"
    }
   },
   "outputs": [],
   "source": [
    "### create env\n",
    "df = gym_anytrading.datasets.STOCKS_GOOGL.copy()\n",
    "\n",
    "window_size = 10\n",
    "start_index = window_size\n",
    "end_index = len(df)\n",
    "\n",
    "env = gym.make(\n",
    "    'stocks-v0',\n",
    "    df=df,\n",
    "    window_size=window_size,\n",
    "    frame_bound=(start_index, end_index)\n",
    ")\n",
    "\n",
    "print(\"observation_space:\", env.observation_space)"
   ]
  },
  {
   "cell_type": "code",
   "execution_count": null,
   "metadata": {
    "ExecuteTime": {
     "end_time": "2024-11-12T16:09:08.275786Z",
     "start_time": "2024-11-12T16:09:07.132035Z"
    }
   },
   "outputs": [],
   "source": [
    "## train env (A2C algorithm)\n",
    "\n",
    "env.reset(seed=2023)\n",
    "model = A2C('MlpPolicy', env, verbose=0)\n",
    "model.learn(total_timesteps=1_000)\n"
   ]
  },
  {
   "cell_type": "code",
   "execution_count": null,
   "metadata": {
    "ExecuteTime": {
     "end_time": "2024-11-12T16:09:24.936959Z",
     "start_time": "2024-11-12T16:09:24.572527Z"
    }
   },
   "outputs": [],
   "source": [
    "### test env\n",
    "\n",
    "action_stats = {Actions.Sell: 0, Actions.Buy: 0}\n",
    "\n",
    "observation, info = env.reset(seed=2023)\n",
    "\n",
    "while True:\n",
    "    # action = env.action_space.sample()\n",
    "    action, _states = model.predict(observation)\n",
    "\n",
    "    action_stats[Actions(action)] += 1\n",
    "    observation, reward, terminated, truncated, info = env.step(action)\n",
    "    done = terminated or truncated\n",
    "\n",
    "    # env.render()\n",
    "    if done:\n",
    "        break\n",
    "\n",
    "env.close()\n",
    "\n",
    "print(\"action_stats:\", action_stats)\n",
    "print(\"info:\", info)"
   ]
  },
  {
   "cell_type": "code",
   "execution_count": null,
   "metadata": {
    "ExecuteTime": {
     "end_time": "2024-11-12T16:09:49.333043Z",
     "start_time": "2024-11-12T16:09:49.251534Z"
    }
   },
   "outputs": [],
   "source": [
    "### plot  results\n",
    "\n",
    "plt.figure(figsize=(10, 6))\n",
    "env.unwrapped.render_all()\n",
    "plt.show()"
   ]
  },
  {
   "cell_type": "code",
   "execution_count": null,
   "metadata": {
    "ExecuteTime": {
     "end_time": "2024-11-12T16:10:18.429353Z",
     "start_time": "2024-11-12T16:10:16.768512Z"
    }
   },
   "outputs": [],
   "source": [
    "### backtesting results\n",
    "\n",
    "qs.extend_pandas()\n",
    "\n",
    "net_worth = pd.Series(env.unwrapped.history['total_profit'], index=df.index[start_index+1:end_index])\n",
    "returns = net_worth.pct_change().iloc[1:]\n",
    "\n",
    "qs.reports.full(returns)\n",
    "qs.reports.html(returns, output='SB3_a2c_quantstats.html')"
   ]
  },
  {
   "cell_type": "code",
   "execution_count": null,
   "metadata": {},
   "outputs": [],
   "source": []
  }
 ],
 "metadata": {
  "colab": {
   "provenance": []
  },
  "hide_input": false,
  "kernelspec": {
   "display_name": "Python 3 (ipykernel)",
   "language": "python",
   "name": "python3"
  },
  "language_info": {
   "codemirror_mode": {
    "name": "ipython",
    "version": 3
   },
   "file_extension": ".py",
   "mimetype": "text/x-python",
   "name": "python",
   "nbconvert_exporter": "python",
   "pygments_lexer": "ipython3",
   "version": "3.12.3"
  },
  "latex_envs": {
   "LaTeX_envs_menu_present": true,
   "autoclose": false,
   "autocomplete": true,
   "bibliofile": "biblio.bib",
   "cite_by": "apalike",
   "current_citInitial": 1,
   "eqLabelWithNumbers": true,
   "eqNumInitial": 1,
   "hotkeys": {
    "equation": "Ctrl-E",
    "itemize": "Ctrl-I"
   },
   "labels_anchors": false,
   "latex_user_defs": false,
   "report_style_numbering": false,
   "user_envs_cfg": false
  },
  "nbTranslate": {
   "displayLangs": [
    "*"
   ],
   "hotkey": "alt-t",
   "langInMainMenu": true,
   "sourceLang": "en",
   "targetLang": "fr",
   "useGoogleTranslate": true
  },
  "toc": {
   "base_numbering": 1,
   "nav_menu": {},
   "number_sections": true,
   "sideBar": true,
   "skip_h1_title": false,
   "title_cell": "Table of Contents",
   "title_sidebar": "Contents",
   "toc_cell": false,
   "toc_position": {},
   "toc_section_display": true,
   "toc_window_display": false
  },
  "varInspector": {
   "cols": {
    "lenName": 16,
    "lenType": 16,
    "lenVar": 40
   },
   "kernels_config": {
    "python": {
     "delete_cmd_postfix": "",
     "delete_cmd_prefix": "del ",
     "library": "var_list.py",
     "varRefreshCmd": "print(var_dic_list())"
    },
    "r": {
     "delete_cmd_postfix": ") ",
     "delete_cmd_prefix": "rm(",
     "library": "var_list.r",
     "varRefreshCmd": "cat(var_dic_list()) "
    }
   },
   "types_to_exclude": [
    "module",
    "function",
    "builtin_function_or_method",
    "instance",
    "_Feature"
   ],
   "window_display": false
  }
 },
 "nbformat": 4,
 "nbformat_minor": 1
}
