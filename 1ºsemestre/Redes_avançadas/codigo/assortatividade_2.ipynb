{
 "cells": [
  {
   "cell_type": "code",
   "execution_count": 4,
   "metadata": {},
   "outputs": [],
   "source": [
    "import networkx as nx\n",
    "import numpy as np\n",
    "import matplotlib.pyplot as plt"
   ]
  },
  {
   "cell_type": "code",
   "execution_count": 5,
   "metadata": {},
   "outputs": [],
   "source": [
    "G_fb = nx.read_edgelist(r'facebook_combined.txt', create_using = nx.Graph(), nodetype=int)"
   ]
  },
  {
   "cell_type": "code",
   "execution_count": 9,
   "metadata": {},
   "outputs": [],
   "source": [
    "pos = nx.spring_layout(G_fb)\n",
    "betCent = nx.betweenness_centrality(G_fb, normalized=True, endpoints=True)\n",
    "node_color = [20000.0 * G_fb.degree(v) for v in G_fb]\n",
    "node_size =  [v * 10000 for v in betCent.values()]\n",
    "plt.figure(figsize=(20,20))\n",
    "nx.draw_networkx(G_fb, pos=pos, with_labels=False,                 node_color=node_color,                 node_size=node_size )\n",
    "plt.axis('off')\n",
    "plt.savefig(\"G_fb.png\", format=\"PNG\")\n",
    "plt.show()"
   ]
  },
  {
   "cell_type": "code",
   "execution_count": 6,
   "metadata": {},
   "outputs": [],
   "source": [
    "node_feats = {}\n",
    "\n",
    "filenames_id = ['0','107','348','414','686','698','1684','1912','3437','3980']\n",
    "for n_ in filenames_id:\n",
    "    #Import .feat file\n",
    "    feat_ = np.genfromtxt(r'features/'+n_+'.feat', delimiter=' ')\n",
    "    \n",
    "    #Import .featnames file\n",
    "    featnames_ = {}\n",
    "    featnames_file = open(r'features/'+n_+'.featnames', 'r') # Parse line by line (no delimiters)\n",
    "    for line in featnames_file:  # example line: '0 birthday;anonymized feature 376' --> split it at first space\n",
    "        spl = line.split(\" \", 1)\n",
    "        k = spl[0].replace('\\'','')\n",
    "        v = spl[1].replace('\\'','').replace('\\n','')\n",
    "        v_ = v.split(\"anonymized \", 1) # Split the feature into feature name (e.g. birthday) and feature value (e.g. anonymized feature 376)\n",
    "        v_name = v_[0].replace('\\'','')\n",
    "        v_value = v_[1].replace('\\'','')\n",
    "        v_value = \"anonymized \"+v_value\n",
    "        featnames_[k] = [v_name, v_value] # Build a dict of lists where list[0] is attribute key, list[1] is attribute value\n",
    "    featnames_file.close()\n",
    "\n",
    "    # Fill in a dict with nodes as key and their features (i.e. feat == 1)\n",
    "    for r in np.arange(0, feat_.shape[0], 1): # For each node in feat file\n",
    "        feat_row_ = feat_[r]\n",
    "        node_ = int(feat_row_[0])\n",
    "        # Check if node has already some features assigned\n",
    "        if node_ not in node_feats.keys():\n",
    "            feat_assigned_ = {}\n",
    "        else:\n",
    "            feat_assigned_ = node_feats[node_]\n",
    "        # Assign features to node_\n",
    "        for fc in np.arange(1, feat_.shape[1], 1): # For each column in feat file\n",
    "            if int(feat_row_[fc]) >= 1:\n",
    "                dic_k = str(fc-1)\n",
    "                if featnames_[dic_k][0] not in feat_assigned_.keys():\n",
    "                    feat_assigned_[featnames_[dic_k][0]] = featnames_[dic_k][1]\n",
    "        node_feats[node_] = feat_assigned_"
   ]
  },
  {
   "cell_type": "code",
   "execution_count": 7,
   "metadata": {},
   "outputs": [],
   "source": [
    "# Assign nodes attribute to the network created above : G_fb\n",
    "nx.set_node_attributes(G_fb, node_feats)"
   ]
  },
  {
   "cell_type": "code",
   "execution_count": 14,
   "metadata": {},
   "outputs": [
    {
     "data": {
      "text/plain": [
       "{'birthday;': 'anonymized feature 7',\n",
       " 'education;school;id;': 'anonymized feature 34',\n",
       " 'education;type;': 'anonymized feature 53',\n",
       " 'education;year;id;': 'anonymized feature 59',\n",
       " 'gender;': 'anonymized feature 78',\n",
       " 'languages;id;': 'anonymized feature 92',\n",
       " 'locale;': 'anonymized feature 126',\n",
       " 'location;id;': 'anonymized feature 132',\n",
       " 'work;employer;id;': 'anonymized feature 50',\n",
       " 'work;location;id;': 'anonymized feature 177',\n",
       " 'work;start_date;': 'anonymized feature 168'}"
      ]
     },
     "execution_count": 14,
     "metadata": {},
     "output_type": "execute_result"
    }
   ],
   "source": [
    "G_fb.nodes[200]"
   ]
  },
  {
   "cell_type": "code",
   "execution_count": 19,
   "metadata": {},
   "outputs": [
    {
     "name": "stdout",
     "output_type": "stream",
     "text": [
      "{'anonymized feature 78': {'anonymized feature 77': 36738, 'anonymized feature 78': 63528, None: 2336}, 'anonymized feature 77': {'anonymized feature 78': 36738, 'anonymized feature 77': 30980, None: 1822}, None: {'anonymized feature 78': 2336, 'anonymized feature 77': 1822, None: 168}}\n"
     ]
    }
   ],
   "source": [
    "print(nx.attribute_mixing_dict(G_fb, 'gender;')) # Display all possible attribute values"
   ]
  },
  {
   "cell_type": "code",
   "execution_count": 20,
   "metadata": {},
   "outputs": [
    {
     "name": "stdout",
     "output_type": "stream",
     "text": [
      "[[0.17555591 0.20818505 0.01032482]\n",
      " [0.20818505 0.35999728 0.01323753]\n",
      " [0.01032482 0.01323753 0.00095201]]\n"
     ]
    }
   ],
   "source": [
    "mapping_ = {'anonymized feature 77' : 0,\n",
    "            'anonymized feature 78' : 1,\n",
    "            None : 2}\n",
    "M_ = nx.attribute_mixing_matrix(G_fb, 'gender;', mapping = mapping_, normalized = True)\n",
    "print(M_)"
   ]
  },
  {
   "cell_type": "code",
   "execution_count": 11,
   "metadata": {},
   "outputs": [
    {
     "name": "stdout",
     "output_type": "stream",
     "text": [
      "0.0841148755492507\n",
      "0.0841148755492507\n"
     ]
    }
   ],
   "source": [
    "# NX computation\n",
    "print(nx.attribute_assortativity_coefficient(G_fb, 'gender;'))\n",
    "\n",
    "# Manual computation of the attribute assortativity coeff\n",
    "tr_ = np.trace(M_)\n",
    "Msq_ = np.sum(np.matmul(M_, M_))\n",
    "\n",
    "coeff_ = (tr_-Msq_)/(1-Msq_)\n",
    "print(coeff_)"
   ]
  },
  {
   "cell_type": "code",
   "execution_count": 21,
   "metadata": {},
   "outputs": [
    {
     "name": "stdout",
     "output_type": "stream",
     "text": [
      "{'locale;': 0.30071730395411966, 'last_name;': 0.2353780905744854, 'hometown;id;': 0.20157834193137472, 'birthday;': 0.17350650604874907, 'education;school;id;': 0.16575681549827262, 'work;projects;id;': 0.1303199573309532, 'location;id;': 0.11518068705251638, 'gender;': 0.0841148755492507, 'education;type;': 0.08015756256815627, 'education;concentration;id;': 0.07808419543141708, 'education;degree;id;': 0.07255949027183224, 'work;employer;id;': 0.060529138443159575, 'education;year;id;': 0.05819649918934245, 'name;': 0.04859836520325402, 'first_name;': 0.048404511230639276, 'work;location;id;': 0.04450251816796201, 'education;classes;id;': 0.04060297765897203, 'languages;id;': 0.035788680613727045, 'work;position;id;': 0.033296847835467235, 'middle_name;': 0.030235546013299645, 'education;with;id;': 0.02521084319459844, 'work;from;id;': 0.024495513969905777, 'work;with;id;': 0.02020192113136017, 'work;end_date;': 0.019672905714052162, 'work;start_date;': 0.01736876283936075, 'religion;': 0.016594944906271017, 'political;': -3.400165548743372e-05}\n"
     ]
    }
   ],
   "source": [
    "# Build a list of all possible attribute names\n",
    "attrs_ = []\n",
    "for n in node_feats.keys(): # Nodes id\n",
    "    for attr in node_feats[n].keys():\n",
    "        if attr not in attrs_:\n",
    "            attrs_.append(attr)\n",
    "\n",
    "# Measure coefficients for all attributes\n",
    "assort_coeff = {}\n",
    "\n",
    "for attr in attrs_:\n",
    "    coeff_ = nx.attribute_assortativity_coefficient(G_fb, attr)\n",
    "    assort_coeff[attr] = coeff_\n",
    "\n",
    "print(dict(sorted(assort_coeff.items(), key=lambda item: item[1], reverse=True)))"
   ]
  }
 ],
 "metadata": {
  "kernelspec": {
   "display_name": "base",
   "language": "python",
   "name": "python3"
  },
  "language_info": {
   "codemirror_mode": {
    "name": "ipython",
    "version": 3
   },
   "file_extension": ".py",
   "mimetype": "text/x-python",
   "name": "python",
   "nbconvert_exporter": "python",
   "pygments_lexer": "ipython3",
   "version": "3.12.6"
  }
 },
 "nbformat": 4,
 "nbformat_minor": 2
}
